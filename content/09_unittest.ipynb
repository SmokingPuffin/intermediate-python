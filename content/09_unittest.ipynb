{
 "cells": [
  {
   "cell_type": "markdown",
   "id": "26c1802d-2abe-4d3f-ac40-6a99acc1a55a",
   "metadata": {},
   "source": [
    "\\[<< [Building command line interface](./08_argparse/09_argparse.ipynb) | [Index](./00_index.ipynb) | [Multithreading and Multiprocessing](./10_concurrency.ipynb) >>\\]\n"
   ]
  },
  {
   "cell_type": "markdown",
   "id": "82ef09d5-9174-4400-a47b-4f9d848740c0",
   "metadata": {},
   "source": [
    "# Unit Testing"
   ]
  },
  {
   "cell_type": "code",
   "execution_count": 1,
   "id": "6836536d-2b8b-4c11-8676-f94db5baa5d8",
   "metadata": {},
   "outputs": [],
   "source": [
    "%load_ext save_and_exec_magic"
   ]
  },
  {
   "cell_type": "code",
   "execution_count": 2,
   "id": "862b2eff-0469-4a3b-ab34-3e6066e55b3f",
   "metadata": {
    "tags": []
   },
   "outputs": [
    {
     "data": {
      "text/html": [
       "<pre style='color: red;'>F\n",
       "======================================================================\n",
       "FAIL: test_something (tmp.ExampleTest.test_something)\n",
       "----------------------------------------------------------------------\n",
       "Traceback (most recent call last):\n",
       "  File \"c:\\Users\\bhmiller\\OneDrive - Intel Corporation\\Documents\\GitHub\\intermediate-python\\content\\tmp.py\", line 6, in test_something\n",
       "    self.assertEqual(val, 5)\n",
       "AssertionError: 1 != 5\n",
       "\n",
       "----------------------------------------------------------------------\n",
       "Ran 1 test in 0.001s\n",
       "\n",
       "FAILED (failures=1)\n",
       "</pre>"
      ],
      "text/plain": [
       "<IPython.core.display.HTML object>"
      ]
     },
     "metadata": {},
     "output_type": "display_data"
    }
   ],
   "source": [
    "%%save_and_run_magic unittest\n",
    "import unittest\n",
    "\n",
    "class ExampleTest(unittest.TestCase):\n",
    "    def test_something(self):\n",
    "        val = 1\n",
    "        self.assertEqual(val, 5)"
   ]
  },
  {
   "cell_type": "code",
   "execution_count": 5,
   "id": "e32280ad-2854-44fc-b6ba-2ff008b79a7a",
   "metadata": {},
   "outputs": [
    {
     "name": "stdout",
     "output_type": "stream",
     "text": [
      "Collecting pytest\n",
      "  Downloading pytest-7.4.3-py3-none-any.whl.metadata (7.9 kB)\n",
      "Collecting iniconfig (from pytest)\n",
      "  Downloading iniconfig-2.0.0-py3-none-any.whl (5.9 kB)\n",
      "Requirement already satisfied: packaging in c:\\users\\bhmiller\\appdata\\local\\packages\\pythonsoftwarefoundation.python.3.11_qbz5n2kfra8p0\\localcache\\local-packages\\python311\\site-packages (from pytest) (23.2)\n",
      "Collecting pluggy<2.0,>=0.12 (from pytest)\n",
      "  Downloading pluggy-1.3.0-py3-none-any.whl.metadata (4.3 kB)\n",
      "Requirement already satisfied: colorama in c:\\users\\bhmiller\\appdata\\local\\packages\\pythonsoftwarefoundation.python.3.11_qbz5n2kfra8p0\\localcache\\local-packages\\python311\\site-packages (from pytest) (0.4.6)\n",
      "Downloading pytest-7.4.3-py3-none-any.whl (325 kB)\n",
      "   ---------------------------------------- 0.0/325.1 kB ? eta -:--:--\n",
      "   --- ----------------------------------- 30.7/325.1 kB 660.6 kB/s eta 0:00:01\n",
      "   --------------- ------------------------ 122.9/325.1 kB 1.4 MB/s eta 0:00:01\n",
      "   ---------------------------------- ----- 276.5/325.1 kB 2.4 MB/s eta 0:00:01\n",
      "   ---------------------------------------- 325.1/325.1 kB 2.2 MB/s eta 0:00:00\n",
      "Downloading pluggy-1.3.0-py3-none-any.whl (18 kB)\n",
      "Installing collected packages: pluggy, iniconfig, pytest\n",
      "Successfully installed iniconfig-2.0.0 pluggy-1.3.0 pytest-7.4.3\n",
      "Collecting pytest\n",
      "  Downloading pytest-7.4.3-py3-none-any.whl.metadata (7.9 kB)\n",
      "Collecting iniconfig (from pytest)\n",
      "  Downloading iniconfig-2.0.0-py3-none-any.whl (5.9 kB)\n",
      "Requirement already satisfied: packaging in c:\\users\\bhmiller\\appdata\\local\\packages\\pythonsoftwarefoundation.python.3.11_qbz5n2kfra8p0\\localcache\\local-packages\\python311\\site-packages (from pytest) (23.2)\n",
      "Collecting pluggy<2.0,>=0.12 (from pytest)\n",
      "  Downloading pluggy-1.3.0-py3-none-any.whl.metadata (4.3 kB)\n",
      "Requirement already satisfied: colorama in c:\\users\\bhmiller\\appdata\\local\\packages\\pythonsoftwarefoundation.python.3.11_qbz5n2kfra8p0\\localcache\\local-packages\\python311\\site-packages (from pytest) (0.4.6)\n",
      "Downloading pytest-7.4.3-py3-none-any.whl (325 kB)\n",
      "   ---------------------------------------- 0.0/325.1 kB ? eta -:--:--\n",
      "   - -------------------------------------- 10.2/325.1 kB ? eta -:--:--\n",
      "   -------- ------------------------------ 71.7/325.1 kB 787.7 kB/s eta 0:00:01\n",
      "   --------------------------- ------------ 225.3/325.1 kB 2.0 MB/s eta 0:00:01\n",
      "   ---------------------------------------- 325.1/325.1 kB 2.0 MB/s eta 0:00:00\n",
      "Downloading pluggy-1.3.0-py3-none-any.whl (18 kB)\n",
      "Installing collected packages: pluggy, iniconfig, pytest\n",
      "Successfully installed iniconfig-2.0.0 pluggy-1.3.0 pytest-7.4.3\n"
     ]
    },
    {
     "name": "stderr",
     "output_type": "stream",
     "text": [
      "WARNING: Retrying (Retry(total=4, connect=None, read=None, redirect=None, status=None)) after connection broken by 'NewConnectionError('<pip._vendor.urllib3.connection.HTTPSConnection object at 0x0000027A4848ACD0>: Failed to establish a new connection: [WinError 10051] A socket operation was attempted to an unreachable network')': /simple/pytest/\n",
      "WARNING: Retrying (Retry(total=3, connect=None, read=None, redirect=None, status=None)) after connection broken by 'NewConnectionError('<pip._vendor.urllib3.connection.HTTPSConnection object at 0x0000027A4A64CB10>: Failed to establish a new connection: [Errno 11004] getaddrinfo failed')': /simple/pytest/\n",
      "WARNING: Retrying (Retry(total=2, connect=None, read=None, redirect=None, status=None)) after connection broken by 'NewConnectionError('<pip._vendor.urllib3.connection.HTTPSConnection object at 0x0000027A4A64E690>: Failed to establish a new connection: [Errno 11004] getaddrinfo failed')': /simple/pytest/\n",
      "WARNING: Retrying (Retry(total=4, connect=None, read=None, redirect=None, status=None)) after connection broken by 'NewConnectionError('<pip._vendor.urllib3.connection.HTTPSConnection object at 0x000001ECE9C3BE90>: Failed to establish a new connection: [WinError 10051] A socket operation was attempted to an unreachable network')': /simple/pytest/\n",
      "WARNING: Retrying (Retry(total=3, connect=None, read=None, redirect=None, status=None)) after connection broken by 'NewConnectionError('<pip._vendor.urllib3.connection.HTTPSConnection object at 0x000001ECED141510>: Failed to establish a new connection: [Errno 11004] getaddrinfo failed')': /simple/pytest/\n",
      "WARNING: Retrying (Retry(total=2, connect=None, read=None, redirect=None, status=None)) after connection broken by 'NewConnectionError('<pip._vendor.urllib3.connection.HTTPSConnection object at 0x000001ECED141ED0>: Failed to establish a new connection: [Errno 11004] getaddrinfo failed')': /simple/pytest/\n"
     ]
    },
    {
     "name": "stdout",
     "output_type": "stream",
     "text": [
      "Requirement already satisfied: pytest in c:\\users\\bhmiller\\appdata\\local\\packages\\pythonsoftwarefoundation.python.3.11_qbz5n2kfra8p0\\localcache\\local-packages\\python311\\site-packages (7.4.3)\n",
      "Requirement already satisfied: iniconfig in c:\\users\\bhmiller\\appdata\\local\\packages\\pythonsoftwarefoundation.python.3.11_qbz5n2kfra8p0\\localcache\\local-packages\\python311\\site-packages (from pytest) (2.0.0)\n",
      "Requirement already satisfied: packaging in c:\\users\\bhmiller\\appdata\\local\\packages\\pythonsoftwarefoundation.python.3.11_qbz5n2kfra8p0\\localcache\\local-packages\\python311\\site-packages (from pytest) (23.2)\n",
      "Requirement already satisfied: pluggy<2.0,>=0.12 in c:\\users\\bhmiller\\appdata\\local\\packages\\pythonsoftwarefoundation.python.3.11_qbz5n2kfra8p0\\localcache\\local-packages\\python311\\site-packages (from pytest) (1.3.0)\n",
      "Requirement already satisfied: colorama in c:\\users\\bhmiller\\appdata\\local\\packages\\pythonsoftwarefoundation.python.3.11_qbz5n2kfra8p0\\localcache\\local-packages\\python311\\site-packages (from pytest) (0.4.6)\n",
      "Note: you may need to restart the kernel to use updated packages.\n"
     ]
    }
   ],
   "source": [
    "%pip install pytest"
   ]
  },
  {
   "cell_type": "markdown",
   "id": "0251d9fe-4bc8-4a7f-a52f-31248a9e5be9",
   "metadata": {},
   "source": [
    "Similar thing in pytest:"
   ]
  },
  {
   "cell_type": "code",
   "execution_count": 6,
   "id": "38fd0a98-c5d9-448e-bd00-e7fded8d9aee",
   "metadata": {},
   "outputs": [
    {
     "data": {
      "text/html": [
       "<pre>============================= test session starts =============================\n",
       "platform win32 -- Python 3.11.6, pytest-7.4.3, pluggy-1.3.0\n",
       "rootdir: c:\\Users\\bhmiller\\OneDrive - Intel Corporation\\Documents\\GitHub\\intermediate-python\\content\n",
       "collected 1 item\n",
       "\n",
       "tmp.py F                                                                 [100%]\n",
       "\n",
       "================================== FAILURES ===================================\n",
       "_______________________________ test_something ________________________________\n",
       "\n",
       "    def test_something():\n",
       "        val = 1\n",
       ">       assert val == 5\n",
       "E       assert 1 == 5\n",
       "\n",
       "tmp.py:3: AssertionError\n",
       "=========================== short test summary info ===========================\n",
       "FAILED tmp.py::test_something - assert 1 == 5\n",
       "============================== 1 failed in 0.10s ==============================\n",
       "</pre>"
      ],
      "text/plain": [
       "<IPython.core.display.HTML object>"
      ]
     },
     "metadata": {},
     "output_type": "display_data"
    }
   ],
   "source": [
    "%%save_and_run_magic pytest\n",
    "def test_something():\n",
    "    val = 1\n",
    "    assert val == 5"
   ]
  },
  {
   "cell_type": "markdown",
   "id": "bca98315-5b08-4a93-95e5-9e621946f4be",
   "metadata": {},
   "source": [
    "1. Pytest provides clear breakdowns of test results, including the value of `val`, even though it uses the Python assert statement. This allows for easy identification of test failures and their specific details.\n",
    "\n",
    "2. Pytest does not require setting up a class for test cases, although you have the option to use classes if needed. This makes writing tests more straightforward and less verbose compared to some other testing frameworks.\n",
    "\n",
    "3. Unlike other testing frameworks that have numerous `self.assert*` functions for different assertions, pytest simplifies the process by using the familiar Python assert statement for making assertions in tests.\n",
    "\n",
    "4. Pytest is versatile and can run not only pytest-specific tests but also unittest tests and tests written for the old nose package. This makes it compatible with various testing frameworks, providing flexibility to developers."
   ]
  },
  {
   "cell_type": "markdown",
   "id": "4aa32472-ae68-469f-bc60-23f1a5a38204",
   "metadata": {},
   "source": [
    "## Practice TDD"
   ]
  },
  {
   "cell_type": "code",
   "execution_count": 7,
   "id": "1132e4b0-ddd6-486a-bbf2-eb3315046d2a",
   "metadata": {},
   "outputs": [
    {
     "data": {
      "text/html": [
       "<pre>============================= test session starts =============================\n",
       "platform win32 -- Python 3.11.6, pytest-7.4.3, pluggy-1.3.0\n",
       "rootdir: c:\\Users\\bhmiller\\OneDrive - Intel Corporation\\Documents\\GitHub\\intermediate-python\\content\n",
       "collected 1 item\n",
       "\n",
       "tmp.py F                                                                 [100%]\n",
       "\n",
       "================================== FAILURES ===================================\n",
       "__________________________________ test_add ___________________________________\n",
       "\n",
       "    def test_add():\n",
       ">       assert add(1, 2) == 3\n",
       "E       assert None == 3\n",
       "E        +  where None = add(1, 2)\n",
       "\n",
       "tmp.py:6: AssertionError\n",
       "=========================== short test summary info ===========================\n",
       "FAILED tmp.py::test_add - assert None == 3\n",
       "============================== 1 failed in 0.07s ==============================\n",
       "</pre>"
      ],
      "text/plain": [
       "<IPython.core.display.HTML object>"
      ]
     },
     "metadata": {},
     "output_type": "display_data"
    }
   ],
   "source": [
    "%%save_and_run_magic pytest\n",
    "def add(num1, num2):\n",
    "    pass\n",
    "\n",
    "\n",
    "def test_add():\n",
    "    assert add(1, 2) == 3"
   ]
  },
  {
   "cell_type": "code",
   "execution_count": 8,
   "id": "6965ab16-7184-4672-bbdc-b15ee11be477",
   "metadata": {},
   "outputs": [
    {
     "data": {
      "text/html": [
       "<pre>============================= test session starts =============================\n",
       "platform win32 -- Python 3.11.6, pytest-7.4.3, pluggy-1.3.0\n",
       "rootdir: c:\\Users\\bhmiller\\OneDrive - Intel Corporation\\Documents\\GitHub\\intermediate-python\\content\n",
       "collected 1 item\n",
       "\n",
       "tmp.py .                                                                 [100%]\n",
       "\n",
       "============================== 1 passed in 0.01s ==============================\n",
       "</pre>"
      ],
      "text/plain": [
       "<IPython.core.display.HTML object>"
      ]
     },
     "metadata": {},
     "output_type": "display_data"
    }
   ],
   "source": [
    "%%save_and_run_magic pytest\n",
    "def add(num1, num2):\n",
    "    return num1 + num2\n",
    "\n",
    "\n",
    "def test_add():\n",
    "    assert add(1, 2) == 3"
   ]
  },
  {
   "cell_type": "markdown",
   "id": "afc24de2-1c49-428e-a097-932782732474",
   "metadata": {},
   "source": [
    "## Use `pytest.approx` for float operation"
   ]
  },
  {
   "cell_type": "code",
   "execution_count": 9,
   "id": "498cb615-4747-415a-b2e2-9ba20e2d6151",
   "metadata": {},
   "outputs": [
    {
     "data": {
      "text/html": [
       "<pre>============================= test session starts =============================\n",
       "platform win32 -- Python 3.11.6, pytest-7.4.3, pluggy-1.3.0\n",
       "rootdir: c:\\Users\\bhmiller\\OneDrive - Intel Corporation\\Documents\\GitHub\\intermediate-python\\content\n",
       "collected 2 items\n",
       "\n",
       "tmp.py .F                                                                [100%]\n",
       "\n",
       "================================== FAILURES ===================================\n",
       "_______________________________ test_add_float ________________________________\n",
       "\n",
       "    def test_add_float():\n",
       ">       assert add(0.1, 0.2) == 0.3\n",
       "E       assert 0.30000000000000004 == 0.3\n",
       "E        +  where 0.30000000000000004 = add(0.1, 0.2)\n",
       "\n",
       "tmp.py:9: AssertionError\n",
       "=========================== short test summary info ===========================\n",
       "FAILED tmp.py::test_add_float - assert 0.30000000000000004 == 0.3\n",
       "========================= 1 failed, 1 passed in 0.14s =========================\n",
       "</pre>"
      ],
      "text/plain": [
       "<IPython.core.display.HTML object>"
      ]
     },
     "metadata": {},
     "output_type": "display_data"
    }
   ],
   "source": [
    "%%save_and_run_magic pytest\n",
    "def add(num1, num2):\n",
    "    return num1 + num2\n",
    "\n",
    "\n",
    "def test_add():\n",
    "    assert add(1, 2) == 3\n",
    "\n",
    "def test_add_float():\n",
    "    assert add(0.1, 0.2) == 0.3"
   ]
  },
  {
   "cell_type": "code",
   "execution_count": 10,
   "id": "e8957e45-7538-42d7-b1d9-30c2e1d08368",
   "metadata": {},
   "outputs": [
    {
     "data": {
      "text/html": [
       "<pre>============================= test session starts =============================\n",
       "platform win32 -- Python 3.11.6, pytest-7.4.3, pluggy-1.3.0\n",
       "rootdir: c:\\Users\\bhmiller\\OneDrive - Intel Corporation\\Documents\\GitHub\\intermediate-python\\content\n",
       "collected 2 items\n",
       "\n",
       "tmp.py ..                                                                [100%]\n",
       "\n",
       "============================== 2 passed in 0.02s ==============================\n",
       "</pre>"
      ],
      "text/plain": [
       "<IPython.core.display.HTML object>"
      ]
     },
     "metadata": {},
     "output_type": "display_data"
    }
   ],
   "source": [
    "%%save_and_run_magic pytest\n",
    "def add(num1, num2):\n",
    "    return num1 + num2\n",
    "\n",
    "import pytest\n",
    "\n",
    "def test_add():\n",
    "    assert add(1, 2) == 3\n",
    "\n",
    "def test_add_float():\n",
    "    assert add(0.1, 0.2) == pytest.approx(0.3)"
   ]
  },
  {
   "cell_type": "markdown",
   "id": "94be61f3-47d3-47ff-bc98-6006aa56f2d3",
   "metadata": {},
   "source": [
    "## Use `pytest.mark.parametrize` for handling unit test which have similar parameters"
   ]
  },
  {
   "cell_type": "code",
   "execution_count": 11,
   "id": "5e3735bb-d685-40ab-b1a6-179097ac44e3",
   "metadata": {},
   "outputs": [
    {
     "data": {
      "text/html": [
       "<pre>============================= test session starts =============================\n",
       "platform win32 -- Python 3.11.6, pytest-7.4.3, pluggy-1.3.0\n",
       "rootdir: c:\\Users\\bhmiller\\OneDrive - Intel Corporation\\Documents\\GitHub\\intermediate-python\\content\n",
       "collected 2 items\n",
       "\n",
       "tmp.py ..                                                                [100%]\n",
       "\n",
       "============================== 2 passed in 0.01s ==============================\n",
       "</pre>"
      ],
      "text/plain": [
       "<IPython.core.display.HTML object>"
      ]
     },
     "metadata": {},
     "output_type": "display_data"
    }
   ],
   "source": [
    "%%save_and_run_magic pytest\n",
    "def add(num1, num2):\n",
    "    return num1 + num2\n",
    "\n",
    "\n",
    "import pytest\n",
    "\n",
    "\n",
    "@pytest.mark.parametrize(\n",
    "    ('input_arg', 'expected'),\n",
    "    (\n",
    "        ((1, 2), 3),\n",
    "        ((0.1, 0.2), 0.3),\n",
    "    ),\n",
    ")\n",
    "def test_add(input_arg, expected):\n",
    "    assert add(*input_arg) == pytest.approx(expected)\n"
   ]
  },
  {
   "cell_type": "code",
   "execution_count": 12,
   "id": "a0d62060-a4ab-4d26-bb73-7a4ed238a917",
   "metadata": {},
   "outputs": [
    {
     "data": {
      "text/html": [
       "<pre>============================= test session starts =============================\n",
       "platform win32 -- Python 3.11.6, pytest-7.4.3, pluggy-1.3.0 -- C:\\Users\\bhmiller\\AppData\\Local\\Microsoft\\WindowsApps\\PythonSoftwareFoundation.Python.3.11_qbz5n2kfra8p0\\python.exe\n",
       "cachedir: .pytest_cache\n",
       "rootdir: c:\\Users\\bhmiller\\OneDrive - Intel Corporation\\Documents\\GitHub\\intermediate-python\\content\n",
       "collecting ... collected 2 items\n",
       "\n",
       "tmp.py::test_add[input_arg0-3] PASSED                                    [ 50%]\n",
       "tmp.py::test_add[input_arg1-0.3] PASSED                                  [100%]\n",
       "\n",
       "============================== 2 passed in 0.02s ==============================\n",
       "</pre>"
      ],
      "text/plain": [
       "<IPython.core.display.HTML object>"
      ]
     },
     "metadata": {},
     "output_type": "display_data"
    }
   ],
   "source": [
    "%%save_and_run_magic pytest -v\n",
    "def add(num1, num2):\n",
    "    return num1 + num2\n",
    "\n",
    "\n",
    "import pytest\n",
    "\n",
    "\n",
    "@pytest.mark.parametrize(\n",
    "    ('input_arg', 'expected'),\n",
    "    (\n",
    "        ((1, 2), 3),\n",
    "        ((0.1, 0.2), 0.3),\n",
    "    ),\n",
    ")\n",
    "def test_add(input_arg, expected):\n",
    "    assert add(*input_arg) == pytest.approx(expected)\n"
   ]
  },
  {
   "cell_type": "markdown",
   "id": "f72e94fb-ba01-4557-b3af-e2720a98dc90",
   "metadata": {},
   "source": [
    "By default any print statement inside test function will not show up. If your want them use `-s` flag."
   ]
  },
  {
   "cell_type": "code",
   "execution_count": 13,
   "id": "252781d2-a153-42da-9dc7-9345aa9f3b98",
   "metadata": {},
   "outputs": [
    {
     "data": {
      "text/html": [
       "<pre>============================= test session starts =============================\n",
       "platform win32 -- Python 3.11.6, pytest-7.4.3, pluggy-1.3.0 -- C:\\Users\\bhmiller\\AppData\\Local\\Microsoft\\WindowsApps\\PythonSoftwareFoundation.Python.3.11_qbz5n2kfra8p0\\python.exe\n",
       "cachedir: .pytest_cache\n",
       "rootdir: c:\\Users\\bhmiller\\OneDrive - Intel Corporation\\Documents\\GitHub\\intermediate-python\\content\n",
       "collecting ... collected 2 items\n",
       "\n",
       "tmp.py::test_add[input_arg0-3] \n",
       "input_arg = (1, 2), expected = 3\n",
       "PASSED\n",
       "tmp.py::test_add[input_arg1-0.3] \n",
       "input_arg = (0.1, 0.2), expected = 0.3\n",
       "PASSED\n",
       "\n",
       "============================== 2 passed in 0.02s ==============================\n",
       "</pre>"
      ],
      "text/plain": [
       "<IPython.core.display.HTML object>"
      ]
     },
     "metadata": {},
     "output_type": "display_data"
    }
   ],
   "source": [
    "%%save_and_run_magic pytest -vs\n",
    "def add(num1, num2):\n",
    "    return num1 + num2\n",
    "\n",
    "\n",
    "import pytest\n",
    "\n",
    "\n",
    "@pytest.mark.parametrize(\n",
    "    ('input_arg', 'expected'),\n",
    "    (\n",
    "        ((1, 2), 3),\n",
    "        ((0.1, 0.2), 0.3),\n",
    "    ),\n",
    ")\n",
    "def test_add(input_arg, expected):\n",
    "    print(f\"\\n{input_arg = }, {expected = }\")\n",
    "    assert add(*input_arg) == pytest.approx(expected)\n"
   ]
  },
  {
   "cell_type": "markdown",
   "id": "5bd106f0-7ed9-472d-8e74-8936a30a461a",
   "metadata": {},
   "source": [
    "Use `pytest.raises` to check if an expected exception is raised"
   ]
  },
  {
   "cell_type": "code",
   "execution_count": 14,
   "id": "0f0f4466-24a3-4e88-8961-0977722efd9a",
   "metadata": {},
   "outputs": [
    {
     "data": {
      "text/html": [
       "<pre>============================= test session starts =============================\n",
       "platform win32 -- Python 3.11.6, pytest-7.4.3, pluggy-1.3.0 -- C:\\Users\\bhmiller\\AppData\\Local\\Microsoft\\WindowsApps\\PythonSoftwareFoundation.Python.3.11_qbz5n2kfra8p0\\python.exe\n",
       "cachedir: .pytest_cache\n",
       "rootdir: c:\\Users\\bhmiller\\OneDrive - Intel Corporation\\Documents\\GitHub\\intermediate-python\\content\n",
       "collecting ... collected 1 item\n",
       "\n",
       "tmp.py::test_raises PASSED                                               [100%]\n",
       "\n",
       "============================== 1 passed in 0.00s ==============================\n",
       "</pre>"
      ],
      "text/plain": [
       "<IPython.core.display.HTML object>"
      ]
     },
     "metadata": {},
     "output_type": "display_data"
    }
   ],
   "source": [
    "%%save_and_run_magic pytest -v\n",
    "import pytest\n",
    "\n",
    "def test_raises():\n",
    "    with pytest.raises(ZeroDivisionError):\n",
    "        1 / 0"
   ]
  },
  {
   "cell_type": "markdown",
   "id": "99f7094e-7541-4e5a-97ed-ad1e5ee4d819",
   "metadata": {},
   "source": [
    "## pytest fixtures\n",
    "\n",
    "- Pytest fixtures are functions used in tests for setup, teardown, and handling resources.\n",
    "- They are recognized by names in test functions and automatically invoked by pytest.\n",
    "- Fixtures centralize setup logic, making tests modular, reusable, and maintainable.\n",
    "- Pytest provides built-in fixtures and allows custom fixtures to enhance testing capabilities.\n",
    "- Fixtures support parameterization and different scopes for precise control over their usage."
   ]
  },
  {
   "cell_type": "markdown",
   "id": "06c222a5-f1b6-46c5-9c30-c0dc447472af",
   "metadata": {},
   "source": [
    "### fixture as data"
   ]
  },
  {
   "cell_type": "code",
   "execution_count": 15,
   "id": "de096fb9-fba3-4a2d-ad88-3db4605212fa",
   "metadata": {},
   "outputs": [
    {
     "data": {
      "text/html": [
       "<pre>============================= test session starts =============================\n",
       "platform win32 -- Python 3.11.6, pytest-7.4.3, pluggy-1.3.0 -- C:\\Users\\bhmiller\\AppData\\Local\\Microsoft\\WindowsApps\\PythonSoftwareFoundation.Python.3.11_qbz5n2kfra8p0\\python.exe\n",
       "cachedir: .pytest_cache\n",
       "rootdir: c:\\Users\\bhmiller\\OneDrive - Intel Corporation\\Documents\\GitHub\\intermediate-python\\content\n",
       "collecting ... collected 2 items\n",
       "\n",
       "tmp.py::test_addition PASSED                                             [ 50%]\n",
       "tmp.py::test_subtraction PASSED                                          [100%]\n",
       "\n",
       "============================== 2 passed in 0.01s ==============================\n",
       "</pre>"
      ],
      "text/plain": [
       "<IPython.core.display.HTML object>"
      ]
     },
     "metadata": {},
     "output_type": "display_data"
    }
   ],
   "source": [
    "%%save_and_run_magic pytest -v\n",
    "class Calculator:\n",
    "    def add(self, a, b):\n",
    "        return a + b\n",
    "\n",
    "    def subtract(self, a, b):\n",
    "        return a - b\n",
    "\n",
    "def test_addition():\n",
    "    calc = Calculator()\n",
    "    result = calc.add(5, 10)\n",
    "    assert result == 15\n",
    "\n",
    "def test_subtraction():\n",
    "    calc = Calculator()\n",
    "    result = calc.subtract(20, 8)\n",
    "    assert result == 12"
   ]
  },
  {
   "cell_type": "code",
   "execution_count": 16,
   "id": "041a810b-0398-48de-8cac-0efc1e1ba7c9",
   "metadata": {},
   "outputs": [
    {
     "data": {
      "text/html": [
       "<pre>============================= test session starts =============================\n",
       "platform win32 -- Python 3.11.6, pytest-7.4.3, pluggy-1.3.0 -- C:\\Users\\bhmiller\\AppData\\Local\\Microsoft\\WindowsApps\\PythonSoftwareFoundation.Python.3.11_qbz5n2kfra8p0\\python.exe\n",
       "cachedir: .pytest_cache\n",
       "rootdir: c:\\Users\\bhmiller\\OneDrive - Intel Corporation\\Documents\\GitHub\\intermediate-python\\content\n",
       "collecting ... collected 2 items\n",
       "\n",
       "tmp.py::test_addition PASSED                                             [ 50%]\n",
       "tmp.py::test_subtraction PASSED                                          [100%]\n",
       "\n",
       "============================== 2 passed in 0.01s ==============================\n",
       "</pre>"
      ],
      "text/plain": [
       "<IPython.core.display.HTML object>"
      ]
     },
     "metadata": {},
     "output_type": "display_data"
    }
   ],
   "source": [
    "%%save_and_run_magic pytest -v\n",
    "class Calculator:\n",
    "    def add(self, a, b):\n",
    "        return a + b\n",
    "\n",
    "    def subtract(self, a, b):\n",
    "        return a - b\n",
    "\n",
    "import pytest\n",
    "\n",
    "@pytest.fixture\n",
    "def calc():\n",
    "    return Calculator()\n",
    "\n",
    "def test_addition(calc):\n",
    "    result = calc.add(5, 10)\n",
    "    assert result == 15\n",
    "\n",
    "def test_subtraction(calc):\n",
    "    result = calc.subtract(20, 8)\n",
    "    assert result == 12"
   ]
  },
  {
   "cell_type": "markdown",
   "id": "279afd23-f274-4820-b59f-7f1ac5117273",
   "metadata": {},
   "source": [
    "### fixture as test state"
   ]
  },
  {
   "cell_type": "code",
   "execution_count": 19,
   "id": "9e0fd8fa-1653-4d62-a319-87307db52a22",
   "metadata": {},
   "outputs": [
    {
     "data": {
      "text/html": [
       "<pre>============================= test session starts =============================\n",
       "platform win32 -- Python 3.11.6, pytest-7.4.3, pluggy-1.3.0 -- C:\\Users\\bhmiller\\AppData\\Local\\Microsoft\\WindowsApps\\PythonSoftwareFoundation.Python.3.11_qbz5n2kfra8p0\\python.exe\n",
       "cachedir: .pytest_cache\n",
       "rootdir: c:\\Users\\bhmiller\\OneDrive - Intel Corporation\\Documents\\GitHub\\intermediate-python\\content\n",
       "collecting ... collected 2 items\n",
       "\n",
       "tmp.py::test_add Setup - Before the test\n",
       "Running test_add\n",
       "PASSEDTeardown - After the test\n",
       "\n",
       "tmp.py::test_sub Setup - Before the test\n",
       "Running test_sub\n",
       "PASSEDTeardown - After the test\n",
       "\n",
       "\n",
       "============================== 2 passed in 0.01s ==============================\n",
       "</pre>"
      ],
      "text/plain": [
       "<IPython.core.display.HTML object>"
      ]
     },
     "metadata": {},
     "output_type": "display_data"
    }
   ],
   "source": [
    "%%save_and_run_magic pytest -vs\n",
    "import pytest\n",
    "\n",
    "@pytest.fixture\n",
    "def setup_and_teardown_example():\n",
    "    print(\"Setup - Before the test\")\n",
    "    yield\n",
    "    print(\"Teardown - After the test\")\n",
    "\n",
    "def test_add(setup_and_teardown_example):\n",
    "    print(\"Running test_add\")\n",
    "    assert 1 + 1 == 2\n",
    "\n",
    "@pytest.mark.usefixtures('setup_and_teardown_example')\n",
    "def test_sub():\n",
    "    print(\"Running test_sub\")\n",
    "    assert 1 - 1 == 0"
   ]
  },
  {
   "cell_type": "markdown",
   "id": "bda167fa-4b50-42e2-a87e-0b9390e568ba",
   "metadata": {},
   "source": [
    "### run fixture for everything"
   ]
  },
  {
   "cell_type": "code",
   "execution_count": 20,
   "id": "f41c08b3-83c6-4129-9195-d75cc237ac2f",
   "metadata": {},
   "outputs": [
    {
     "data": {
      "text/html": [
       "<pre>============================= test session starts =============================\n",
       "platform win32 -- Python 3.11.6, pytest-7.4.3, pluggy-1.3.0 -- C:\\Users\\bhmiller\\AppData\\Local\\Microsoft\\WindowsApps\\PythonSoftwareFoundation.Python.3.11_qbz5n2kfra8p0\\python.exe\n",
       "cachedir: .pytest_cache\n",
       "rootdir: c:\\Users\\bhmiller\\OneDrive - Intel Corporation\\Documents\\GitHub\\intermediate-python\\content\n",
       "collecting ... collected 2 items\n",
       "\n",
       "tmp.py::test_add Setup - Before the test\n",
       "Running test_add\n",
       "PASSEDTeardown - After the test\n",
       "\n",
       "tmp.py::test_sub Setup - Before the test\n",
       "Running test_sub\n",
       "PASSEDTeardown - After the test\n",
       "\n",
       "\n",
       "============================== 2 passed in 0.01s ==============================\n",
       "</pre>"
      ],
      "text/plain": [
       "<IPython.core.display.HTML object>"
      ]
     },
     "metadata": {},
     "output_type": "display_data"
    }
   ],
   "source": [
    "%%save_and_run_magic pytest -vs\n",
    "import pytest\n",
    "\n",
    "@pytest.fixture(autouse=True)\n",
    "def setup_and_teardown_example():\n",
    "    print(\"Setup - Before the test\")\n",
    "    yield\n",
    "    print(\"Teardown - After the test\")\n",
    "\n",
    "def test_add():\n",
    "    print(\"Running test_add\")\n",
    "    assert 1 + 1 == 2\n",
    "\n",
    "def test_sub():\n",
    "    print(\"Running test_sub\")\n",
    "    assert 1 - 1 == 0"
   ]
  },
  {
   "cell_type": "markdown",
   "id": "cfc224ec-c8e3-4439-aa31-28d76100433a",
   "metadata": {},
   "source": [
    "By default the fixture is scope in function. So for each function the fixture is invoked. But we can set it to some specific scope"
   ]
  },
  {
   "cell_type": "code",
   "execution_count": 21,
   "id": "f7d77a4e-1866-4c4a-8296-ce14e3a00950",
   "metadata": {},
   "outputs": [
    {
     "data": {
      "text/html": [
       "<pre>============================= test session starts =============================\n",
       "platform win32 -- Python 3.11.6, pytest-7.4.3, pluggy-1.3.0 -- C:\\Users\\bhmiller\\AppData\\Local\\Microsoft\\WindowsApps\\PythonSoftwareFoundation.Python.3.11_qbz5n2kfra8p0\\python.exe\n",
       "cachedir: .pytest_cache\n",
       "rootdir: c:\\Users\\bhmiller\\OneDrive - Intel Corporation\\Documents\\GitHub\\intermediate-python\\content\n",
       "collecting ... collected 2 items\n",
       "\n",
       "tmp.py::test_add Setup - Before the test\n",
       "Running test_add\n",
       "PASSED\n",
       "tmp.py::test_sub Running test_sub\n",
       "PASSEDTeardown - After the test\n",
       "\n",
       "\n",
       "============================== 2 passed in 0.02s ==============================\n",
       "</pre>"
      ],
      "text/plain": [
       "<IPython.core.display.HTML object>"
      ]
     },
     "metadata": {},
     "output_type": "display_data"
    }
   ],
   "source": [
    "%%save_and_run_magic pytest -vs\n",
    "import pytest\n",
    "\n",
    "@pytest.fixture(autouse=True, scope='session')\n",
    "def setup_and_teardown_example():\n",
    "    print(\"Setup - Before the test\")\n",
    "    yield\n",
    "    print(\"Teardown - After the test\")\n",
    "\n",
    "def test_add():\n",
    "    print(\"Running test_add\")\n",
    "    assert 1 + 1 == 2\n",
    "\n",
    "def test_sub():\n",
    "    print(\"Running test_sub\")\n",
    "    assert 1 - 1 == 0"
   ]
  },
  {
   "cell_type": "markdown",
   "id": "b176970f-a560-4766-bac8-e356029573e2",
   "metadata": {},
   "source": [
    "\\[<< [Building command line interface](./08_argparse/09_argparse.ipynb) | [Index](./00_index.ipynb) | [Multithreading and Multiprocessing](./10_concurrency.ipynb) >>\\]\n"
   ]
  }
 ],
 "metadata": {
  "kernelspec": {
   "display_name": "Python 3 (ipykernel)",
   "language": "python",
   "name": "python3"
  },
  "language_info": {
   "codemirror_mode": {
    "name": "ipython",
    "version": 3
   },
   "file_extension": ".py",
   "mimetype": "text/x-python",
   "name": "python",
   "nbconvert_exporter": "python",
   "pygments_lexer": "ipython3",
   "version": "3.11.6"
  }
 },
 "nbformat": 4,
 "nbformat_minor": 5
}
