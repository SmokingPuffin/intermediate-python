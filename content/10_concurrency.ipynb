{
  "cells": [
    {
      "cell_type": "markdown",
      "id": "4c729c86-c748-43a1-a9e4-7bf068424596",
      "metadata": {},
      "source": [
        "\\[<< [Testing](./09_unittest.ipynb) | [Index](./00_index.ipynb) | [Virtual Environments](./11_virtual_environment.ipynb) >>\\]\n"
      ]
    },
    {
      "cell_type": "markdown",
      "id": "a251c9e7-bdf9-489b-8edf-40d83bcec231",
      "metadata": {},
      "source": [
        "# Concurrency"
      ]
    },
    {
      "cell_type": "markdown",
      "id": "a5a09697-5485-49d5-92be-07881db83b6b",
      "metadata": {},
      "source": [
        "- **Processes and threads**: A program can have one or more processes and a process can have one or more threads. A process is an instance of a program while a thread is a part of a process that can execute instructions.\n",
        "- **Multiprocessing and multithreading**: Multiprocessing uses multiple cores of a CPU to execute multiple processes in parallel. Multithreading uses multiple threads within a process to perform tasks concurrently.\n",
        "- **I/O-bound and CPU-bound tasks**: I/O-bound tasks spend more time doing input/output operations than computations (network request, disk read/write, database read/write). CPU-bound tasks spend more time doing calculations than generating I/O requests (video compression, matrix multiplication, find prime number).\n",
        "- **Suitability of multithreading and multiprocessing**: Multithreading is suitable for I/O-bound tasks, and multiprocessing is suitable for CPU-bound tasks."
      ]
    },
    {
      "cell_type": "markdown",
      "id": "6f726515-ab74-4acc-a8ac-12e4c9c1283b",
      "metadata": {},
      "source": [
        "![](./static/cpu_vs_io.png)"
      ]
    },
    {
      "cell_type": "code",
      "execution_count": 10,
      "id": "bd4ab344-0029-451f-8c26-fa2b5499f935",
      "metadata": {},
      "outputs": [
        {
          "name": "stdout",
          "output_type": "stream",
          "text": [
            "Requirement already satisfied: viztracer in c:\\users\\bhmiller\\appdata\\local\\packages\\pythonsoftwarefoundation.python.3.11_qbz5n2kfra8p0\\localcache\\local-packages\\python311\\site-packages (0.16.1)\n",
            "Requirement already satisfied: objprint>0.1.3 in c:\\users\\bhmiller\\appdata\\local\\packages\\pythonsoftwarefoundation.python.3.11_qbz5n2kfra8p0\\localcache\\local-packages\\python311\\site-packages (from viztracer) (0.2.3)\n",
            "Note: you may need to restart the kernel to use updated packages.\n",
            "Collecting requests\n",
            "  Downloading requests-2.31.0-py3-none-any.whl.metadata (4.6 kB)\n",
            "Collecting charset-normalizer<4,>=2 (from requests)\n",
            "  Downloading charset_normalizer-3.3.2-cp311-cp311-win_amd64.whl.metadata (34 kB)\n",
            "Collecting idna<4,>=2.5 (from requests)\n",
            "  Downloading idna-3.6-py3-none-any.whl.metadata (9.9 kB)\n",
            "Collecting urllib3<3,>=1.21.1 (from requests)\n",
            "  Downloading urllib3-2.1.0-py3-none-any.whl.metadata (6.4 kB)\n",
            "Collecting certifi>=2017.4.17 (from requests)\n",
            "  Downloading certifi-2023.11.17-py3-none-any.whl.metadata (2.2 kB)\n",
            "Downloading requests-2.31.0-py3-none-any.whl (62 kB)\n",
            "   ---------------------------------------- 0.0/62.6 kB ? eta -:--:--\n",
            "   ---------------------------------------- 62.6/62.6 kB 1.7 MB/s eta 0:00:00\n",
            "Downloading certifi-2023.11.17-py3-none-any.whl (162 kB)\n",
            "   ---------------------------------------- 0.0/162.5 kB ? eta -:--:--\n",
            "   ---------------------------------------- 162.5/162.5 kB 4.9 MB/s eta 0:00:00\n",
            "Downloading charset_normalizer-3.3.2-cp311-cp311-win_amd64.whl (99 kB)\n",
            "   ---------------------------------------- 0.0/99.9 kB ? eta -:--:--\n",
            "   ---------------------------------------- 99.9/99.9 kB ? eta 0:00:00\n",
            "Downloading idna-3.6-py3-none-any.whl (61 kB)\n",
            "   ---------------------------------------- 0.0/61.6 kB ? eta -:--:--\n",
            "   ---------------------------------------- 61.6/61.6 kB 3.2 MB/s eta 0:00:00\n",
            "Downloading urllib3-2.1.0-py3-none-any.whl (104 kB)\n",
            "   ---------------------------------------- 0.0/104.6 kB ? eta -:--:--\n",
            "   ---------------------------------------- 104.6/104.6 kB ? eta 0:00:00\n",
            "Installing collected packages: urllib3, idna, charset-normalizer, certifi, requests\n",
            "Successfully installed certifi-2023.11.17 charset-normalizer-3.3.2 idna-3.6 requests-2.31.0 urllib3-2.1.0\n",
            "Note: you may need to restart the kernel to use updated packages.\n"
          ]
        }
      ],
      "source": [
        "%pip install viztracer\n",
        "%pip install requests"
      ]
    },
    {
      "cell_type": "markdown",
      "id": "b88f6fcc-9b74-49ac-b494-6fe1816757c2",
      "metadata": {},
      "source": [
        "# threading"
      ]
    },
    {
      "cell_type": "markdown",
      "id": "9228839a-ea2e-4de3-87cb-e654ca72f0eb",
      "metadata": {},
      "source": [
        "### Sequential Download of File\n",
        "In a sequential approach, tasks are executed one after another. Consider downloading multiple files sequentially:"
      ]
    },
    {
      "cell_type": "code",
      "execution_count": 6,
      "id": "da7c7a00-ee14-4fcd-bc1e-80dea07dcf3f",
      "metadata": {},
      "outputs": [],
      "source": [
        "%load_ext viztracer"
      ]
    },
    {
      "cell_type": "code",
      "execution_count": 7,
      "id": "663372ae-735e-4d91-b268-89f53146545f",
      "metadata": {},
      "outputs": [
        {
          "name": "stdout",
          "output_type": "stream",
          "text": [
            "Overwriting example/downloader.py\n"
          ]
        }
      ],
      "source": [
        "%%writefile example/downloader.py\n",
        "import shutil\n",
        "from pathlib import Path\n",
        "import requests\n",
        "import os\n",
        "\n",
        "\n",
        "proxies = {\n",
        "  'http': '',\n",
        "  'https': '',\n",
        "}\n",
        "\n",
        "def download_file(url: str, target: Path):\n",
        "    fname = os.path.basename(url)\n",
        "    path = target / fname\n",
        "    \n",
        "    with requests.get(url, stream=True, proxies=proxies) as r:\n",
        "        print(f\"Downloading {fname}...\")\n",
        "        with open(path, 'wb') as f:\n",
        "            shutil.copyfileobj(r.raw, f)\n",
        "    \n",
        "    print(f\"Download complete for {fname}!\")"
      ]
    },
    {
      "cell_type": "code",
      "execution_count": 8,
      "id": "faf8dc35-9da9-4e99-8803-afcd5e5273e9",
      "metadata": {},
      "outputs": [
        {
          "name": "stdout",
          "output_type": "stream",
          "text": [
            "Overwriting example/single_core_single_process.py\n"
          ]
        }
      ],
      "source": [
        "%%writefile example/single_core_single_process.py\n",
        "from downloader import download_file\n",
        "from pathlib import Path\n",
        "import shutil\n",
        "\n",
        "if __name__ == \"__main__\":\n",
        "    itr_forms = [\n",
        "        \"http://incometaxindia.gov.in/forms/income-tax%20rules/2023/itr1_english.pdf\",\n",
        "        \"http://incometaxindia.gov.in/forms/income-tax%20rules/2023/itr2_english.pdf\",\n",
        "        \"http://incometaxindia.gov.in/forms/income-tax%20rules/2023/itr3_english.pdf\",\n",
        "        \"http://incometaxindia.gov.in/forms/income-tax%20rules/2023/itr4_english.pdf\",\n",
        "        \"http://incometaxindia.gov.in/forms/income-tax%20rules/2023/itr5_english.pdf\",\n",
        "        \"http://incometaxindia.gov.in/forms/income-tax%20rules/2023/itr6_english.pdf\",\n",
        "        \"http://incometaxindia.gov.in/forms/income-tax%20rules/2023/itr7_english.pdf\",\n",
        "    ]\n",
        "\n",
        "    target_path = Path(\"static\") / \"concurrency_example\"\n",
        "    shutil.rmtree(target_path, ignore_errors=True)\n",
        "    target_path.mkdir(exist_ok=True, parents=True)\n",
        "\n",
        "    for itr_form in itr_forms:\n",
        "        download_file(itr_form, target_path)\n",
        "\n",
        "    print(\"All downloads completed!\")"
      ]
    },
    {
      "cell_type": "code",
      "execution_count": 11,
      "id": "650c5547-7e34-49dc-9ecf-d6b181c2cda9",
      "metadata": {},
      "outputs": [
        {
          "name": "stdout",
          "output_type": "stream",
          "text": [
            "Downloading itr1_english.pdf...\n",
            "Download complete for itr1_english.pdf!\n",
            "Downloading itr2_english.pdf...\n",
            "Download complete for itr2_english.pdf!\n",
            "Downloading itr3_english.pdf...\n",
            "Download complete for itr3_english.pdf!\n",
            "Downloading itr4_english.pdf...\n",
            "Download complete for itr4_english.pdf!\n",
            "Downloading itr5_english.pdf...\n",
            "Download complete for itr5_english.pdf!\n",
            "Downloading itr6_english.pdf...\n",
            "Download complete for itr6_english.pdf!\n",
            "Downloading itr7_english.pdf...\n",
            "Download complete for itr7_english.pdf!\n",
            "All downloads completed!\n",
            "\n",
            "                                                                                \n",
            "Saving trace data, this could take a while\n",
            "                                                                                \n",
            "Loading trace data from processes 0/1\n",
            "                                                                                \n",
            "Combining trace data\n",
            "                                                                                \n",
            "Dumping trace data, total entries: 153212\n",
            "                                                                                \n",
            "Total Entries: 153212\n",
            "Use the following command to open the report:\n",
            "\u001b[92mvizviewer \"c:\\Users\\bhmiller\\OneDrive - Intel Corporation\\Documents\\GitHub\\intermediate-python\\content\\result.json\"\u001b[0m\n"
          ]
        }
      ],
      "source": [
        "!viztracer example/single_core_single_process.py"
      ]
    },
    {
      "cell_type": "markdown",
      "id": "6f574c23-50ae-4ef7-843f-08fa56535fa4",
      "metadata": {},
      "source": [
        "This method is simple but may lead to slower execution when dealing with multiple files, especially in I/O-bound scenarios.\n",
        "\n",
        "### Download of File Using Threads\n",
        "To improve performance, threading can be employed. Threads execute tasks concurrently, ideal for I/O-bound operations like downloading files:"
      ]
    },
    {
      "cell_type": "code",
      "execution_count": 8,
      "id": "2bb3d508-450a-4508-9d3e-d7278097ebd2",
      "metadata": {},
      "outputs": [
        {
          "name": "stdout",
          "output_type": "stream",
          "text": [
            "Writing example/single_core_multi_thread.py\n"
          ]
        }
      ],
      "source": [
        "%%writefile example/single_core_multi_thread.py\n",
        "import threading\n",
        "from downloader import download_file\n",
        "from pathlib import Path\n",
        "import shutil\n",
        "\n",
        "if __name__ == \"__main__\":\n",
        "    itr_forms = [\n",
        "        \"http://incometaxindia.gov.in/forms/income-tax%20rules/2023/itr1_english.pdf\",\n",
        "        \"http://incometaxindia.gov.in/forms/income-tax%20rules/2023/itr2_english.pdf\",\n",
        "        \"http://incometaxindia.gov.in/forms/income-tax%20rules/2023/itr3_english.pdf\",\n",
        "        \"http://incometaxindia.gov.in/forms/income-tax%20rules/2023/itr4_english.pdf\",\n",
        "        \"http://incometaxindia.gov.in/forms/income-tax%20rules/2023/itr5_english.pdf\",\n",
        "        \"http://incometaxindia.gov.in/forms/income-tax%20rules/2023/itr6_english.pdf\",\n",
        "        \"http://incometaxindia.gov.in/forms/income-tax%20rules/2023/itr7_english.pdf\",\n",
        "    ]\n",
        "\n",
        "    target_path = Path(\"static\") / \"concurrency_example\"\n",
        "    shutil.rmtree(target_path, ignore_errors=True)\n",
        "    target_path.mkdir(exist_ok=True, parents=True)\n",
        "\n",
        "    threads = []\n",
        "    \n",
        "    for itr_form in itr_forms:\n",
        "        my_thread = threading.Thread(target=download_file, args=(itr_form, target_path))\n",
        "        my_thread.start()\n",
        "        threads.append(my_thread)\n",
        "    \n",
        "    # Wait for all threads to complete\n",
        "    for thread in threads:\n",
        "        thread.join()\n",
        "\n",
        "    print(\"All downloads completed!\")"
      ]
    },
    {
      "cell_type": "code",
      "execution_count": 9,
      "id": "40d1b34f-d586-432b-afbf-e7d5359aade9",
      "metadata": {},
      "outputs": [
        {
          "name": "stdout",
          "output_type": "stream",
          "text": [
            "Downloading itr3_english.pdf...\n",
            "Download complete for itr3_english.pdf!\n",
            "Downloading itr6_english.pdf...\n",
            "Downloading itr5_english.pdf...\n",
            "Downloading itr4_english.pdf...\n",
            "Download complete for itr6_english.pdf!\n",
            "Downloading itr2_english.pdf...\n",
            "Download complete for itr5_english.pdf!Downloading itr7_english.pdf...\n",
            "Download complete for itr4_english.pdf!\n",
            "Downloading itr1_english.pdf...\n",
            "\n",
            "Download complete for itr2_english.pdf!\n",
            "Download complete for itr1_english.pdf!Download complete for itr7_english.pdf!\n",
            "\n",
            "All downloads completed!\n",
            "\n",
            "                                                                                \n",
            "Saving trace data, this could take a while\n",
            "                                                                                \n",
            "Loading trace data from processes 0/1\n",
            "                                                                                \n",
            "Combining trace data\n",
            "                                                                                \n",
            "Dumping trace data, total entries: 153730\n",
            "                                                                                \n",
            "Total Entries: 153730\n",
            "Use the following command to open the report:\n",
            "\u001b[92mvizviewer \"c:\\Users\\bhmiller\\OneDrive - Intel Corporation\\Documents\\GitHub\\intermediate-python\\content\\result.json\"\u001b[0m\n"
          ]
        }
      ],
      "source": [
        "!viztracer example/single_core_multi_thread.py"
      ]
    },
    {
      "cell_type": "markdown",
      "id": "d2aa669b-19dc-45f9-b046-6ee5fdb71edf",
      "metadata": {},
      "source": [
        "💡 Use logging module to log output in threads as they are thread-safe"
      ]
    },
    {
      "cell_type": "markdown",
      "id": "df16f051-e113-4804-9346-a5730663eed7",
      "metadata": {},
      "source": [
        "## threading.Thread"
      ]
    },
    {
      "cell_type": "markdown",
      "id": "c0f49e07-9496-49ba-828d-0f1c6b9cca04",
      "metadata": {},
      "source": [
        "Python's `threading.Thread` class simplifies thread management. It encapsulates a function to be executed in a separate thread:"
      ]
    },
    {
      "cell_type": "code",
      "execution_count": 10,
      "id": "912cb044-33e2-495a-8949-c7a03ba72e86",
      "metadata": {},
      "outputs": [
        {
          "name": "stdout",
          "output_type": "stream",
          "text": [
            "Writing example/single_core_multi_thread_class_imp.py\n"
          ]
        }
      ],
      "source": [
        "%%writefile example/single_core_multi_thread_class_imp.py\n",
        "import threading\n",
        "import shutil\n",
        "from pathlib import Path\n",
        "import requests\n",
        "import os\n",
        "\n",
        "proxies = {\n",
        "  'http': '',\n",
        "  'https': '',\n",
        "}\n",
        "\n",
        "class DownloaderThread(threading.Thread):\n",
        "    def __init__(self, url, target):\n",
        "        super().__init__()\n",
        "        self.url = url\n",
        "        self.target = target\n",
        "\n",
        "    def run(self):\n",
        "        print(f\"Starting {self.name}\")\n",
        "\n",
        "        fname = os.path.basename(self.url)\n",
        "        path = self.target / fname\n",
        "\n",
        "\n",
        "        with requests.get(self.url, stream=True, proxies=proxies) as r:\n",
        "            print(f\"Downloading {fname}...\")\n",
        "            with open(path, 'wb') as f:\n",
        "                shutil.copyfileobj(r.raw, f)\n",
        "    \n",
        "        print(f\"Download complete for {fname}!\")\n",
        "        print(f\"Completing {self.name}\")\n",
        "\n",
        "if __name__ == \"__main__\":\n",
        "    itr_forms = [\n",
        "        \"https://incometaxindia.gov.in/forms/income-tax%20rules/2023/itr1_english.pdf\",\n",
        "        \"https://incometaxindia.gov.in/forms/income-tax%20rules/2023/itr2_english.pdf\",\n",
        "        \"https://incometaxindia.gov.in/forms/income-tax%20rules/2023/itr3_english.pdf\",\n",
        "        \"https://incometaxindia.gov.in/forms/income-tax%20rules/2023/itr4_english.pdf\",\n",
        "        \"https://incometaxindia.gov.in/forms/income-tax%20rules/2023/itr5_english.pdf\",\n",
        "        \"https://incometaxindia.gov.in/forms/income-tax%20rules/2023/itr6_english.pdf\",\n",
        "        \"https://incometaxindia.gov.in/forms/income-tax%20rules/2023/itr7_english.pdf\",\n",
        "    ]\n",
        "\n",
        "    target_path = Path(\"static\") / \"concurrency_example\"\n",
        "    shutil.rmtree(target_path, ignore_errors=True)\n",
        "    target_path.mkdir()\n",
        "\n",
        "    threads = []\n",
        "    for itr_form in itr_forms:\n",
        "        my_thread = DownloaderThread(itr_form, target_path)\n",
        "        my_thread.start()\n",
        "        threads.append(my_thread)\n",
        "\n",
        "    # Wait for all threads to complete\n",
        "    for thread in threads:\n",
        "        thread.join()\n",
        "\n",
        "    print(\"All downloads completed!\")"
      ]
    },
    {
      "cell_type": "code",
      "execution_count": 11,
      "id": "981d7dfc-6efb-466d-bd0f-ffda209f1586",
      "metadata": {},
      "outputs": [
        {
          "name": "stdout",
          "output_type": "stream",
          "text": [
            "Starting Thread-1\n",
            "Starting Thread-2\n",
            "Starting Thread-3\n",
            "Starting Thread-4\n",
            "Starting Thread-5\n",
            "Starting Thread-6\n",
            "Starting Thread-7\n",
            "Downloading itr3_english.pdf...\n",
            "Download complete for itr3_english.pdf!\n",
            "Completing Thread-3\n",
            "Downloading itr2_english.pdf...\n",
            "Download complete for itr2_english.pdf!\n",
            "Completing Thread-2\n",
            "Downloading itr5_english.pdf...Downloading itr4_english.pdf...\n",
            "\n",
            "Download complete for itr5_english.pdf!\n",
            "Completing Thread-5\n",
            "Download complete for itr4_english.pdf!\n",
            "Completing Thread-4\n",
            "Downloading itr6_english.pdf...\n",
            "Download complete for itr6_english.pdf!\n",
            "Completing Thread-6\n",
            "Downloading itr7_english.pdf...Downloading itr1_english.pdf...\n",
            "\n",
            "Download complete for itr1_english.pdf!\n",
            "Completing Thread-1Download complete for itr7_english.pdf!\n",
            "\n",
            "Completing Thread-7\n",
            "All downloads completed!\n",
            "\n",
            "                                                                                \n",
            "Saving trace data, this could take a while\n",
            "                                                                                \n",
            "Loading trace data from processes 0/1\n",
            "                                                                                \n",
            "Combining trace data\n",
            "                                                                                \n",
            "Dumping trace data, total entries: 154785\n",
            "                                                                                \n",
            "Total Entries: 154785\n",
            "Use the following command to open the report:\n",
            "\u001b[92mvizviewer \"c:\\Users\\bhmiller\\OneDrive - Intel Corporation\\Documents\\GitHub\\intermediate-python\\content\\result.json\"\u001b[0m\n"
          ]
        }
      ],
      "source": [
        "!viztracer example/single_core_multi_thread_class_imp.py"
      ]
    },
    {
      "cell_type": "markdown",
      "id": "0d5d8d48-5452-4e78-b3b1-98a51720bd6c",
      "metadata": {},
      "source": [
        "## Threads are not good for CPU bound task"
      ]
    },
    {
      "cell_type": "code",
      "execution_count": 12,
      "id": "8a288c25-3c2d-4d68-a232-6878ee055614",
      "metadata": {},
      "outputs": [
        {
          "name": "stdout",
          "output_type": "stream",
          "text": [
            "Writing example/single_core_multi_thread_cpu_bound.py\n"
          ]
        }
      ],
      "source": [
        "%%writefile example/single_core_multi_thread_cpu_bound.py\n",
        "import threading\n",
        "import random\n",
        "\n",
        "def is_prime(n):\n",
        "    for i in range(2, n):\n",
        "        if n % i == 0:\n",
        "            return False\n",
        "    return True\n",
        "\n",
        "def get_prime_arr(arr):\n",
        "    return [is_prime(elem) for elem in arr]\n",
        "\n",
        "num_arr = [random.randint(100, 10000) for i in range(3000)]\n",
        "thread1 = threading.Thread(target=get_prime_arr, args=(num_arr[:1001],))\n",
        "thread2 = threading.Thread(target=get_prime_arr, args=(num_arr[1001:2001],))\n",
        "thread3 = threading.Thread(target=get_prime_arr, args=(num_arr[2001:3000],))\n",
        "\n",
        "thread1.start()\n",
        "thread2.start()\n",
        "thread3.start()\n",
        "\n",
        "thread1.join()\n",
        "thread2.join()\n",
        "thread3.join()"
      ]
    },
    {
      "cell_type": "code",
      "execution_count": 13,
      "id": "d71b888e-34e3-45db-8ba8-ab1925bf402a",
      "metadata": {},
      "outputs": [
        {
          "name": "stdout",
          "output_type": "stream",
          "text": [
            "\n",
            "                                                                                \n",
            "Saving trace data, this could take a while\n",
            "                                                                                \n",
            "Loading trace data from processes 0/1\n",
            "                                                                                \n",
            "Combining trace data\n",
            "                                                                                \n",
            "Dumping trace data, total entries: 29141\n",
            "                                                                                \n",
            "Total Entries: 29141\n",
            "Use the following command to open the report:\n",
            "\u001b[92mvizviewer \"c:\\Users\\bhmiller\\OneDrive - Intel Corporation\\Documents\\GitHub\\intermediate-python\\content\\result.json\"\u001b[0m\n"
          ]
        }
      ],
      "source": [
        "!viztracer example/single_core_multi_thread_cpu_bound.py"
      ]
    },
    {
      "cell_type": "markdown",
      "id": "4a42bc62-4bea-495b-84af-667f45c98381",
      "metadata": {},
      "source": [
        "## threading.Lock"
      ]
    },
    {
      "cell_type": "markdown",
      "id": "f1cb4cf8-c23e-45f6-a1b4-df100fa027e3",
      "metadata": {},
      "source": [
        "Threads share memory space, raising synchronization concerns. The `threading.Lock` class ensures only one thread accesses a resource at a time:"
      ]
    },
    {
      "cell_type": "code",
      "execution_count": 19,
      "id": "74242817-0545-4c93-aac2-e3f25d32871d",
      "metadata": {},
      "outputs": [
        {
          "name": "stdout",
          "output_type": "stream",
          "text": [
            "counter=10\n",
            "counter=20\n",
            "The final counter is 20\n"
          ]
        }
      ],
      "source": [
        "from threading import Thread\n",
        "from time import sleep\n",
        "\n",
        "counter = 0\n",
        "\n",
        "\n",
        "def increase(by):\n",
        "    global counter\n",
        "\n",
        "    # Read the current value of the counter\n",
        "    local_counter = counter\n",
        "\n",
        "    # Perform the increment\n",
        "    local_counter += by\n",
        "\n",
        "    # Simulate some processing time (0.1 seconds)\n",
        "    sleep(0.1)\n",
        "\n",
        "    # Update the global counter with the new value\n",
        "    counter = local_counter\n",
        "    print(f\"counter={counter}\")\n",
        "\n",
        "\n",
        "# Create threads\n",
        "t1 = Thread(target=increase, args=(10,))\n",
        "t2 = Thread(target=increase, args=(20,))\n",
        "\n",
        "# Start the threads\n",
        "t1.start()\n",
        "t2.start()\n",
        "\n",
        "# Wait for the threads to complete\n",
        "t1.join()\n",
        "t2.join()\n",
        "\n",
        "print(f\"The final counter is {counter}\")"
      ]
    },
    {
      "cell_type": "code",
      "execution_count": 20,
      "id": "037dba1e-c83d-49d9-a3ff-75710805eaf7",
      "metadata": {},
      "outputs": [
        {
          "name": "stdout",
          "output_type": "stream",
          "text": [
            "  7           0 RESUME                   0\n",
            "\n",
            " 11           2 LOAD_GLOBAL              0 (counter)\n",
            "             14 STORE_FAST               1 (local_counter)\n",
            "\n",
            " 14          16 LOAD_FAST                1 (local_counter)\n",
            "             18 LOAD_FAST                0 (by)\n",
            "             20 BINARY_OP               13 (+=)\n",
            "             24 STORE_FAST               1 (local_counter)\n",
            "\n",
            " 17          26 LOAD_GLOBAL              3 (NULL + sleep)\n",
            "             38 LOAD_CONST               1 (0.1)\n",
            "             40 PRECALL                  1\n",
            "             44 CALL                     1\n",
            "             54 POP_TOP\n",
            "\n",
            " 20          56 LOAD_FAST                1 (local_counter)\n",
            "             58 STORE_GLOBAL             0 (counter)\n",
            "\n",
            " 21          60 LOAD_GLOBAL              5 (NULL + print)\n",
            "             72 LOAD_CONST               2 ('counter=')\n",
            "             74 LOAD_GLOBAL              0 (counter)\n",
            "             86 FORMAT_VALUE             0\n",
            "             88 BUILD_STRING             2\n",
            "             90 PRECALL                  1\n",
            "             94 CALL                     1\n",
            "            104 POP_TOP\n",
            "            106 LOAD_CONST               0 (None)\n",
            "            108 RETURN_VALUE\n"
          ]
        }
      ],
      "source": [
        "import dis\n",
        "\n",
        "dis.dis(increase)"
      ]
    },
    {
      "cell_type": "markdown",
      "id": "015e25cc-fd70-4182-b3ec-2e190068bd6e",
      "metadata": {},
      "source": [
        "<table border=\"1\">\n",
        "<tbody>\n",
        "<tr>\n",
        "    <td ><b>Thread 1</b></td>\n",
        "    <td ><b>Thread 2</b></td>\n",
        "</tr>\n",
        "<tr>\n",
        "<td >&nbsp;11 &nbsp; &nbsp; &nbsp; &nbsp; &nbsp; 2 LOAD_GLOBAL &nbsp; &nbsp; &nbsp; &nbsp; &nbsp; &nbsp; &nbsp;0 (counter)<br />&nbsp; &nbsp; &nbsp; &nbsp; &nbsp; &nbsp; &nbsp;14 STORE_FAST &nbsp; &nbsp; &nbsp; &nbsp; &nbsp; &nbsp; &nbsp; 1 (local_counter)</td>\n",
        "<td >&nbsp;</td>\n",
        "</tr>\n",
        "<tr>\n",
        "<td >&nbsp;</td>\n",
        "<td >\n",
        "<p>11 &nbsp; &nbsp; &nbsp; &nbsp; &nbsp; 2 LOAD_GLOBAL &nbsp; &nbsp; &nbsp; &nbsp; &nbsp; &nbsp; &nbsp;0 (counter)<br />&nbsp; &nbsp; &nbsp; &nbsp; &nbsp; &nbsp; &nbsp;14 STORE_FAST &nbsp; &nbsp; &nbsp; &nbsp; &nbsp; &nbsp; &nbsp; 1 (local_counter)</p>\n",
        "<p>&nbsp;14 &nbsp; &nbsp; &nbsp; &nbsp; &nbsp;16 LOAD_FAST &nbsp; &nbsp; &nbsp; &nbsp; &nbsp; &nbsp; &nbsp; &nbsp;1 (local_counter)<br />&nbsp; &nbsp; &nbsp; &nbsp; &nbsp; &nbsp; &nbsp;18 LOAD_FAST &nbsp; &nbsp; &nbsp; &nbsp; &nbsp; &nbsp; &nbsp; &nbsp;0 (by)<br />&nbsp; &nbsp; &nbsp; &nbsp; &nbsp; &nbsp; &nbsp;20 BINARY_OP &nbsp; &nbsp; &nbsp; &nbsp; &nbsp; &nbsp; &nbsp; 13 (+=)<br />&nbsp; &nbsp; &nbsp; &nbsp; &nbsp; &nbsp; &nbsp;24 STORE_FAST &nbsp; &nbsp; &nbsp; &nbsp; &nbsp; &nbsp; &nbsp; 1 (local_counter)</p>\n",
        "</td>\n",
        "</tr>\n",
        "<tr>\n",
        "<td >14 &nbsp; &nbsp; &nbsp; &nbsp; &nbsp;16 LOAD_FAST &nbsp; &nbsp; &nbsp; &nbsp; &nbsp; &nbsp; &nbsp; &nbsp;1 (local_counter)<br />&nbsp; &nbsp; &nbsp; &nbsp; &nbsp; &nbsp; &nbsp;18 LOAD_FAST &nbsp; &nbsp; &nbsp; &nbsp; &nbsp; &nbsp; &nbsp; &nbsp;0 (by)<br />&nbsp; &nbsp; &nbsp; &nbsp; &nbsp; &nbsp; &nbsp;20 BINARY_OP &nbsp; &nbsp; &nbsp; &nbsp; &nbsp; &nbsp; &nbsp; 13 (+=)<br />&nbsp; &nbsp; &nbsp; &nbsp; &nbsp; &nbsp; &nbsp;24 STORE_FAST &nbsp; &nbsp; &nbsp; &nbsp; &nbsp; &nbsp; &nbsp; 1 (local_counter)</td>\n",
        "<td >&nbsp;</td>\n",
        "</tr>\n",
        "</tbody>\n",
        "</table>"
      ]
    },
    {
      "cell_type": "code",
      "execution_count": 21,
      "id": "574aa7a5-89c0-4792-a0b0-05677bfa73e1",
      "metadata": {},
      "outputs": [
        {
          "name": "stdout",
          "output_type": "stream",
          "text": [
            "counter=10\n",
            "counter=30\n",
            "The final counter is 30\n"
          ]
        }
      ],
      "source": [
        "from threading import Thread, Lock\n",
        "from time import sleep\n",
        "\n",
        "counter = 0\n",
        "counter_lock = Lock()\n",
        "\n",
        "\n",
        "def increase(by):\n",
        "    global counter\n",
        "\n",
        "    # Acquire the lock before updating the counter\n",
        "    with counter_lock:\n",
        "        local_counter = counter\n",
        "\n",
        "        # Perform the increment\n",
        "        local_counter += by\n",
        "\n",
        "        # Simulate some processing time (0.1 seconds)\n",
        "        sleep(0.1)\n",
        "\n",
        "        # Update the global counter with the new value\n",
        "        counter = local_counter\n",
        "        print(f\"counter={counter}\")\n",
        "\n",
        "\n",
        "# Create threads\n",
        "t1 = Thread(target=increase, args=(10,))\n",
        "t2 = Thread(target=increase, args=(20,))\n",
        "\n",
        "# Start the threads\n",
        "t1.start()\n",
        "t2.start()\n",
        "\n",
        "# Wait for the threads to complete\n",
        "t1.join()\n",
        "t2.join()\n",
        "\n",
        "print(f\"The final counter is {counter}\")"
      ]
    },
    {
      "cell_type": "markdown",
      "id": "e98a8614-7569-41e4-ba59-4290a5325912",
      "metadata": {},
      "source": [
        "## threading.Timer"
      ]
    },
    {
      "cell_type": "markdown",
      "id": "4d48496c-7813-4a7a-85de-d4cffb169296",
      "metadata": {},
      "source": [
        "Python's `threading.Timer` class schedules a function to run after a specified delay:"
      ]
    },
    {
      "cell_type": "code",
      "execution_count": 22,
      "id": "bbc2441f-b5f3-48cf-ae8d-6040abba73c9",
      "metadata": {},
      "outputs": [
        {
          "name": "stdout",
          "output_type": "stream",
          "text": [
            "\n",
            "Pinging www.google.com [142.250.69.196] with 32 bytes of data:\n",
            "Reply from 142.250.69.196: bytes=32 time=17ms TTL=114\n",
            "Reply from 142.250.69.196: bytes=32 time=14ms TTL=114\n",
            "Reply from 142.250.69.196: bytes=32 time=15ms TTL=114\n",
            "Reply from 142.250.69.196: bytes=32 time=15ms TTL=114\n",
            "Reply from 142.250.69.196: bytes=32 time=15ms TTL=114\n",
            "Reply from 142.250.69.196: bytes=32 time=15ms TTL=114\n",
            "Reply from 142.250.69.196: bytes=32 time=15ms TTL=114\n",
            "Reply from 142.250.69.196: bytes=32 time=18ms TTL=114\n",
            "Reply from 142.250.69.196: bytes=32 time=13ms TTL=114\n",
            "Reply from 142.250.69.196: bytes=32 time=14ms TTL=114\n",
            "\n"
          ]
        }
      ],
      "source": [
        "import subprocess\n",
        "import threading\n",
        "\n",
        "# Lambda function to kill the process\n",
        "kill = lambda process: process.kill()\n",
        "\n",
        "# Command to execute (ping www.google.com)\n",
        "cmd = [\"ping\", \"www.google.com\", \"-t\"]\n",
        "\n",
        "# Start the ping command as a subprocess\n",
        "ping = subprocess.Popen(cmd, stdout=subprocess.PIPE, stderr=subprocess.PIPE)\n",
        "\n",
        "# Create a timer to kill the process after 10 seconds\n",
        "my_timer = threading.Timer(10, kill, [ping])\n",
        "\n",
        "try:\n",
        "    # Start the timer\n",
        "    my_timer.start()\n",
        "\n",
        "    # Communicate with the subprocess and get the stdout and stderr\n",
        "    stdout, stderr = ping.communicate()\n",
        "\n",
        "finally:\n",
        "    # Cancel the timer if the subprocess has completed\n",
        "    my_timer.cancel()\n",
        "\n",
        "# Print the stdout of the ping command\n",
        "print(stdout.decode())"
      ]
    },
    {
      "cell_type": "markdown",
      "id": "5f6b1d8f-c47f-43dd-aee2-d130a86cd3d8",
      "metadata": {},
      "source": [
        "## Thread communication using Queue"
      ]
    },
    {
      "cell_type": "markdown",
      "id": "eeff5a0e-f06c-4f30-9121-61f2ed31f34a",
      "metadata": {},
      "source": [
        "Threading can lead to race conditions when threads access shared resources simultaneously. The `queue` module provides thread-safe data structures.\n",
        "\n",
        "Producer and Consumer example using thread and queue"
      ]
    },
    {
      "cell_type": "code",
      "execution_count": 23,
      "id": "ddb2aed2-4a1c-4f53-b4de-92050ab8a8b7",
      "metadata": {},
      "outputs": [
        {
          "name": "stdout",
          "output_type": "stream",
          "text": [
            "Produced: Item 1\n",
            "Consumed: Item 1\n",
            "Produced: Item 2Consumed: Item 2\n",
            "\n",
            "Produced: Item 3Consumed: Item 3\n",
            "\n",
            "Produced: Item 4Consumed: Item 4\n",
            "\n",
            "Producer and consumer have finished.\n"
          ]
        }
      ],
      "source": [
        "import threading\n",
        "import queue\n",
        "import time\n",
        "\n",
        "# The shared queue between the producer and consumer\n",
        "shared_queue = queue.Queue(maxsize=5)\n",
        "\n",
        "\n",
        "# Function for the producer\n",
        "def producer():\n",
        "    for i in range(1, 5):\n",
        "        item = f\"Item {i}\"\n",
        "        shared_queue.put(item)\n",
        "        print(f\"Produced: {item}\")\n",
        "        time.sleep(1)\n",
        "\n",
        "\n",
        "# Function for the consumer\n",
        "def consumer():\n",
        "    while True:\n",
        "        item = shared_queue.get()\n",
        "        if item is None:\n",
        "            break\n",
        "        print(f\"Consumed: {item}\")\n",
        "        shared_queue.task_done()\n",
        "\n",
        "\n",
        "# Create and start the producer and consumer threads\n",
        "producer_thread = threading.Thread(target=producer)\n",
        "consumer_thread = threading.Thread(target=consumer)\n",
        "\n",
        "producer_thread.start()\n",
        "consumer_thread.start()\n",
        "\n",
        "# Wait for the producer to finish producing\n",
        "producer_thread.join()\n",
        "\n",
        "# Add None to the queue to signal the consumer to exit\n",
        "shared_queue.put(None)\n",
        "\n",
        "# Wait for the consumer to finish consuming\n",
        "consumer_thread.join()\n",
        "\n",
        "print(\"Producer and consumer have finished.\")"
      ]
    },
    {
      "cell_type": "markdown",
      "id": "55f7cead-6328-4821-aee9-5e049a51cc51",
      "metadata": {},
      "source": [
        "## Deamon thread"
      ]
    },
    {
      "cell_type": "markdown",
      "id": "855af2d1-a9d4-4902-a7bc-b632bd7560ce",
      "metadata": {},
      "source": [
        "A daemon thread is a thread that runs in the background, detached from the main program's lifecycle. When all non-daemon threads finish, daemon threads are terminated"
      ]
    },
    {
      "cell_type": "code",
      "execution_count": 24,
      "id": "ab4b526a-f4ea-4cc3-b863-6749661c9e81",
      "metadata": {},
      "outputs": [
        {
          "name": "stdout",
          "output_type": "stream",
          "text": [
            "Has been waiting for 1 second(s)...\n",
            "Has been waiting for 2 second(s)...\n",
            "Has been waiting for 3 second(s)...\n",
            "Has been waiting for 4 second(s)...\n",
            "Has been waiting for 5 second(s)...\n",
            "Has been waiting for 6 second(s)...\n",
            "Has been waiting for 7 second(s)...\n",
            "Has been waiting for 8 second(s)...\n",
            "Has been waiting for 9 second(s)...\n",
            "Has been waiting for 10 second(s)...\n",
            "Has been waiting for 11 second(s)...\n",
            "Has been waiting for 12 second(s)...\n",
            "Has been waiting for 13 second(s)...\n",
            "Has been waiting for 14 second(s)...\n",
            "Has been waiting for 15 second(s)...\n",
            "Has been waiting for 16 second(s)...\n",
            "Has been waiting for 17 second(s)...\n",
            "Has been waiting for 18 second(s)...\n",
            "Has been waiting for 19 second(s)...\n",
            "Has been waiting for 20 second(s)...\n",
            "Has been waiting for 21 second(s)...\n",
            "Has been waiting for 22 second(s)...\n",
            "Has been waiting for 23 second(s)...\n",
            "Has been waiting for 24 second(s)...\n",
            "Has been waiting for 25 second(s)...\n",
            "Has been waiting for 26 second(s)...\n",
            "Has been waiting for 27 second(s)...\n",
            "Has been waiting for 28 second(s)...\n",
            "Has been waiting for 29 second(s)...\n",
            "Has been waiting for 30 second(s)...\n",
            "Has been waiting for 31 second(s)...\n",
            "Has been waiting for 32 second(s)...\n",
            "Has been waiting for 33 second(s)...\n",
            "Has been waiting for 34 second(s)...\n",
            "Has been waiting for 35 second(s)...\n",
            "Has been waiting for 36 second(s)...\n",
            "Has been waiting for 37 second(s)...\n",
            "Has been waiting for 38 second(s)...\n",
            "Has been waiting for 39 second(s)...\n",
            "Has been waiting for 40 second(s)...\n",
            "Has been waiting for 41 second(s)...\n",
            "Has been waiting for 42 second(s)...\n",
            "Has been waiting for 43 second(s)...\n",
            "Has been waiting for 44 second(s)...\n",
            "Has been waiting for 45 second(s)...\n",
            "Has been waiting for 46 second(s)...\n",
            "Has been waiting for 47 second(s)...\n",
            "Has been waiting for 48 second(s)...\n",
            "Has been waiting for 49 second(s)...\n",
            "Has been waiting for 50 second(s)...\n",
            "Has been waiting for 51 second(s)...\n",
            "Has been waiting for 52 second(s)...\n",
            "Has been waiting for 53 second(s)...\n",
            "Has been waiting for 54 second(s)...\n",
            "Has been waiting for 55 second(s)...\n",
            "Has been waiting for 56 second(s)...\n",
            "Has been waiting for 57 second(s)...\n",
            "Has been waiting for 58 second(s)...\n",
            "Has been waiting for 59 second(s)...\n",
            "Has been waiting for 60 second(s)...\n",
            "Has been waiting for 61 second(s)...\n",
            "Has been waiting for 62 second(s)...\n",
            "Has been waiting for 63 second(s)...\n",
            "Has been waiting for 64 second(s)...\n",
            "Has been waiting for 65 second(s)...\n",
            "Has been waiting for 66 second(s)...\n",
            "Has been waiting for 67 second(s)...\n",
            "Has been waiting for 68 second(s)...\n",
            "Has been waiting for 69 second(s)...\n",
            "Has been waiting for 70 second(s)...\n",
            "Has been waiting for 71 second(s)...\n",
            "Has been waiting for 72 second(s)...\n",
            "Has been waiting for 73 second(s)...\n",
            "Has been waiting for 74 second(s)...\n",
            "Has been waiting for 75 second(s)...\n",
            "Has been waiting for 76 second(s)...\n",
            "Has been waiting for 77 second(s)...\n",
            "Has been waiting for 78 second(s)...\n",
            "Has been waiting for 79 second(s)...\n",
            "Has been waiting for 80 second(s)...\n",
            "Has been waiting for 81 second(s)...\n",
            "Has been waiting for 82 second(s)...\n",
            "Has been waiting for 83 second(s)...\n",
            "Has been waiting for 84 second(s)...\n",
            "Has been waiting for 85 second(s)...\n",
            "Has been waiting for 86 second(s)...\n",
            "Has been waiting for 87 second(s)...\n",
            "Has been waiting for 88 second(s)...\n",
            "Has been waiting for 89 second(s)...\n",
            "Has been waiting for 90 second(s)...\n",
            "Has been waiting for 91 second(s)...\n",
            "Has been waiting for 92 second(s)...\n",
            "Has been waiting for 93 second(s)...\n",
            "Has been waiting for 94 second(s)...\n",
            "Has been waiting for 95 second(s)...\n",
            "Has been waiting for 96 second(s)...\n",
            "Has been waiting for 97 second(s)...\n",
            "Has been waiting for 98 second(s)...\n",
            "Has been waiting for 99 second(s)...\n",
            "Has been waiting for 100 second(s)...\n",
            "Has been waiting for 101 second(s)...\n",
            "Has been waiting for 102 second(s)...\n",
            "Has been waiting for 103 second(s)...\n",
            "Has been waiting for 104 second(s)...\n",
            "Has been waiting for 105 second(s)...\n",
            "Has been waiting for 106 second(s)...\n",
            "Has been waiting for 107 second(s)...\n",
            "Has been waiting for 108 second(s)...\n",
            "Has been waiting for 109 second(s)...\n",
            "Has been waiting for 110 second(s)...\n",
            "Has been waiting for 111 second(s)...\n",
            "Has been waiting for 112 second(s)...\n",
            "Has been waiting for 113 second(s)...\n",
            "Has been waiting for 114 second(s)...\n",
            "Has been waiting for 115 second(s)...\n",
            "Has been waiting for 116 second(s)...\n",
            "Has been waiting for 117 second(s)...\n",
            "Has been waiting for 118 second(s)...\n",
            "Has been waiting for 119 second(s)...\n",
            "Has been waiting for 120 second(s)...\n",
            "Has been waiting for 121 second(s)...\n",
            "Has been waiting for 122 second(s)...\n",
            "Has been waiting for 123 second(s)...\n",
            "Has been waiting for 124 second(s)...\n",
            "Has been waiting for 125 second(s)...\n",
            "Has been waiting for 126 second(s)...\n",
            "Has been waiting for 127 second(s)...\n",
            "Has been waiting for 128 second(s)...\n",
            "Has been waiting for 129 second(s)...\n",
            "Has been waiting for 130 second(s)...\n",
            "Has been waiting for 131 second(s)...\n",
            "Has been waiting for 132 second(s)...\n",
            "Has been waiting for 133 second(s)...\n",
            "Has been waiting for 134 second(s)...\n",
            "Has been waiting for 135 second(s)...\n",
            "Has been waiting for 136 second(s)...\n",
            "Has been waiting for 137 second(s)...\n",
            "Has been waiting for 138 second(s)...\n",
            "Has been waiting for 139 second(s)...\n",
            "Has been waiting for 140 second(s)...\n",
            "Has been waiting for 141 second(s)...\n",
            "Has been waiting for 142 second(s)...\n",
            "Has been waiting for 143 second(s)...\n",
            "Has been waiting for 144 second(s)...\n",
            "Has been waiting for 145 second(s)...\n",
            "Has been waiting for 146 second(s)...\n",
            "Has been waiting for 147 second(s)...\n",
            "Has been waiting for 148 second(s)...\n",
            "Has been waiting for 149 second(s)...\n",
            "Has been waiting for 150 second(s)...\n",
            "Has been waiting for 151 second(s)...\n",
            "Has been waiting for 152 second(s)...\n",
            "Has been waiting for 153 second(s)...\n",
            "Has been waiting for 154 second(s)...\n",
            "Has been waiting for 155 second(s)...\n",
            "Has been waiting for 156 second(s)...\n"
          ]
        },
        {
          "name": "stdout",
          "output_type": "stream",
          "text": [
            "Has been waiting for 157 second(s)...\n",
            "Has been waiting for 158 second(s)...\n",
            "Has been waiting for 159 second(s)...\n",
            "Has been waiting for 160 second(s)...\n",
            "Has been waiting for 161 second(s)...\n",
            "Has been waiting for 162 second(s)...\n",
            "Has been waiting for 163 second(s)...\n",
            "Has been waiting for 164 second(s)...\n",
            "Has been waiting for 165 second(s)...\n",
            "Has been waiting for 166 second(s)...\n",
            "Has been waiting for 167 second(s)...\n",
            "Has been waiting for 168 second(s)...\n",
            "Has been waiting for 169 second(s)...\n",
            "Has been waiting for 170 second(s)...\n",
            "Has been waiting for 171 second(s)...\n",
            "Has been waiting for 172 second(s)...\n",
            "Has been waiting for 173 second(s)...\n",
            "Has been waiting for 174 second(s)...\n",
            "Has been waiting for 175 second(s)...\n",
            "Has been waiting for 176 second(s)...\n",
            "Has been waiting for 177 second(s)...\n",
            "Has been waiting for 178 second(s)...\n",
            "Has been waiting for 179 second(s)...\n",
            "Has been waiting for 180 second(s)...\n",
            "Has been waiting for 181 second(s)...\n",
            "Has been waiting for 182 second(s)...\n",
            "Has been waiting for 183 second(s)...\n",
            "Has been waiting for 184 second(s)...\n",
            "Has been waiting for 185 second(s)...\n",
            "Has been waiting for 186 second(s)...\n",
            "Has been waiting for 187 second(s)...\n",
            "Has been waiting for 188 second(s)...\n",
            "Has been waiting for 189 second(s)...\n",
            "Has been waiting for 190 second(s)...\n",
            "Has been waiting for 191 second(s)...\n",
            "Has been waiting for 192 second(s)...\n",
            "Has been waiting for 193 second(s)...\n",
            "Has been waiting for 194 second(s)...\n",
            "Has been waiting for 195 second(s)...\n",
            "Has been waiting for 196 second(s)...\n",
            "Has been waiting for 197 second(s)...\n",
            "Has been waiting for 198 second(s)...\n",
            "Has been waiting for 199 second(s)...\n",
            "Has been waiting for 200 second(s)...\n",
            "Has been waiting for 201 second(s)...\n",
            "Has been waiting for 202 second(s)...\n",
            "Has been waiting for 203 second(s)...\n",
            "Has been waiting for 204 second(s)...\n",
            "Has been waiting for 205 second(s)...\n",
            "Has been waiting for 206 second(s)...\n",
            "Has been waiting for 207 second(s)...\n",
            "Has been waiting for 208 second(s)...\n",
            "Has been waiting for 209 second(s)...\n",
            "Has been waiting for 210 second(s)...\n",
            "Has been waiting for 211 second(s)...\n",
            "Has been waiting for 212 second(s)...\n",
            "Has been waiting for 213 second(s)...\n",
            "Has been waiting for 214 second(s)...\n",
            "Has been waiting for 215 second(s)...\n",
            "Has been waiting for 216 second(s)...\n",
            "Has been waiting for 217 second(s)...\n",
            "Has been waiting for 218 second(s)...\n",
            "Has been waiting for 219 second(s)...\n",
            "Has been waiting for 220 second(s)...\n",
            "Has been waiting for 221 second(s)...\n",
            "Has been waiting for 222 second(s)...\n",
            "Has been waiting for 223 second(s)...\n",
            "Has been waiting for 224 second(s)...\n",
            "Has been waiting for 225 second(s)...\n",
            "Has been waiting for 226 second(s)...\n",
            "Has been waiting for 227 second(s)...\n",
            "Has been waiting for 228 second(s)...\n",
            "Has been waiting for 229 second(s)...\n",
            "Has been waiting for 230 second(s)...\n",
            "Has been waiting for 231 second(s)...\n",
            "Has been waiting for 232 second(s)...\n",
            "Has been waiting for 233 second(s)...\n",
            "Has been waiting for 234 second(s)...\n",
            "Has been waiting for 235 second(s)...\n",
            "Has been waiting for 236 second(s)...\n",
            "Has been waiting for 237 second(s)...\n",
            "Has been waiting for 238 second(s)...\n",
            "Has been waiting for 239 second(s)...\n",
            "Has been waiting for 240 second(s)...\n",
            "Has been waiting for 241 second(s)...\n",
            "Has been waiting for 242 second(s)...\n",
            "Has been waiting for 243 second(s)...\n",
            "Has been waiting for 244 second(s)...\n",
            "Has been waiting for 245 second(s)...\n",
            "Has been waiting for 246 second(s)...\n",
            "Has been waiting for 247 second(s)...\n",
            "Has been waiting for 248 second(s)...\n",
            "Has been waiting for 249 second(s)...\n",
            "Has been waiting for 250 second(s)...\n",
            "Has been waiting for 251 second(s)...\n",
            "Has been waiting for 252 second(s)...\n",
            "Has been waiting for 253 second(s)...\n",
            "Has been waiting for 254 second(s)...\n",
            "Has been waiting for 255 second(s)...\n",
            "Has been waiting for 256 second(s)...\n",
            "Has been waiting for 257 second(s)...\n",
            "Has been waiting for 258 second(s)...\n",
            "Has been waiting for 259 second(s)...\n",
            "Has been waiting for 260 second(s)...\n",
            "Has been waiting for 261 second(s)...\n",
            "Has been waiting for 262 second(s)...\n",
            "Has been waiting for 263 second(s)...\n",
            "Has been waiting for 264 second(s)...\n",
            "Has been waiting for 265 second(s)...\n",
            "Has been waiting for 266 second(s)...\n",
            "Has been waiting for 267 second(s)...\n",
            "Has been waiting for 268 second(s)...\n",
            "Has been waiting for 269 second(s)...\n",
            "Has been waiting for 270 second(s)...\n",
            "Has been waiting for 271 second(s)...\n",
            "Has been waiting for 272 second(s)...\n",
            "Has been waiting for 273 second(s)...\n",
            "Has been waiting for 274 second(s)...\n",
            "Has been waiting for 275 second(s)...\n",
            "Has been waiting for 276 second(s)...\n",
            "Has been waiting for 277 second(s)...\n",
            "Has been waiting for 278 second(s)...\n",
            "Has been waiting for 279 second(s)...\n",
            "Has been waiting for 280 second(s)...\n",
            "Has been waiting for 281 second(s)...\n",
            "Has been waiting for 282 second(s)...\n",
            "Has been waiting for 283 second(s)...\n",
            "Has been waiting for 284 second(s)...\n",
            "Has been waiting for 285 second(s)...\n",
            "Has been waiting for 286 second(s)...\n",
            "Has been waiting for 287 second(s)...\n",
            "Has been waiting for 288 second(s)...\n",
            "Has been waiting for 289 second(s)...\n",
            "Has been waiting for 290 second(s)...\n",
            "Has been waiting for 291 second(s)...\n",
            "Has been waiting for 292 second(s)...\n",
            "Has been waiting for 293 second(s)...\n",
            "Has been waiting for 294 second(s)...\n",
            "Has been waiting for 295 second(s)...\n",
            "Has been waiting for 296 second(s)...\n",
            "Has been waiting for 297 second(s)...\n"
          ]
        }
      ],
      "source": [
        "import threading\n",
        "import time\n",
        "\n",
        "\n",
        "def timer_thread():\n",
        "    count = 0\n",
        "    while True:\n",
        "        count += 1\n",
        "        time.sleep(1)\n",
        "        print(f\"Has been waiting for {count} second(s)...\")\n",
        "\n",
        "\n",
        "# Create and start the timer thread\n",
        "timer_thread = threading.Thread(target=timer_thread)\n",
        "timer_thread.start()\n",
        "\n",
        "# Wait for user input to exit\n",
        "answer = input(\"Do you want to exit? (Type 'yes' to exit)\\n\")\n",
        "\n",
        "# To stop this go to Kernel -> Restart Kernel"
      ]
    },
    {
      "cell_type": "code",
      "execution_count": 1,
      "id": "ad264d27-a6dd-4fe9-bc4e-78248cb7497c",
      "metadata": {},
      "outputs": [
        {
          "name": "stdout",
          "output_type": "stream",
          "text": [
            "Has been waiting for 1 second(s)...\n",
            "Has been waiting for 2 second(s)...\n",
            "Has been waiting for 3 second(s)...\n",
            "Has been waiting for 4 second(s)...\n",
            "Has been waiting for 5 second(s)...\n",
            "Has been waiting for 6 second(s)...\n",
            "Has been waiting for 7 second(s)...\n"
          ]
        },
        {
          "ename": "AttributeError",
          "evalue": "'Thread' object has no attribute 'stop'",
          "output_type": "error",
          "traceback": [
            "\u001b[1;31m---------------------------------------------------------------------------\u001b[0m",
            "\u001b[1;31mAttributeError\u001b[0m                            Traceback (most recent call last)",
            "\u001b[1;32mc:\\Users\\bhmiller\\OneDrive - Intel Corporation\\Documents\\GitHub\\intermediate-python\\content\\10_concurrency.ipynb Cell 38\u001b[0m line \u001b[0;36m1\n\u001b[0;32m     <a href='vscode-notebook-cell:/c%3A/Users/bhmiller/OneDrive%20-%20Intel%20Corporation/Documents/GitHub/intermediate-python/content/10_concurrency.ipynb#X52sZmlsZQ%3D%3D?line=16'>17</a>\u001b[0m \u001b[39m# Wait for user input to exit\u001b[39;00m\n\u001b[0;32m     <a href='vscode-notebook-cell:/c%3A/Users/bhmiller/OneDrive%20-%20Intel%20Corporation/Documents/GitHub/intermediate-python/content/10_concurrency.ipynb#X52sZmlsZQ%3D%3D?line=17'>18</a>\u001b[0m answer \u001b[39m=\u001b[39m \u001b[39minput\u001b[39m(\u001b[39m\"\u001b[39m\u001b[39mDo you want to exit? (Type \u001b[39m\u001b[39m'\u001b[39m\u001b[39myes\u001b[39m\u001b[39m'\u001b[39m\u001b[39m to exit)\u001b[39m\u001b[39m\\n\u001b[39;00m\u001b[39m\"\u001b[39m)\n\u001b[1;32m---> <a href='vscode-notebook-cell:/c%3A/Users/bhmiller/OneDrive%20-%20Intel%20Corporation/Documents/GitHub/intermediate-python/content/10_concurrency.ipynb#X52sZmlsZQ%3D%3D?line=18'>19</a>\u001b[0m timer_thread\u001b[39m.\u001b[39;49mstop()\n",
            "\u001b[1;31mAttributeError\u001b[0m: 'Thread' object has no attribute 'stop'"
          ]
        },
        {
          "name": "stdout",
          "output_type": "stream",
          "text": [
            "Has been waiting for 8 second(s)...\n",
            "Has been waiting for 9 second(s)...\n",
            "Has been waiting for 10 second(s)...\n",
            "Has been waiting for 11 second(s)...\n",
            "Has been waiting for 12 second(s)...\n",
            "Has been waiting for 13 second(s)...\n",
            "Has been waiting for 14 second(s)...\n",
            "Has been waiting for 15 second(s)...\n",
            "Has been waiting for 16 second(s)...\n",
            "Has been waiting for 17 second(s)...\n",
            "Has been waiting for 18 second(s)...\n",
            "Has been waiting for 19 second(s)...\n",
            "Has been waiting for 20 second(s)...\n",
            "Has been waiting for 21 second(s)...\n",
            "Has been waiting for 22 second(s)...\n",
            "Has been waiting for 23 second(s)...\n",
            "Has been waiting for 24 second(s)...\n",
            "Has been waiting for 25 second(s)...\n",
            "Has been waiting for 26 second(s)...\n",
            "Has been waiting for 27 second(s)...\n",
            "Has been waiting for 28 second(s)...\n",
            "Has been waiting for 29 second(s)...\n",
            "Has been waiting for 30 second(s)...\n",
            "Has been waiting for 31 second(s)...\n",
            "Has been waiting for 32 second(s)...\n",
            "Has been waiting for 33 second(s)...\n",
            "Has been waiting for 34 second(s)...\n",
            "Has been waiting for 35 second(s)...\n",
            "Has been waiting for 36 second(s)...\n",
            "Has been waiting for 37 second(s)...\n",
            "Has been waiting for 38 second(s)...\n",
            "Has been waiting for 39 second(s)...\n",
            "Has been waiting for 40 second(s)...\n",
            "Has been waiting for 41 second(s)...\n",
            "Has been waiting for 42 second(s)...\n",
            "Has been waiting for 43 second(s)...\n",
            "Has been waiting for 44 second(s)...\n",
            "Has been waiting for 45 second(s)...\n",
            "Has been waiting for 46 second(s)...\n",
            "Has been waiting for 47 second(s)...\n",
            "Has been waiting for 48 second(s)...\n",
            "Has been waiting for 49 second(s)...\n",
            "Has been waiting for 50 second(s)...\n",
            "Has been waiting for 51 second(s)...\n",
            "Has been waiting for 52 second(s)...\n",
            "Has been waiting for 53 second(s)...\n",
            "Has been waiting for 54 second(s)...\n",
            "Has been waiting for 55 second(s)...\n",
            "Has been waiting for 56 second(s)...\n",
            "Has been waiting for 57 second(s)...\n",
            "Has been waiting for 58 second(s)...\n",
            "Has been waiting for 59 second(s)...\n",
            "Has been waiting for 60 second(s)...\n",
            "Has been waiting for 61 second(s)...\n",
            "Has been waiting for 62 second(s)...\n",
            "Has been waiting for 63 second(s)...\n",
            "Has been waiting for 64 second(s)...\n",
            "Has been waiting for 65 second(s)...\n",
            "Has been waiting for 66 second(s)...\n",
            "Has been waiting for 67 second(s)...\n",
            "Has been waiting for 68 second(s)...\n",
            "Has been waiting for 69 second(s)...\n",
            "Has been waiting for 70 second(s)...\n",
            "Has been waiting for 71 second(s)...\n",
            "Has been waiting for 72 second(s)...\n",
            "Has been waiting for 73 second(s)...\n",
            "Has been waiting for 74 second(s)...\n",
            "Has been waiting for 75 second(s)...\n",
            "Has been waiting for 76 second(s)...\n",
            "Has been waiting for 77 second(s)...\n",
            "Has been waiting for 78 second(s)...\n",
            "Has been waiting for 79 second(s)...\n",
            "Has been waiting for 80 second(s)...\n",
            "Has been waiting for 81 second(s)...\n",
            "Has been waiting for 82 second(s)...\n",
            "Has been waiting for 83 second(s)...\n",
            "Has been waiting for 84 second(s)...\n",
            "Has been waiting for 85 second(s)...\n",
            "Has been waiting for 86 second(s)...\n",
            "Has been waiting for 87 second(s)...\n",
            "Has been waiting for 88 second(s)...\n",
            "Has been waiting for 89 second(s)...\n",
            "Has been waiting for 90 second(s)...\n",
            "Has been waiting for 91 second(s)...\n",
            "Has been waiting for 92 second(s)...\n",
            "Has been waiting for 93 second(s)...\n"
          ]
        }
      ],
      "source": [
        "import threading\n",
        "import time\n",
        "\n",
        "\n",
        "def timer_thread():\n",
        "    count = 0\n",
        "    while True:\n",
        "        count += 1\n",
        "        time.sleep(1)\n",
        "        print(f\"Has been waiting for {count} second(s)...\")\n",
        "\n",
        "\n",
        "# Create and start the timer thread as a daemon thread\n",
        "timer_thread = threading.Thread(target=timer_thread, daemon=True)\n",
        "timer_thread.start()\n",
        "\n",
        "# Wait for user input to exit\n",
        "answer = input(\"Do you want to exit? (Type 'yes' to exit)\\n\")\n",
        "\n",
        "# this won't automatically stop the thread in Jupyter notebook, because the main() thread isn't actually here\n",
        "# Use Kernel -> Restart to stop the thread"
      ]
    },
    {
      "cell_type": "markdown",
      "id": "0ba1e871-7fa4-45b7-b330-dfd2d05f2ce0",
      "metadata": {},
      "source": [
        "# multiprocessing"
      ]
    },
    {
      "cell_type": "markdown",
      "id": "66b07308-7277-447b-90bc-763040632476",
      "metadata": {},
      "source": [
        "The multiprocessing module facilitates parallel execution by creating separate processes. This is beneficial for CPU-bound tasks as it leverages multiple CPU cores. "
      ]
    },
    {
      "cell_type": "code",
      "execution_count": 1,
      "id": "723389fb-ed7b-4c11-b430-c543af43666a",
      "metadata": {},
      "outputs": [
        {
          "name": "stdout",
          "output_type": "stream",
          "text": [
            "Writing example/multiprocess_example.py\n"
          ]
        }
      ],
      "source": [
        "%%writefile example/multiprocess_example.py\n",
        "import multiprocessing\n",
        "import random\n",
        "\n",
        "def is_prime(n):\n",
        "    for i in range(2, n):\n",
        "        if n % i == 0:\n",
        "            return False\n",
        "    return True\n",
        "\n",
        "def get_prime_arr(arr):\n",
        "    return [is_prime(elem) for elem in arr]\n",
        "\n",
        "if __name__ == \"__main__\":\n",
        "    num_arr = [random.randint(100, 10000) for i in range(3000)]\n",
        "    p1 = multiprocessing.Process(target=get_prime_arr, args=(num_arr[:1001],))\n",
        "    p2 = multiprocessing.Process(target=get_prime_arr, args=(num_arr[1001:2001],))\n",
        "    p3 = multiprocessing.Process(target=get_prime_arr, args=(num_arr[2001:3000],))\n",
        "\n",
        "    p1.start()\n",
        "    p2.start()\n",
        "    p3.start()\n",
        "\n",
        "    p1.join()\n",
        "    p2.join()\n",
        "    p3.join()"
      ]
    },
    {
      "cell_type": "code",
      "execution_count": 3,
      "id": "3e46e6e4-75e8-4f35-9fea-14b299502203",
      "metadata": {},
      "outputs": [
        {
          "name": "stdout",
          "output_type": "stream",
          "text": [
            "\n",
            "                                                                                \n",
            "Saving trace data, this could take a while\n",
            "                                                                                \n",
            "Loading trace data from processes 0/4\n",
            "                                                                                \n",
            "Loading trace data from processes 1/4\n",
            "                                                                                \n",
            "Loading trace data from processes 2/4\n",
            "                                                                                \n",
            "Loading trace data from processes 3/4\n",
            "                                                                                \n",
            "Combining trace data\n",
            "                                                                                \n",
            "Dumping trace data, total entries: 29555\n",
            "                                                                                \n",
            "Total Entries: 29555\n",
            "Use the following command to open the report:\n",
            "\u001b[92mvizviewer \"c:\\Users\\bhmiller\\OneDrive - Intel Corporation\\Documents\\GitHub\\intermediate-python\\content\\result.json\"\u001b[0m\n"
          ]
        }
      ],
      "source": [
        "!viztracer example/multiprocess_example.py"
      ]
    },
    {
      "cell_type": "markdown",
      "id": "7ce4491a-c4f4-48dd-bf87-52aaeb6cec65",
      "metadata": {},
      "source": [
        "## concurrent.futures"
      ]
    },
    {
      "cell_type": "markdown",
      "id": "eed3943d-9f1c-4dfa-92ac-511783a651c1",
      "metadata": {},
      "source": [
        "The `concurrent.futures` module abstracts the management of threads and processes for concurrent execution. It provides high-level interfaces for executing functions asynchronously."
      ]
    },
    {
      "cell_type": "code",
      "execution_count": 6,
      "id": "333ae24a-9b35-4b97-b224-bf5dcdc99cbe",
      "metadata": {},
      "outputs": [
        {
          "name": "stdout",
          "output_type": "stream",
          "text": [
            "Writing example/single_core_multi_thread_concurrent.py\n"
          ]
        }
      ],
      "source": [
        "%%writefile example/single_core_multi_thread_concurrent.py\n",
        "import concurrent.futures\n",
        "from downloader import download_file  # Make sure you have the download_file function defined\n",
        "from pathlib import Path\n",
        "import shutil\n",
        "\n",
        "def main():\n",
        "    itr_forms = [\n",
        "        \"http://incometaxindia.gov.in/forms/income-tax%20rules/2023/itr1_english.pdf\",\n",
        "        \"http://incometaxindia.gov.in/forms/income-tax%20rules/2023/itr2_english.pdf\",\n",
        "        \"http://incometaxindia.gov.in/forms/income-tax%20rules/2023/itr3_english.pdf\",\n",
        "        \"http://incometaxindia.gov.in/forms/income-tax%20rules/2023/itr4_english.pdf\",\n",
        "        \"http://incometaxindia.gov.in/forms/income-tax%20rules/2023/itr5_english.pdf\",\n",
        "        \"http://incometaxindia.gov.in/forms/income-tax%20rules/2023/itr6_english.pdf\",\n",
        "        \"http://incometaxindia.gov.in/forms/income-tax%20rules/2023/itr7_english.pdf\",\n",
        "    ]\n",
        "\n",
        "    target_path = Path(\"static\") / \"concurrency_example\"\n",
        "    shutil.rmtree(target_path, ignore_errors=True)\n",
        "    target_path.mkdir(exist_ok=True, parents=True)\n",
        "\n",
        "    with concurrent.futures.ThreadPoolExecutor() as executor:\n",
        "        futures = [executor.submit(download_file, itr_form, target_path) for itr_form in itr_forms]\n",
        "        \n",
        "        # Wait for all futures to complete\n",
        "        concurrent.futures.wait(futures)\n",
        "\n",
        "    print(\"All downloads completed!\")\n",
        "\n",
        "if __name__ == \"__main__\":\n",
        "    main()"
      ]
    },
    {
      "cell_type": "code",
      "execution_count": 7,
      "id": "699b56b1-5b88-4466-bbea-e58f757658d5",
      "metadata": {},
      "outputs": [
        {
          "name": "stdout",
          "output_type": "stream",
          "text": [
            "Downloading itr3_english.pdf...\n",
            "Download complete for itr3_english.pdf!\n",
            "Downloading itr5_english.pdf...\n",
            "Downloading itr2_english.pdf...\n",
            "Download complete for itr5_english.pdf!\n",
            "Download complete for itr2_english.pdf!\n",
            "Downloading itr1_english.pdf...\n",
            "Downloading itr6_english.pdf...\n",
            "Downloading itr7_english.pdf...\n",
            "Download complete for itr1_english.pdf!\n",
            "Download complete for itr6_english.pdf!\n",
            "Download complete for itr7_english.pdf!\n",
            "Downloading itr4_english.pdf...\n",
            "Download complete for itr4_english.pdf!\n",
            "All downloads completed!\n",
            "\n",
            "                                                                                \n",
            "Saving trace data, this could take a while\n",
            "                                                                                \n",
            "Loading trace data from processes 0/1\n",
            "                                                                                \n",
            "Combining trace data\n",
            "                                                                                \n",
            "Dumping trace data, total entries: 154337\n",
            "                                                                                \n",
            "Total Entries: 154337\n",
            "Use the following command to open the report:\n",
            "\u001b[92mvizviewer \"c:\\Users\\bhmiller\\OneDrive - Intel Corporation\\Documents\\GitHub\\intermediate-python\\content\\result.json\"\u001b[0m\n"
          ]
        }
      ],
      "source": [
        "!viztracer example/single_core_multi_thread_concurrent.py"
      ]
    },
    {
      "cell_type": "code",
      "execution_count": 14,
      "id": "36a97443-2dfb-4fd7-85ae-d73d481f62b0",
      "metadata": {},
      "outputs": [
        {
          "name": "stdout",
          "output_type": "stream",
          "text": [
            "Writing example/multiprocess_example_concurrent.py\n"
          ]
        }
      ],
      "source": [
        "%%writefile example/multiprocess_example_concurrent.py\n",
        "import concurrent.futures\n",
        "import random\n",
        "\n",
        "def is_prime(n):\n",
        "    for i in range(2, n):\n",
        "        if n % i == 0:\n",
        "            return False\n",
        "    return True\n",
        "\n",
        "def get_prime_arr(arr):\n",
        "    return [is_prime(elem) for elem in arr]\n",
        "\n",
        "if __name__ == \"__main__\":\n",
        "    num_arr = [random.randint(100, 10000) for i in range(3000)]\n",
        "\n",
        "    num_arr_chunks = [num_arr[i:i+1000] for i in range(0, len(num_arr), 1000)]\n",
        "\n",
        "    with concurrent.futures.ProcessPoolExecutor() as executor:\n",
        "        futures = [executor.submit(get_prime_arr, chunk) for chunk in num_arr_chunks]\n",
        "        \n",
        "        # Wait for all futures to complete\n",
        "        concurrent.futures.wait(futures)\n",
        "\n",
        "    print(\"All prime number calculations completed!\")"
      ]
    },
    {
      "cell_type": "code",
      "execution_count": 15,
      "id": "819e02ef-9a4d-4d5b-8259-d535e8963456",
      "metadata": {},
      "outputs": [
        {
          "name": "stdout",
          "output_type": "stream",
          "text": [
            "\u001b[93m--log_multiprocess and --log_subprocess are no longer needed to trace multi-process program\u001b[0m\n",
            "All prime number calculations completed!\n",
            "\n",
            "                                                                                \n",
            "Saving trace data, this could take a while\n",
            "                                                                                \n",
            "Loading trace data from processes 0/4\n",
            "                                                                                \n",
            "Loading trace data from processes 1/4\n",
            "                                                                                \n",
            "Loading trace data from processes 2/4\n",
            "                                                                                \n",
            "Loading trace data from processes 3/4\n",
            "                                                                                \n",
            "Combining trace data\n",
            "                                                                                \n",
            "Dumping trace data, total entries: 33063\n",
            "                                                                                \n",
            "Total Entries: 33063\n",
            "Use the following command to open the report:\n",
            "\u001b[92mvizviewer \"c:\\Users\\bhmiller\\OneDrive - Intel Corporation\\Documents\\GitHub\\intermediate-python\\content\\result.json\"\u001b[0m\n"
          ]
        }
      ],
      "source": [
        "!viztracer --log_multiprocess example/multiprocess_example_concurrent.py"
      ]
    },
    {
      "cell_type": "markdown",
      "id": "6c045971-ed0b-4322-9cdd-edbffeeb46bd",
      "metadata": {},
      "source": [
        "**Best Visualization on multithreading and multiprocessing**\n",
        "\n",
        "[![](https://img.youtube.com/vi/AZnGRKFUU0c/0.jpg)](https://youtu.be/AZnGRKFUU0c)\n",
        "\n",
        "Also this [Medium article: Intro to Threads and Processes in Python](https://medium.com/@bfortuner/python-multithreading-vs-multiprocessing-73072ce5600b)\n",
        "\n",
        "**Some good talk on concurrency in Python**\n",
        "\n",
        "[![](https://img.youtube.com/vi/MCs5OvhV9S4/0.jpg)](https://youtu.be/MCs5OvhV9S4)\n",
        "\n",
        "[![](https://img.youtube.com/vi/18B1pznaU1o/0.jpg)](https://youtu.be/18B1pznaU1o)"
      ]
    },
    {
      "cell_type": "markdown",
      "id": "669f21df-a0d1-4469-8987-b918d20583af",
      "metadata": {},
      "source": [
        "\\[<< [Testing](./09_unittest.ipynb) | [Index](./00_index.ipynb) | [Virtual Environments](./11_virtual_environment.ipynb) >>\\]\n"
      ]
    }
  ],
  "metadata": {
    "kernelspec": {
      "display_name": "Python 3 (ipykernel)",
      "language": "python",
      "name": "python3"
    },
    "language_info": {
      "codemirror_mode": {
        "name": "ipython",
        "version": 3
      },
      "file_extension": ".py",
      "mimetype": "text/x-python",
      "name": "python",
      "nbconvert_exporter": "python",
      "pygments_lexer": "ipython3",
      "version": "3.11.6"
    }
  },
  "nbformat": 4,
  "nbformat_minor": 5
}
