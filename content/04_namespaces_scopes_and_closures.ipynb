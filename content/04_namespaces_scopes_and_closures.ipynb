{
 "cells": [
  {
   "cell_type": "markdown",
   "metadata": {},
   "source": [
    "\\[<< [Function parameters and arguments](./03_function_parameters_and_arguments.ipynb) | [Index](./00_index.ipynb) | [Other functions concepts](./05_other_functions_concepts.ipynb) >>\\]"
   ]
  },
  {
   "cell_type": "markdown",
   "metadata": {},
   "source": [
    "# Namespaces and Scopes"
   ]
  },
  {
   "cell_type": "markdown",
   "metadata": {},
   "source": [
    "In Python, a namespace is a container that holds identifiers (variables, functions, classes, etc.) and provides a way to distinguish them based on their names. Namespaces help avoid naming conflicts and provide a way to organize and access different elements within a program.\n",
    "\n",
    "Python has several types of namespaces, including the `built-in`, `global`, `enclosing` and `local` namespace. The scope determines the visibility and accessibility of identifiers within a namespace.\n",
    "\n",
    "[![](https://mermaid.ink/img/pako:eNqVlEtzgjAUhf8Kc7tFBwXlsdOg3bQru6p0OhGiMg0JA2GqdfzvTXwEpA_1rJKby_k4IWQHMU8IBLAqcL42XsKoiJghVYotJca4SqnopOx9FvOcGMuU0uBhOg2lzFIU_IOoqS11mnY-00Ssg36-0UbV4uh96XVerlmhtvelbrVXCudnb4PhjJQ5jsnbT8Aj5QtML6KEoQqjWbaN0BWWjtN0azbUPHSC-L6KdA9ECc2PhD8i1ZgJiykvU7ZqJVPZGtDhEKGrUJ2uZdrua5wQHRKh-3lK47mG_ZO1Jj7xuPUVp9PJRMOOB-iGDb7I2zD9ra-mjzQToYtTejNTaTQ_AK_kJSxpl1ulxvQ0BBMyUmQ4TeRPvVNLEYg1yUgEgRwmZIkrKiKI2F624krw2ZbFEIiiIiZUeYIFCVMsdyWDYIlpKas5ZhDsYANBz3K6Xs_t2ZZle778xiZsVdXv9h3XGva9od_3HN_em_DFuXSwuq7jWY7tuO7AHsgmzwSSpIIXz8d753D9HBCvhwfUe-y_AbIgX6U?type=png)](https://mermaid.live/edit#pako:eNqVlEtzgjAUhf8Kc7tFBwXlsdOg3bQru6p0OhGiMg0JA2GqdfzvTXwEpA_1rJKby_k4IWQHMU8IBLAqcL42XsKoiJghVYotJca4SqnopOx9FvOcGMuU0uBhOg2lzFIU_IOoqS11mnY-00Ssg36-0UbV4uh96XVerlmhtvelbrVXCudnb4PhjJQ5jsnbT8Aj5QtML6KEoQqjWbaN0BWWjtN0azbUPHSC-L6KdA9ECc2PhD8i1ZgJiykvU7ZqJVPZGtDhEKGrUJ2uZdrua5wQHRKh-3lK47mG_ZO1Jj7xuPUVp9PJRMOOB-iGDb7I2zD9ra-mjzQToYtTejNTaTQ_AK_kJSxpl1ulxvQ0BBMyUmQ4TeRPvVNLEYg1yUgEgRwmZIkrKiKI2F624krw2ZbFEIiiIiZUeYIFCVMsdyWDYIlpKas5ZhDsYANBz3K6Xs_t2ZZle778xiZsVdXv9h3XGva9od_3HN_em_DFuXSwuq7jWY7tuO7AHsgmzwSSpIIXz8d753D9HBCvhwfUe-y_AbIgX6U)"
   ]
  },
  {
   "cell_type": "markdown",
   "metadata": {},
   "source": [
    "## Built-in"
   ]
  },
  {
   "cell_type": "code",
   "execution_count": 1,
   "metadata": {},
   "outputs": [
    {
     "data": {
      "text/plain": [
       "['ArithmeticError',\n",
       " 'AssertionError',\n",
       " 'AttributeError',\n",
       " 'BaseException',\n",
       " 'BaseExceptionGroup',\n",
       " 'BlockingIOError',\n",
       " 'BrokenPipeError',\n",
       " 'BufferError',\n",
       " 'BytesWarning',\n",
       " 'ChildProcessError',\n",
       " 'ConnectionAbortedError',\n",
       " 'ConnectionError',\n",
       " 'ConnectionRefusedError',\n",
       " 'ConnectionResetError',\n",
       " 'DeprecationWarning',\n",
       " 'EOFError',\n",
       " 'Ellipsis',\n",
       " 'EncodingWarning',\n",
       " 'EnvironmentError',\n",
       " 'Exception',\n",
       " 'ExceptionGroup',\n",
       " 'False',\n",
       " 'FileExistsError',\n",
       " 'FileNotFoundError',\n",
       " 'FloatingPointError',\n",
       " 'FutureWarning',\n",
       " 'GeneratorExit',\n",
       " 'IOError',\n",
       " 'ImportError',\n",
       " 'ImportWarning',\n",
       " 'IndentationError',\n",
       " 'IndexError',\n",
       " 'InterruptedError',\n",
       " 'IsADirectoryError',\n",
       " 'KeyError',\n",
       " 'KeyboardInterrupt',\n",
       " 'LookupError',\n",
       " 'MemoryError',\n",
       " 'ModuleNotFoundError',\n",
       " 'NameError',\n",
       " 'None',\n",
       " 'NotADirectoryError',\n",
       " 'NotImplemented',\n",
       " 'NotImplementedError',\n",
       " 'OSError',\n",
       " 'OverflowError',\n",
       " 'PendingDeprecationWarning',\n",
       " 'PermissionError',\n",
       " 'ProcessLookupError',\n",
       " 'RecursionError',\n",
       " 'ReferenceError',\n",
       " 'ResourceWarning',\n",
       " 'RuntimeError',\n",
       " 'RuntimeWarning',\n",
       " 'StopAsyncIteration',\n",
       " 'StopIteration',\n",
       " 'SyntaxError',\n",
       " 'SyntaxWarning',\n",
       " 'SystemError',\n",
       " 'SystemExit',\n",
       " 'TabError',\n",
       " 'TimeoutError',\n",
       " 'True',\n",
       " 'TypeError',\n",
       " 'UnboundLocalError',\n",
       " 'UnicodeDecodeError',\n",
       " 'UnicodeEncodeError',\n",
       " 'UnicodeError',\n",
       " 'UnicodeTranslateError',\n",
       " 'UnicodeWarning',\n",
       " 'UserWarning',\n",
       " 'ValueError',\n",
       " 'Warning',\n",
       " 'WindowsError',\n",
       " 'ZeroDivisionError',\n",
       " '__IPYTHON__',\n",
       " '__build_class__',\n",
       " '__debug__',\n",
       " '__doc__',\n",
       " '__import__',\n",
       " '__loader__',\n",
       " '__name__',\n",
       " '__package__',\n",
       " '__spec__',\n",
       " 'abs',\n",
       " 'aiter',\n",
       " 'all',\n",
       " 'anext',\n",
       " 'any',\n",
       " 'ascii',\n",
       " 'bin',\n",
       " 'bool',\n",
       " 'breakpoint',\n",
       " 'bytearray',\n",
       " 'bytes',\n",
       " 'callable',\n",
       " 'chr',\n",
       " 'classmethod',\n",
       " 'compile',\n",
       " 'complex',\n",
       " 'copyright',\n",
       " 'credits',\n",
       " 'delattr',\n",
       " 'dict',\n",
       " 'dir',\n",
       " 'display',\n",
       " 'divmod',\n",
       " 'enumerate',\n",
       " 'eval',\n",
       " 'exec',\n",
       " 'execfile',\n",
       " 'filter',\n",
       " 'float',\n",
       " 'format',\n",
       " 'frozenset',\n",
       " 'get_ipython',\n",
       " 'getattr',\n",
       " 'globals',\n",
       " 'hasattr',\n",
       " 'hash',\n",
       " 'help',\n",
       " 'hex',\n",
       " 'id',\n",
       " 'input',\n",
       " 'int',\n",
       " 'isinstance',\n",
       " 'issubclass',\n",
       " 'iter',\n",
       " 'len',\n",
       " 'license',\n",
       " 'list',\n",
       " 'locals',\n",
       " 'map',\n",
       " 'max',\n",
       " 'memoryview',\n",
       " 'min',\n",
       " 'next',\n",
       " 'object',\n",
       " 'oct',\n",
       " 'open',\n",
       " 'ord',\n",
       " 'pow',\n",
       " 'print',\n",
       " 'property',\n",
       " 'range',\n",
       " 'repr',\n",
       " 'reversed',\n",
       " 'round',\n",
       " 'runfile',\n",
       " 'set',\n",
       " 'setattr',\n",
       " 'slice',\n",
       " 'sorted',\n",
       " 'staticmethod',\n",
       " 'str',\n",
       " 'sum',\n",
       " 'super',\n",
       " 'tuple',\n",
       " 'type',\n",
       " 'vars',\n",
       " 'zip']"
      ]
     },
     "execution_count": 1,
     "metadata": {},
     "output_type": "execute_result"
    }
   ],
   "source": [
    "dir(__builtins__)"
   ]
  },
  {
   "cell_type": "markdown",
   "metadata": {},
   "source": [
    "## Global vs Local Scope"
   ]
  },
  {
   "cell_type": "code",
   "execution_count": 3,
   "metadata": {},
   "outputs": [
    {
     "name": "stdout",
     "output_type": "stream",
     "text": [
      "Outside: Value of global val = 50\n",
      "\n",
      "Inside func: Value of local val = 100\n",
      "\n",
      "Outside after func call: Value of global val = 50\n",
      "\n"
     ]
    }
   ],
   "source": [
    "val = 50  # Global Scope\n",
    "\n",
    "print(f\"Outside: Value of global {val = }\\n\")\n",
    "\n",
    "\n",
    "def func():\n",
    "    val = 100  # Local Scope\n",
    "    print(f\"Inside func: Value of local {val = }\\n\")\n",
    "\n",
    "\n",
    "func()\n",
    "\n",
    "print(f\"Outside after func call: Value of global {val = }\\n\")"
   ]
  },
  {
   "cell_type": "markdown",
   "metadata": {},
   "source": [
    "**Question**: What do you think will be the output of the below code?"
   ]
  },
  {
   "cell_type": "code",
   "execution_count": 4,
   "metadata": {
    "tags": [
     "raises-exception"
    ]
   },
   "outputs": [
    {
     "name": "stdout",
     "output_type": "stream",
     "text": [
      "Outside: Value of global val = 50\n",
      "\n"
     ]
    },
    {
     "ename": "UnboundLocalError",
     "evalue": "cannot access local variable 'val' where it is not associated with a value",
     "output_type": "error",
     "traceback": [
      "\u001b[1;31m---------------------------------------------------------------------------\u001b[0m",
      "\u001b[1;31mUnboundLocalError\u001b[0m                         Traceback (most recent call last)",
      "\u001b[1;32mc:\\Users\\bhmiller\\OneDrive - Intel Corporation\\Documents\\GitHub\\intermediate-python\\content\\04_namespaces_scopes_and_closures.ipynb Cell 9\u001b[0m line \u001b[0;36m1\n\u001b[0;32m      <a href='vscode-notebook-cell:/c%3A/Users/bhmiller/OneDrive%20-%20Intel%20Corporation/Documents/GitHub/intermediate-python/content/04_namespaces_scopes_and_closures.ipynb#X11sZmlsZQ%3D%3D?line=6'>7</a>\u001b[0m     val \u001b[39m+\u001b[39m\u001b[39m=\u001b[39m \u001b[39m50\u001b[39m  \u001b[39m# This line is changed\u001b[39;00m\n\u001b[0;32m      <a href='vscode-notebook-cell:/c%3A/Users/bhmiller/OneDrive%20-%20Intel%20Corporation/Documents/GitHub/intermediate-python/content/04_namespaces_scopes_and_closures.ipynb#X11sZmlsZQ%3D%3D?line=7'>8</a>\u001b[0m     \u001b[39mprint\u001b[39m(\u001b[39mf\u001b[39m\u001b[39m\"\u001b[39m\u001b[39mInside func: Value of local \u001b[39m\u001b[39m{\u001b[39;00mval\u001b[39m \u001b[39m\u001b[39m= }\u001b[39;00m\u001b[39m\\n\u001b[39;00m\u001b[39m\"\u001b[39m)\n\u001b[1;32m---> <a href='vscode-notebook-cell:/c%3A/Users/bhmiller/OneDrive%20-%20Intel%20Corporation/Documents/GitHub/intermediate-python/content/04_namespaces_scopes_and_closures.ipynb#X11sZmlsZQ%3D%3D?line=10'>11</a>\u001b[0m func()\n\u001b[0;32m     <a href='vscode-notebook-cell:/c%3A/Users/bhmiller/OneDrive%20-%20Intel%20Corporation/Documents/GitHub/intermediate-python/content/04_namespaces_scopes_and_closures.ipynb#X11sZmlsZQ%3D%3D?line=12'>13</a>\u001b[0m \u001b[39mprint\u001b[39m(\u001b[39mf\u001b[39m\u001b[39m\"\u001b[39m\u001b[39mOutside after func call: Value of global \u001b[39m\u001b[39m{\u001b[39;00mval\u001b[39m \u001b[39m\u001b[39m= }\u001b[39;00m\u001b[39m\\n\u001b[39;00m\u001b[39m\"\u001b[39m)\n",
      "\u001b[1;32mc:\\Users\\bhmiller\\OneDrive - Intel Corporation\\Documents\\GitHub\\intermediate-python\\content\\04_namespaces_scopes_and_closures.ipynb Cell 9\u001b[0m line \u001b[0;36m7\n\u001b[0;32m      <a href='vscode-notebook-cell:/c%3A/Users/bhmiller/OneDrive%20-%20Intel%20Corporation/Documents/GitHub/intermediate-python/content/04_namespaces_scopes_and_closures.ipynb#X11sZmlsZQ%3D%3D?line=5'>6</a>\u001b[0m \u001b[39mdef\u001b[39;00m \u001b[39mfunc\u001b[39m():\n\u001b[1;32m----> <a href='vscode-notebook-cell:/c%3A/Users/bhmiller/OneDrive%20-%20Intel%20Corporation/Documents/GitHub/intermediate-python/content/04_namespaces_scopes_and_closures.ipynb#X11sZmlsZQ%3D%3D?line=6'>7</a>\u001b[0m     val \u001b[39m+\u001b[39m\u001b[39m=\u001b[39m \u001b[39m50\u001b[39m  \u001b[39m# This line is changed\u001b[39;00m\n\u001b[0;32m      <a href='vscode-notebook-cell:/c%3A/Users/bhmiller/OneDrive%20-%20Intel%20Corporation/Documents/GitHub/intermediate-python/content/04_namespaces_scopes_and_closures.ipynb#X11sZmlsZQ%3D%3D?line=7'>8</a>\u001b[0m     \u001b[39mprint\u001b[39m(\u001b[39mf\u001b[39m\u001b[39m\"\u001b[39m\u001b[39mInside func: Value of local \u001b[39m\u001b[39m{\u001b[39;00mval\u001b[39m \u001b[39m\u001b[39m= }\u001b[39;00m\u001b[39m\\n\u001b[39;00m\u001b[39m\"\u001b[39m)\n",
      "\u001b[1;31mUnboundLocalError\u001b[0m: cannot access local variable 'val' where it is not associated with a value"
     ]
    }
   ],
   "source": [
    "val = 50\n",
    "\n",
    "print(f\"Outside: Value of global {val = }\\n\")\n",
    "\n",
    "\n",
    "def func():\n",
    "    val += 50  # This line is changed\n",
    "    print(f\"Inside func: Value of local {val = }\\n\")\n",
    "\n",
    "\n",
    "func()\n",
    "\n",
    "print(f\"Outside after func call: Value of global {val = }\\n\")"
   ]
  },
  {
   "cell_type": "code",
   "execution_count": 5,
   "metadata": {
    "tags": []
   },
   "outputs": [
    {
     "name": "stdout",
     "output_type": "stream",
     "text": [
      "Outside: Value of global val = 50\n",
      "\n",
      "Inside func: Value of local val = 100\n",
      "\n",
      "Outside after func call: Value of global val = 100\n",
      "\n"
     ]
    }
   ],
   "source": [
    "val = 50\n",
    "\n",
    "print(f\"Outside: Value of global {val = }\\n\")\n",
    "\n",
    "\n",
    "def func():\n",
    "    global val\n",
    "    val += 50  # This line is changed\n",
    "    print(f\"Inside func: Value of local {val = }\\n\")\n",
    "\n",
    "\n",
    "func()\n",
    "\n",
    "print(f\"Outside after func call: Value of global {val = }\\n\")"
   ]
  },
  {
   "cell_type": "markdown",
   "metadata": {},
   "source": [
    "Okay what about this?"
   ]
  },
  {
   "cell_type": "code",
   "execution_count": 7,
   "metadata": {
    "tags": [
     "raises-exception"
    ]
   },
   "outputs": [
    {
     "name": "stdout",
     "output_type": "stream",
     "text": [
      "Outside: Value of global val = [1, 2, 3]\n",
      "\n"
     ]
    },
    {
     "ename": "UnboundLocalError",
     "evalue": "cannot access local variable 'val' where it is not associated with a value",
     "output_type": "error",
     "traceback": [
      "\u001b[1;31m---------------------------------------------------------------------------\u001b[0m",
      "\u001b[1;31mUnboundLocalError\u001b[0m                         Traceback (most recent call last)",
      "\u001b[1;32mc:\\Users\\bhmiller\\OneDrive - Intel Corporation\\Documents\\GitHub\\intermediate-python\\content\\04_namespaces_scopes_and_closures.ipynb Cell 12\u001b[0m line \u001b[0;36m1\n\u001b[0;32m      <a href='vscode-notebook-cell:/c%3A/Users/bhmiller/OneDrive%20-%20Intel%20Corporation/Documents/GitHub/intermediate-python/content/04_namespaces_scopes_and_closures.ipynb#X14sZmlsZQ%3D%3D?line=6'>7</a>\u001b[0m     val \u001b[39m+\u001b[39m\u001b[39m=\u001b[39m [\u001b[39m4\u001b[39m]\n\u001b[0;32m      <a href='vscode-notebook-cell:/c%3A/Users/bhmiller/OneDrive%20-%20Intel%20Corporation/Documents/GitHub/intermediate-python/content/04_namespaces_scopes_and_closures.ipynb#X14sZmlsZQ%3D%3D?line=7'>8</a>\u001b[0m     \u001b[39mprint\u001b[39m(\u001b[39mf\u001b[39m\u001b[39m\"\u001b[39m\u001b[39mInside func: Value of local \u001b[39m\u001b[39m{\u001b[39;00mval\u001b[39m \u001b[39m\u001b[39m= }\u001b[39;00m\u001b[39m\\n\u001b[39;00m\u001b[39m\"\u001b[39m)\n\u001b[1;32m---> <a href='vscode-notebook-cell:/c%3A/Users/bhmiller/OneDrive%20-%20Intel%20Corporation/Documents/GitHub/intermediate-python/content/04_namespaces_scopes_and_closures.ipynb#X14sZmlsZQ%3D%3D?line=10'>11</a>\u001b[0m func()\n\u001b[0;32m     <a href='vscode-notebook-cell:/c%3A/Users/bhmiller/OneDrive%20-%20Intel%20Corporation/Documents/GitHub/intermediate-python/content/04_namespaces_scopes_and_closures.ipynb#X14sZmlsZQ%3D%3D?line=12'>13</a>\u001b[0m \u001b[39mprint\u001b[39m(\u001b[39mf\u001b[39m\u001b[39m\"\u001b[39m\u001b[39mOutside after func call: Value of global \u001b[39m\u001b[39m{\u001b[39;00mval\u001b[39m \u001b[39m\u001b[39m= }\u001b[39;00m\u001b[39m\\n\u001b[39;00m\u001b[39m\"\u001b[39m)\n",
      "\u001b[1;32mc:\\Users\\bhmiller\\OneDrive - Intel Corporation\\Documents\\GitHub\\intermediate-python\\content\\04_namespaces_scopes_and_closures.ipynb Cell 12\u001b[0m line \u001b[0;36m7\n\u001b[0;32m      <a href='vscode-notebook-cell:/c%3A/Users/bhmiller/OneDrive%20-%20Intel%20Corporation/Documents/GitHub/intermediate-python/content/04_namespaces_scopes_and_closures.ipynb#X14sZmlsZQ%3D%3D?line=5'>6</a>\u001b[0m \u001b[39mdef\u001b[39;00m \u001b[39mfunc\u001b[39m():\n\u001b[1;32m----> <a href='vscode-notebook-cell:/c%3A/Users/bhmiller/OneDrive%20-%20Intel%20Corporation/Documents/GitHub/intermediate-python/content/04_namespaces_scopes_and_closures.ipynb#X14sZmlsZQ%3D%3D?line=6'>7</a>\u001b[0m     val \u001b[39m+\u001b[39m\u001b[39m=\u001b[39m [\u001b[39m4\u001b[39m]\n\u001b[0;32m      <a href='vscode-notebook-cell:/c%3A/Users/bhmiller/OneDrive%20-%20Intel%20Corporation/Documents/GitHub/intermediate-python/content/04_namespaces_scopes_and_closures.ipynb#X14sZmlsZQ%3D%3D?line=7'>8</a>\u001b[0m     \u001b[39mprint\u001b[39m(\u001b[39mf\u001b[39m\u001b[39m\"\u001b[39m\u001b[39mInside func: Value of local \u001b[39m\u001b[39m{\u001b[39;00mval\u001b[39m \u001b[39m\u001b[39m= }\u001b[39;00m\u001b[39m\\n\u001b[39;00m\u001b[39m\"\u001b[39m)\n",
      "\u001b[1;31mUnboundLocalError\u001b[0m: cannot access local variable 'val' where it is not associated with a value"
     ]
    }
   ],
   "source": [
    "val = [1, 2, 3]\n",
    "\n",
    "print(f\"Outside: Value of global {val = }\\n\")\n",
    "\n",
    "\n",
    "def func():\n",
    "    val += [4]\n",
    "    print(f\"Inside func: Value of local {val = }\\n\")\n",
    "\n",
    "\n",
    "func()\n",
    "\n",
    "print(f\"Outside after func call: Value of global {val = }\\n\")"
   ]
  },
  {
   "cell_type": "markdown",
   "metadata": {},
   "source": [
    "An this?"
   ]
  },
  {
   "cell_type": "code",
   "execution_count": 8,
   "metadata": {},
   "outputs": [
    {
     "name": "stdout",
     "output_type": "stream",
     "text": [
      "Outside: Value of global val = [1, 2, 3]\n",
      "\n",
      "Inside func: Value of local val = [1, 2, 3, 4]\n",
      "\n",
      "Outside after func call: Value of global val = [1, 2, 3, 4]\n",
      "\n"
     ]
    }
   ],
   "source": [
    "val = [1, 2, 3]\n",
    "\n",
    "print(f\"Outside: Value of global {val = }\\n\")\n",
    "\n",
    "\n",
    "def func():\n",
    "    val.append(4)\n",
    "    print(f\"Inside func: Value of local {val = }\\n\")\n",
    "\n",
    "\n",
    "func()\n",
    "\n",
    "print(f\"Outside after func call: Value of global {val = }\\n\")"
   ]
  },
  {
   "cell_type": "markdown",
   "metadata": {},
   "source": [
    "Wait what?\n",
    "\n",
    "What about this?"
   ]
  },
  {
   "cell_type": "code",
   "execution_count": 9,
   "metadata": {},
   "outputs": [
    {
     "name": "stdout",
     "output_type": "stream",
     "text": [
      "Outside: Value of global val = {'a': 'A', 'b': 'B'}\n",
      "\n",
      "Inside func: Value of local val = {'a': 'A', 'b': 'β'}\n",
      "\n",
      "Outside after func call: Value of global val = {'a': 'A', 'b': 'β'}\n",
      "\n"
     ]
    }
   ],
   "source": [
    "val = {\"a\": \"A\", \"b\": \"B\"}\n",
    "\n",
    "print(f\"Outside: Value of global {val = }\\n\")\n",
    "\n",
    "\n",
    "def func():\n",
    "    val[\"b\"] = \"β\"\n",
    "    print(f\"Inside func: Value of local {val = }\\n\")\n",
    "\n",
    "\n",
    "func()\n",
    "\n",
    "print(f\"Outside after func call: Value of global {val = }\\n\")"
   ]
  },
  {
   "cell_type": "markdown",
   "metadata": {},
   "source": [
    "The gist of this is:\n",
    "- You need `global` keyword when you want to rebound something. Which is true for all the immutable variables because they cannot be mutated.\n",
    "- You probably can mutate global variables without using `global` keyword, given you use the mutation operations to mutate the value. Hence `val.append(4)` worked but `val += [4]` didn't."
   ]
  },
  {
   "cell_type": "markdown",
   "metadata": {},
   "source": [
    "<table>\n",
    "  <tr>\n",
    "    <th>Code</th>\n",
    "    <th>Visualize</th>\n",
    "  </tr>\n",
    "  <tr>\n",
    "    <td>\n",
    "    \n",
    "```python\n",
    "a = 100\n",
    "\n",
    "def func(b):\n",
    "    print(True)\n",
    "    print(a)\n",
    "    print(b)\n",
    "    \n",
    "func(200)\n",
    "func('Python')\n",
    "```        \n",
    "</td>\n",
    "    <td><img src=\"./static/mermaid_ink_1.png\"></td>\n",
    "  </tr>\n",
    "</table>"
   ]
  },
  {
   "cell_type": "markdown",
   "metadata": {},
   "source": [
    "<table>\n",
    "  <tr>\n",
    "    <th>Code</th>\n",
    "    <th>Visualize</th>\n",
    "  </tr>\n",
    "  <tr>\n",
    "    <td>\n",
    "    \n",
    "```python\n",
    "a = 100\n",
    "\n",
    "def func(b):\n",
    "    print(True)  # <----\n",
    "    print(a)  \n",
    "    print(b)\n",
    "    \n",
    "func(200)\n",
    "func('Python')  # <----\n",
    "```        \n",
    "</td>\n",
    "    <td><img src=\"./static/mermaid_ink_2.png\"></td>\n",
    "  </tr>\n",
    "</table>"
   ]
  },
  {
   "cell_type": "markdown",
   "metadata": {},
   "source": [
    "<table>\n",
    "  <tr>\n",
    "    <th>Code</th>\n",
    "    <th>Visualize</th>\n",
    "  </tr>\n",
    "  <tr>\n",
    "    <td>\n",
    "    \n",
    "```python\n",
    "a = 100\n",
    "\n",
    "def func(b):\n",
    "    print(True)\n",
    "    print(a)  # <----\n",
    "    print(b)\n",
    "    \n",
    "func(200)\n",
    "func('Python')  # <----\n",
    "```        \n",
    "</td>\n",
    "    <td><img src=\"./static/mermaid_ink_3.png\"></td>\n",
    "  </tr>\n",
    "</table>"
   ]
  },
  {
   "cell_type": "markdown",
   "metadata": {},
   "source": [
    "Now what about this code?"
   ]
  },
  {
   "cell_type": "code",
   "execution_count": 10,
   "metadata": {
    "tags": [
     "raises-exception"
    ]
   },
   "outputs": [
    {
     "name": "stdout",
     "output_type": "stream",
     "text": [
      "Inside func2: Value of val2 = 'Defined only inside func2'\n"
     ]
    },
    {
     "ename": "NameError",
     "evalue": "name 'val2' is not defined",
     "output_type": "error",
     "traceback": [
      "\u001b[1;31m---------------------------------------------------------------------------\u001b[0m",
      "\u001b[1;31mNameError\u001b[0m                                 Traceback (most recent call last)",
      "\u001b[1;32mc:\\Users\\bhmiller\\OneDrive - Intel Corporation\\Documents\\GitHub\\intermediate-python\\content\\04_namespaces_scopes_and_closures.ipynb Cell 22\u001b[0m line \u001b[0;36m8\n\u001b[0;32m      <a href='vscode-notebook-cell:/c%3A/Users/bhmiller/OneDrive%20-%20Intel%20Corporation/Documents/GitHub/intermediate-python/content/04_namespaces_scopes_and_closures.ipynb#X30sZmlsZQ%3D%3D?line=2'>3</a>\u001b[0m     \u001b[39mprint\u001b[39m(\u001b[39mf\u001b[39m\u001b[39m\"\u001b[39m\u001b[39mInside func2: Value of \u001b[39m\u001b[39m{\u001b[39;00mval2\u001b[39m \u001b[39m\u001b[39m= }\u001b[39;00m\u001b[39m\"\u001b[39m)\n\u001b[0;32m      <a href='vscode-notebook-cell:/c%3A/Users/bhmiller/OneDrive%20-%20Intel%20Corporation/Documents/GitHub/intermediate-python/content/04_namespaces_scopes_and_closures.ipynb#X30sZmlsZQ%3D%3D?line=5'>6</a>\u001b[0m func2()\n\u001b[1;32m----> <a href='vscode-notebook-cell:/c%3A/Users/bhmiller/OneDrive%20-%20Intel%20Corporation/Documents/GitHub/intermediate-python/content/04_namespaces_scopes_and_closures.ipynb#X30sZmlsZQ%3D%3D?line=7'>8</a>\u001b[0m \u001b[39mprint\u001b[39m(\u001b[39mf\u001b[39m\u001b[39m\"\u001b[39m\u001b[39mOutside after func2 call: Value of \u001b[39m\u001b[39m{\u001b[39;00mval2\u001b[39m \u001b[39m\u001b[39m= }\u001b[39;00m\u001b[39m\"\u001b[39m)\n",
      "\u001b[1;31mNameError\u001b[0m: name 'val2' is not defined"
     ]
    }
   ],
   "source": [
    "def func2():\n",
    "    val2 = \"Defined only inside func2\"\n",
    "    print(f\"Inside func2: Value of {val2 = }\")\n",
    "\n",
    "\n",
    "func2()\n",
    "\n",
    "print(f\"Outside after func2 call: Value of {val2 = }\")"
   ]
  },
  {
   "cell_type": "code",
   "execution_count": 11,
   "metadata": {},
   "outputs": [
    {
     "name": "stdout",
     "output_type": "stream",
     "text": [
      "Inside func2: Value of val2 = 'Defined only inside func2'\n",
      "Outside after func2 call: Value of val2 = 'Defined only inside func2'\n"
     ]
    }
   ],
   "source": [
    "def func2():\n",
    "    global val2\n",
    "    val2 = \"Defined only inside func2\"\n",
    "    print(f\"Inside func2: Value of {val2 = }\")\n",
    "\n",
    "\n",
    "func2()\n",
    "\n",
    "print(f\"Outside after func2 call: Value of {val2 = }\")"
   ]
  },
  {
   "cell_type": "code",
   "execution_count": 12,
   "metadata": {},
   "outputs": [
    {
     "name": "stdout",
     "output_type": "stream",
     "text": [
      "Value inside loop: val3 = 0\n",
      "Value inside loop: val3 = 1\n",
      "Value inside loop: val3 = 2\n",
      "Value inside loop: val3 = 3\n",
      "Value inside loop: val3 = 4\n",
      "Value outside loop: val3 = 4\n"
     ]
    }
   ],
   "source": [
    "for val3 in range(5):\n",
    "    print(f\"Value inside loop: {val3 = }\")\n",
    "\n",
    "print(\n",
    "    f\"Value outside loop: {val3 = }\"\n",
    ")  # Some value was never defined outside the for loop"
   ]
  },
  {
   "cell_type": "markdown",
   "metadata": {},
   "source": [
    "Can you tell what will be the output of this the?"
   ]
  },
  {
   "cell_type": "code",
   "execution_count": 13,
   "metadata": {},
   "outputs": [
    {
     "name": "stdout",
     "output_type": "stream",
     "text": [
      "Value inside loop: val4 = 0\n",
      "Value inside loop: val4 = 1\n",
      "Value inside loop: val4 = 2\n",
      "Value inside loop: val4 = 3\n",
      "Value inside loop: val4 = 4\n",
      "Value outside loop: val4 = 4\n"
     ]
    }
   ],
   "source": [
    "val4 = 100\n",
    "\n",
    "for val4 in range(5):\n",
    "    print(f\"Value inside loop: {val4 = }\")\n",
    "\n",
    "print(f\"Value outside loop: {val4 = }\")"
   ]
  },
  {
   "cell_type": "markdown",
   "metadata": {},
   "source": [
    "What about this?"
   ]
  },
  {
   "cell_type": "code",
   "execution_count": 14,
   "metadata": {},
   "outputs": [
    {
     "name": "stdout",
     "output_type": "stream",
     "text": [
      "Value outside list comp: val5 = 100\n"
     ]
    }
   ],
   "source": [
    "val5 = 100\n",
    "\n",
    "result = [val5 for val5 in range(5)]\n",
    "\n",
    "print(f\"Value outside list comp: {val5 = }\")"
   ]
  },
  {
   "cell_type": "markdown",
   "metadata": {},
   "source": [
    "## Non-local/Enclosing Scope\n",
    "\n",
    "Global variables can be modified using `global` keyword. But what about `local` variable of a function, which contains another function?"
   ]
  },
  {
   "cell_type": "code",
   "execution_count": 16,
   "metadata": {},
   "outputs": [
    {
     "name": "stdout",
     "output_type": "stream",
     "text": [
      "After inner call: val6 = 'enclosing scope for outer func'\n",
      "local scope for inner func\n"
     ]
    }
   ],
   "source": [
    "def outer_func():\n",
    "    val6 = \"enclosing scope for outer func\"\n",
    "\n",
    "    def inner_func():\n",
    "        global val6\n",
    "        val6 = \"local scope for inner func\"\n",
    "\n",
    "    inner_func()\n",
    "    print(f\"After inner call: {val6 = }\")\n",
    "\n",
    "\n",
    "outer_func()  # We can try using global, but that will not work\n",
    "\n",
    "print(val6)"
   ]
  },
  {
   "cell_type": "markdown",
   "metadata": {},
   "source": [
    "For modifying local variable of a outer function inside an inner function, we use `nonlocal` keyword."
   ]
  },
  {
   "cell_type": "code",
   "execution_count": 17,
   "metadata": {},
   "outputs": [
    {
     "name": "stdout",
     "output_type": "stream",
     "text": [
      "After inner call: val7 = 'local scope for inner_func'\n"
     ]
    }
   ],
   "source": [
    "def outer_func():\n",
    "    val7 = \"enclosing scope for outer func\"\n",
    "\n",
    "    def inner_func():\n",
    "        nonlocal val7\n",
    "        val7 = \"local scope for inner_func\"\n",
    "\n",
    "    inner_func()\n",
    "    print(f\"After inner call: {val7 = }\")\n",
    "\n",
    "\n",
    "outer_func()"
   ]
  },
  {
   "cell_type": "markdown",
   "metadata": {},
   "source": [
    "Let's try out some questions now?"
   ]
  },
  {
   "cell_type": "code",
   "execution_count": 18,
   "metadata": {},
   "outputs": [
    {
     "name": "stdout",
     "output_type": "stream",
     "text": [
      "Inside inner_func: val8 = 'global scope'\n"
     ]
    }
   ],
   "source": [
    "val8 = \"global scope\"\n",
    "\n",
    "\n",
    "def outer_func():\n",
    "    def inner_func():\n",
    "        print(f\"Inside inner_func: {val8 = }\")\n",
    "\n",
    "    inner_func()\n",
    "\n",
    "\n",
    "outer_func()"
   ]
  },
  {
   "cell_type": "code",
   "execution_count": 19,
   "metadata": {},
   "outputs": [
    {
     "name": "stdout",
     "output_type": "stream",
     "text": [
      "Inside inner_func: val8 = 'enclosing scope'\n"
     ]
    }
   ],
   "source": [
    "val8 = \"global scope\"\n",
    "\n",
    "\n",
    "def outer_func():\n",
    "    val8 = \"enclosing scope\"\n",
    "\n",
    "    def inner_func():\n",
    "        print(f\"Inside inner_func: {val8 = }\")\n",
    "\n",
    "    inner_func()\n",
    "\n",
    "\n",
    "outer_func()"
   ]
  },
  {
   "cell_type": "code",
   "execution_count": 20,
   "metadata": {},
   "outputs": [
    {
     "name": "stdout",
     "output_type": "stream",
     "text": [
      "Inside inner_func: val8 = 'inner scope'\n"
     ]
    }
   ],
   "source": [
    "val8 = \"global scope\"\n",
    "\n",
    "\n",
    "def outer_func():\n",
    "    val8 = \"enclosing scope\"\n",
    "\n",
    "    def inner_func():\n",
    "        val8 = \"inner scope\"\n",
    "        print(f\"Inside inner_func: {val8 = }\")\n",
    "\n",
    "    inner_func()\n",
    "\n",
    "\n",
    "outer_func()"
   ]
  },
  {
   "cell_type": "markdown",
   "metadata": {},
   "source": [
    "We can also use `locals()` and `globals()` built-in functions to check for global and local variable in current scope."
   ]
  },
  {
   "cell_type": "code",
   "execution_count": 21,
   "metadata": {},
   "outputs": [
    {
     "name": "stdout",
     "output_type": "stream",
     "text": [
      "Overwriting example/scope.py\n"
     ]
    }
   ],
   "source": [
    "%%writefile example/scope.py\n",
    "\n",
    "val8 = \"global scope\"\n",
    "\n",
    "breakpoint()\n",
    "\n",
    "\n",
    "def outer_func():\n",
    "    val8 = \"enclosing scope\"\n",
    "    breakpoint()\n",
    "\n",
    "    def inner_func():\n",
    "        val8 = \"inner scope\"\n",
    "        breakpoint()\n",
    "\n",
    "        print(f\"Inside inner_func: {val8 = }\")\n",
    "\n",
    "    inner_func()\n",
    "\n",
    "\n",
    "outer_func()"
   ]
  },
  {
   "cell_type": "markdown",
   "metadata": {},
   "source": [
    "What will be the output of this?"
   ]
  },
  {
   "cell_type": "code",
   "execution_count": 23,
   "metadata": {
    "tags": [
     "raises-exception"
    ]
   },
   "outputs": [
    {
     "ename": "SyntaxError",
     "evalue": "no binding for nonlocal 'val9' found (2039796489.py, line 6)",
     "output_type": "error",
     "traceback": [
      "\u001b[1;36m  Cell \u001b[1;32mIn[23], line 6\u001b[1;36m\u001b[0m\n\u001b[1;33m    nonlocal val9\u001b[0m\n\u001b[1;37m    ^\u001b[0m\n\u001b[1;31mSyntaxError\u001b[0m\u001b[1;31m:\u001b[0m no binding for nonlocal 'val9' found\n"
     ]
    }
   ],
   "source": [
    "val9 = \"global scope\"\n",
    "\n",
    "\n",
    "def outer_func():\n",
    "    def inner_func():\n",
    "        nonlocal val9\n",
    "        val9 = \"inner scope\"\n",
    "\n",
    "    inner_func()\n",
    "\n",
    "\n",
    "outer_func()\n",
    "\n",
    "print(f\"After outer_func call: {val9 = }\")"
   ]
  },
  {
   "cell_type": "markdown",
   "metadata": {},
   "source": [
    "# Closures\n",
    "\n",
    "Function + extended scope (that contains free variables)"
   ]
  },
  {
   "cell_type": "code",
   "execution_count": 24,
   "metadata": {},
   "outputs": [
    {
     "name": "stdout",
     "output_type": "stream",
     "text": [
      "Brian\n"
     ]
    }
   ],
   "source": [
    "def outer_func():\n",
    "    # Free variable\n",
    "    name = \"Brian\"\n",
    "\n",
    "    def inner_func():\n",
    "        print(name)\n",
    "\n",
    "    inner_func()\n",
    "\n",
    "\n",
    "outer_func()"
   ]
  },
  {
   "cell_type": "code",
   "execution_count": 25,
   "metadata": {},
   "outputs": [],
   "source": [
    "def outer_func():\n",
    "    # Free variable\n",
    "    name = \"Brian\"\n",
    "\n",
    "    def inner_func():\n",
    "        print(name)\n",
    "\n",
    "    return inner_func"
   ]
  },
  {
   "cell_type": "code",
   "execution_count": 26,
   "metadata": {},
   "outputs": [
    {
     "name": "stdout",
     "output_type": "stream",
     "text": [
      "Brian\n"
     ]
    }
   ],
   "source": [
    "func = outer_func()  # inner() + extended scope `name`\n",
    "func()"
   ]
  },
  {
   "cell_type": "code",
   "execution_count": 27,
   "metadata": {},
   "outputs": [
    {
     "data": {
      "text/plain": [
       "('name',)"
      ]
     },
     "execution_count": 27,
     "metadata": {},
     "output_type": "execute_result"
    }
   ],
   "source": [
    "func.__code__.co_freevars"
   ]
  },
  {
   "cell_type": "code",
   "execution_count": 28,
   "metadata": {},
   "outputs": [
    {
     "data": {
      "text/plain": [
       "(<cell at 0x000001AEF236CC40: str object at 0x000001AEEF4E6270>,)"
      ]
     },
     "execution_count": 28,
     "metadata": {},
     "output_type": "execute_result"
    }
   ],
   "source": [
    "func.__closure__"
   ]
  },
  {
   "cell_type": "code",
   "execution_count": 29,
   "metadata": {},
   "outputs": [],
   "source": [
    "def outer_func():\n",
    "    # Free variable\n",
    "    name = \"Brian\"\n",
    "    print(f\"Address of name in outer_func: {hex(id(name))}\")\n",
    "\n",
    "    def inner_func():\n",
    "        print(f\"Address of name in inner_func: {hex(id(name))}\")\n",
    "        print(name)\n",
    "\n",
    "    return inner_func"
   ]
  },
  {
   "cell_type": "code",
   "execution_count": 30,
   "metadata": {},
   "outputs": [
    {
     "name": "stdout",
     "output_type": "stream",
     "text": [
      "Address of name in outer_func: 0x1aeef4e6270\n",
      "Address of name in inner_func: 0x1aeef4e6270\n",
      "Brian\n"
     ]
    }
   ],
   "source": [
    "func = outer_func()  # inner() + extended scope `name`\n",
    "func()"
   ]
  },
  {
   "cell_type": "code",
   "execution_count": null,
   "metadata": {},
   "outputs": [],
   "source": [
    "func.__closure__"
   ]
  },
  {
   "cell_type": "code",
   "execution_count": 31,
   "metadata": {},
   "outputs": [],
   "source": [
    "def outer_func(greeting):\n",
    "    # Free variable\n",
    "    name = \"Brian\"\n",
    "    print(hex(id(name)))\n",
    "    print(hex(id(greeting)))\n",
    "\n",
    "    def inner_func():\n",
    "        print(hex(id(name)))\n",
    "        print(hex(id(greeting)))\n",
    "        print(f\"{greeting} {name}\")\n",
    "\n",
    "    return inner_func"
   ]
  },
  {
   "cell_type": "code",
   "execution_count": 32,
   "metadata": {},
   "outputs": [
    {
     "name": "stdout",
     "output_type": "stream",
     "text": [
      "0x1aeef4e6270\n",
      "0x1aef2e21bb0\n"
     ]
    }
   ],
   "source": [
    "func = outer_func(\"Hello\")"
   ]
  },
  {
   "cell_type": "code",
   "execution_count": 33,
   "metadata": {},
   "outputs": [
    {
     "data": {
      "text/plain": [
       "('greeting', 'name')"
      ]
     },
     "execution_count": 33,
     "metadata": {},
     "output_type": "execute_result"
    }
   ],
   "source": [
    "func.__code__.co_freevars"
   ]
  },
  {
   "cell_type": "code",
   "execution_count": 34,
   "metadata": {},
   "outputs": [
    {
     "data": {
      "text/plain": [
       "(<cell at 0x000001AEF237F8E0: str object at 0x000001AEF2E21BB0>,\n",
       " <cell at 0x000001AEF237F670: str object at 0x000001AEEF4E6270>)"
      ]
     },
     "execution_count": 34,
     "metadata": {},
     "output_type": "execute_result"
    }
   ],
   "source": [
    "func.__closure__"
   ]
  },
  {
   "cell_type": "markdown",
   "metadata": {},
   "source": [
    "\\[<< [Function parameters and arguments](./03_function_parameters_and_arguments.ipynb) | [Index](./00_index.ipynb) | [Other functions concepts](./05_other_functions_concepts.ipynb) >>\\]"
   ]
  }
 ],
 "metadata": {
  "kernelspec": {
   "display_name": "Python 3 (ipykernel)",
   "language": "python",
   "name": "python3"
  },
  "language_info": {
   "codemirror_mode": {
    "name": "ipython",
    "version": 3
   },
   "file_extension": ".py",
   "mimetype": "text/x-python",
   "name": "python",
   "nbconvert_exporter": "python",
   "pygments_lexer": "ipython3",
   "version": "3.11.6"
  }
 },
 "nbformat": 4,
 "nbformat_minor": 4
}
