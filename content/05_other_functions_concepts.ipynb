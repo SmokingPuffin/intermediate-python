{
 "cells": [
  {
   "cell_type": "markdown",
   "metadata": {},
   "source": [
    "\\[<< [Namespace, Scope and Closure](./04_namespaces_scopes_and_closures.ipynb) | [Index](./00_index.ipynb) | [Sequence, Iterator and Generator](./06_sequence_iterators_and_generators.ipynb) >>\\]"
   ]
  },
  {
   "cell_type": "markdown",
   "metadata": {},
   "source": [
    "# Other functions concepts"
   ]
  },
  {
   "cell_type": "markdown",
   "metadata": {},
   "source": [
    "## Lambda Expression\n",
    "\n",
    "Syntax:\n",
    "`lambda [parameter list]: expresssion`\n",
    "\n",
    "`lambda` is the keyword used to define an lambda function (or sometimes called `anonymous function`). It is followed by list of `parametes`. Which is then followed by `colon` \":\" sign. Last part is the expression which is returned when the lambda function is called.\n",
    "\n",
    "Basically the whole thing returns a `function object` which returns the `expression` on `call`.\n",
    "\n",
    "It can be assigned to a variable or being passed to other functions."
   ]
  },
  {
   "cell_type": "code",
   "execution_count": 1,
   "metadata": {},
   "outputs": [],
   "source": [
    "# def add(num1, num2):\n",
    "#     return num1 + num2\n",
    "\n",
    "add = lambda num1, num2: num1 + num2"
   ]
  },
  {
   "cell_type": "code",
   "execution_count": 2,
   "metadata": {},
   "outputs": [
    {
     "data": {
      "text/plain": [
       "3"
      ]
     },
     "execution_count": 2,
     "metadata": {},
     "output_type": "execute_result"
    }
   ],
   "source": [
    "add(1, 2)"
   ]
  },
  {
   "cell_type": "code",
   "execution_count": 3,
   "metadata": {},
   "outputs": [],
   "source": [
    "# def square(num):\n",
    "#     return num ** 2\n",
    "\n",
    "square = lambda num: num**2"
   ]
  },
  {
   "cell_type": "code",
   "execution_count": 4,
   "metadata": {},
   "outputs": [
    {
     "data": {
      "text/plain": [
       "16"
      ]
     },
     "execution_count": 4,
     "metadata": {},
     "output_type": "execute_result"
    }
   ],
   "source": [
    "square(4)"
   ]
  },
  {
   "cell_type": "code",
   "execution_count": 5,
   "metadata": {},
   "outputs": [],
   "source": [
    "# def greeting(name):\n",
    "#     return f\"Hello {name}!\"\n",
    "\n",
    "greeting = lambda name: f\"Hello {name}!\""
   ]
  },
  {
   "cell_type": "code",
   "execution_count": 6,
   "metadata": {},
   "outputs": [
    {
     "data": {
      "text/plain": [
       "'Hello Brian!'"
      ]
     },
     "execution_count": 6,
     "metadata": {},
     "output_type": "execute_result"
    }
   ],
   "source": [
    "greeting(\"Brian\")"
   ]
  },
  {
   "cell_type": "code",
   "execution_count": 7,
   "metadata": {},
   "outputs": [
    {
     "name": "stdout",
     "output_type": "stream",
     "text": [
      "type(add) = <class 'function'>\n",
      "type(square) = <class 'function'>\n",
      "type(greeting) = <class 'function'>\n"
     ]
    }
   ],
   "source": [
    "print(f\"{type(add) = }\\n{type(square) = }\\n{type(greeting) = }\")"
   ]
  },
  {
   "cell_type": "markdown",
   "metadata": {},
   "source": [
    "### Limitation of lambda"
   ]
  },
  {
   "cell_type": "markdown",
   "metadata": {},
   "source": [
    "**Can't use type hints**"
   ]
  },
  {
   "cell_type": "code",
   "execution_count": 8,
   "metadata": {
    "tags": [
     "raises-exception"
    ]
   },
   "outputs": [
    {
     "ename": "SyntaxError",
     "evalue": "invalid syntax (3143571765.py, line 4)",
     "output_type": "error",
     "traceback": [
      "\u001b[1;36m  Cell \u001b[1;32mIn[8], line 4\u001b[1;36m\u001b[0m\n\u001b[1;33m    add = lambda num1: int, num2: int: num1 + num2\u001b[0m\n\u001b[1;37m                                ^\u001b[0m\n\u001b[1;31mSyntaxError\u001b[0m\u001b[1;31m:\u001b[0m invalid syntax\n"
     ]
    }
   ],
   "source": [
    "# def add(num1: int, num2: int) -> int:\n",
    "#     return num1 + num2\n",
    "\n",
    "add = lambda num1: int, num2: int: num1 + num2"
   ]
  },
  {
   "cell_type": "markdown",
   "metadata": {},
   "source": [
    "In case you want to use typehint for lambda then you need to put it to the variable in which you are assigning the lambda."
   ]
  },
  {
   "cell_type": "code",
   "execution_count": 9,
   "metadata": {},
   "outputs": [],
   "source": [
    "from typing import Callable\n",
    "\n",
    "add: Callable[[int, int], int] = lambda num1, num2: num1 + num2"
   ]
  },
  {
   "cell_type": "markdown",
   "metadata": {},
   "source": [
    "**Can't assign value inside expression**"
   ]
  },
  {
   "cell_type": "code",
   "execution_count": 10,
   "metadata": {
    "tags": [
     "raises-exception"
    ]
   },
   "outputs": [
    {
     "ename": "SyntaxError",
     "evalue": "cannot assign to lambda (2862269418.py, line 1)",
     "output_type": "error",
     "traceback": [
      "\u001b[1;36m  Cell \u001b[1;32mIn[10], line 1\u001b[1;36m\u001b[0m\n\u001b[1;33m    lambda num: num = 10\u001b[0m\n\u001b[1;37m    ^\u001b[0m\n\u001b[1;31mSyntaxError\u001b[0m\u001b[1;31m:\u001b[0m cannot assign to lambda\n"
     ]
    }
   ],
   "source": [
    "lambda num: num = 10"
   ]
  },
  {
   "cell_type": "markdown",
   "metadata": {},
   "source": [
    "**Best PyCon talk on lambda**\n",
    "\n",
    "[![](https://img.youtube.com/vi/pkCLMl0e_0k/0.jpg)](https://youtu.be/pkCLMl0e_0k)"
   ]
  },
  {
   "cell_type": "markdown",
   "metadata": {},
   "source": [
    "## Higher order function\n",
    "\n",
    "[From Wikipedia](https://en.wikipedia.org/wiki/Higher-order_function):\n",
    "> In mathematics and computer science, a higher-order function (HOF) is a function that does at least one of the following:\n",
    "> - takes one or more functions as arguments (i.e. a procedural parameter, which is a parameter of a procedure that is itself a procedure),\n",
    "> - returns a function as its result.\n",
    "\n",
    "Some of the built-in `higher order functions` are `map`, `zip`, `filter`\n",
    "\n",
    "> Note: `list comprehension` or `generators` can also do lot of things which `map`, `zip` or `filter` does."
   ]
  },
  {
   "cell_type": "markdown",
   "metadata": {},
   "source": [
    "**map(func, *iterables)**\n",
    "\n",
    "You can pass multiple iterable and it return a new iterable after applying the `func`."
   ]
  },
  {
   "cell_type": "code",
   "execution_count": 11,
   "metadata": {},
   "outputs": [
    {
     "data": {
      "text/plain": [
       "[1, 4, 9, 16, 25]"
      ]
     },
     "execution_count": 11,
     "metadata": {},
     "output_type": "execute_result"
    }
   ],
   "source": [
    "numbers = [1, 2, 3, 4, 5]\n",
    "\n",
    "\n",
    "def square(num):\n",
    "    return num**2\n",
    "\n",
    "\n",
    "squared_numbers = map(square, numbers)\n",
    "list(squared_numbers)"
   ]
  },
  {
   "cell_type": "code",
   "execution_count": 12,
   "metadata": {},
   "outputs": [
    {
     "data": {
      "text/plain": [
       "[20, 90, 120, 20, 50]"
      ]
     },
     "execution_count": 12,
     "metadata": {},
     "output_type": "execute_result"
    }
   ],
   "source": [
    "item_quantity = [2, 3, 6, 4, 5]\n",
    "item_cost = [10, 30, 20, 5, 10]\n",
    "\n",
    "\n",
    "def product(num1, num2):\n",
    "    return num1 * num2\n",
    "\n",
    "\n",
    "cost_per_item = map(product, item_quantity, item_cost)\n",
    "list(cost_per_item)"
   ]
  },
  {
   "cell_type": "markdown",
   "metadata": {},
   "source": [
    "**filter(func, iterable)**\n",
    "\n",
    "You can pass only single iterable and it returns a new iterable with all the items for which `func(item)` returns `True`"
   ]
  },
  {
   "cell_type": "code",
   "execution_count": 13,
   "metadata": {},
   "outputs": [
    {
     "data": {
      "text/plain": [
       "[2, 4, 6, 8, 10]"
      ]
     },
     "execution_count": 13,
     "metadata": {},
     "output_type": "execute_result"
    }
   ],
   "source": [
    "numbers = [1, 2, 3, 4, 5, 6, 7, 8, 9, 10]\n",
    "\n",
    "\n",
    "def is_even(num):\n",
    "    return num % 2 == 0\n",
    "\n",
    "\n",
    "even_numbers = filter(is_even, numbers)\n",
    "list(even_numbers)"
   ]
  },
  {
   "cell_type": "markdown",
   "metadata": {},
   "source": [
    "If the function is `None`, then it will return all the values which are `Truely`. This is a great way to filter out `Falsy` values."
   ]
  },
  {
   "cell_type": "code",
   "execution_count": 18,
   "metadata": {},
   "outputs": [
    {
     "data": {
      "text/plain": [
       "[1, 2, 5, 4]"
      ]
     },
     "execution_count": 18,
     "metadata": {},
     "output_type": "execute_result"
    }
   ],
   "source": [
    "items = [1, 2, 0, 5, 4, False, None, [], '', 0, 0]\n",
    "\n",
    "non_falsy = filter(None, items)\n",
    "list(non_falsy)"
   ]
  },
  {
   "cell_type": "markdown",
   "metadata": {},
   "source": [
    "**zip(*iterables)**"
   ]
  },
  {
   "cell_type": "code",
   "execution_count": 15,
   "metadata": {},
   "outputs": [
    {
     "data": {
      "text/plain": [
       "[(1, 6), (2, 7), (3, 8), (4, 9), (5, 10)]"
      ]
     },
     "execution_count": 15,
     "metadata": {},
     "output_type": "execute_result"
    }
   ],
   "source": [
    "a = [1, 2, 3, 4, 5]\n",
    "b = [6, 7, 8, 9, 10]\n",
    "\n",
    "list(zip(a, b))"
   ]
  },
  {
   "cell_type": "code",
   "execution_count": 16,
   "metadata": {},
   "outputs": [
    {
     "data": {
      "text/plain": [
       "[(1, 6, 'a'), (2, 7, 'b'), (3, 8, 'c')]"
      ]
     },
     "execution_count": 16,
     "metadata": {},
     "output_type": "execute_result"
    }
   ],
   "source": [
    "# length of the new iterable will be minimum of length of all the iterable\n",
    "a = [1, 2, 3, 4, 5]\n",
    "b = [6, 7, 8, 9, 10]\n",
    "c = [\"a\", \"b\", \"c\"]\n",
    "\n",
    "list(zip(a, b, c))"
   ]
  },
  {
   "cell_type": "markdown",
   "metadata": {},
   "source": [
    "The power of higher-order functions comes from combining them:"
   ]
  },
  {
   "cell_type": "code",
   "execution_count": 22,
   "metadata": {},
   "outputs": [
    {
     "data": {
      "text/plain": [
       "[0, 1, 4, 9, 16, 25, 36, 49, 64, 81, 100, 121, 144]"
      ]
     },
     "execution_count": 22,
     "metadata": {},
     "output_type": "execute_result"
    }
   ],
   "source": [
    "squares_below_150 = filter(lambda x: x < 150, \n",
    "                                  map(lambda num: num**2, range(20))\n",
    ")\n",
    "list(squares_below_150)"
   ]
  },
  {
   "cell_type": "markdown",
   "metadata": {},
   "source": [
    "When considering whether to use maps and filters, consider whether list comprehension syntax will be more readable."
   ]
  },
  {
   "cell_type": "code",
   "execution_count": 26,
   "metadata": {},
   "outputs": [
    {
     "data": {
      "text/plain": [
       "[0, 1, 4, 9, 16, 25, 36, 49, 64, 81, 100, 121, 144]"
      ]
     },
     "execution_count": 26,
     "metadata": {},
     "output_type": "execute_result"
    }
   ],
   "source": [
    "squares_below_150 = [x**2 for x in range(20) if x**2 < 150]\n",
    "list(squares_below_150)"
   ]
  },
  {
   "cell_type": "code",
   "execution_count": 27,
   "metadata": {},
   "outputs": [
    {
     "data": {
      "text/plain": [
       "[0, 1, 4, 9, 16, 25, 36, 49, 64, 81, 100, 121, 144]"
      ]
     },
     "execution_count": 27,
     "metadata": {},
     "output_type": "execute_result"
    }
   ],
   "source": [
    "squares_below_150 = filter(lambda x: x < 150, [x**2 for x in range(20)])\n",
    "list(squares_below_150)"
   ]
  },
  {
   "cell_type": "markdown",
   "metadata": {},
   "source": [
    "## Docstrings and Annotation\n",
    "\n",
    "**Docstring:**\n",
    "\n",
    "A docstring is a string literal used to document modules, classes, functions, or methods in Python. It serves as a documentation tool to describe what the module, class, or function does, along with the parameters it takes, the return value, and any other relevant information. Docstrings are enclosed in triple quotes (single or double) and are placed as the first statement after the function, class, or module definition. They are typically used to provide guidance to other developers using the code and can be accessed using the `__doc__` attribute.\n",
    "\n",
    "Docstrings are part of [**PEP 257**](https://peps.python.org/pep-0257/)"
   ]
  },
  {
   "cell_type": "code",
   "execution_count": 28,
   "metadata": {},
   "outputs": [],
   "source": [
    "def greeting(name):\n",
    "    \"\"\"\n",
    "    Generate a greeting message for the given 'name'.\n",
    "\n",
    "    :param str name: The name of the person to greet.\n",
    "    :return: A greeting message.\n",
    "    :rtype: str\n",
    "    \"\"\"\n",
    "    return f\"Hello {name}\""
   ]
  },
  {
   "cell_type": "code",
   "execution_count": 29,
   "metadata": {},
   "outputs": [
    {
     "name": "stdout",
     "output_type": "stream",
     "text": [
      "Help on function greeting in module __main__:\n",
      "\n",
      "greeting(name)\n",
      "    Generate a greeting message for the given 'name'.\n",
      "    \n",
      "    :param str name: The name of the person to greet.\n",
      "    :return: A greeting message.\n",
      "    :rtype: str\n",
      "\n"
     ]
    }
   ],
   "source": [
    "help(greeting)"
   ]
  },
  {
   "cell_type": "code",
   "execution_count": 30,
   "metadata": {},
   "outputs": [
    {
     "data": {
      "text/plain": [
       "\"\\n    Generate a greeting message for the given 'name'.\\n\\n    :param str name: The name of the person to greet.\\n    :return: A greeting message.\\n    :rtype: str\\n    \""
      ]
     },
     "execution_count": 30,
     "metadata": {},
     "output_type": "execute_result"
    }
   ],
   "source": [
    "# Docstring are stored in __doc__ attribute\n",
    "greeting.__doc__"
   ]
  },
  {
   "cell_type": "markdown",
   "metadata": {},
   "source": [
    "**Annotations:**\n",
    "\n",
    "Annotations in Python refer to the optional metadata added to function arguments and return values. Annotations provide additional information about the type of data that should be passed to the function's arguments and the type of data the function is expected to return. Annotations are specified using colons after the parameter names, followed by the type hint. They don't enforce strict type checking at runtime but serve as hints to developers and tools like type checkers or linters. Annotations are not mandatory, and if not provided, Python assumes dynamic typing. Ananotation can be accessed using the `__annotations__` attribute.\n",
    "\n",
    "Annotations are part of [**PEP 3107**](https://peps.python.org/pep-3107/)"
   ]
  },
  {
   "cell_type": "code",
   "execution_count": 31,
   "metadata": {},
   "outputs": [],
   "source": [
    "def greeting(name: str) -> str:\n",
    "    \"\"\"\n",
    "    Generate a greeting message for the given 'name'.\n",
    "\n",
    "    :param name: The name of the person to greet.\n",
    "    :return: A greeting message.\n",
    "    \"\"\"\n",
    "    return f\"Hello {name}\""
   ]
  },
  {
   "cell_type": "code",
   "execution_count": 32,
   "metadata": {},
   "outputs": [
    {
     "name": "stdout",
     "output_type": "stream",
     "text": [
      "Help on function greeting in module __main__:\n",
      "\n",
      "greeting(name: str) -> str\n",
      "    Generate a greeting message for the given 'name'.\n",
      "    \n",
      "    :param name: The name of the person to greet.\n",
      "    :return: A greeting message.\n",
      "\n"
     ]
    }
   ],
   "source": [
    "help(greeting)"
   ]
  },
  {
   "cell_type": "code",
   "execution_count": 33,
   "metadata": {},
   "outputs": [
    {
     "data": {
      "text/plain": [
       "{'name': str, 'return': str}"
      ]
     },
     "execution_count": 33,
     "metadata": {},
     "output_type": "execute_result"
    }
   ],
   "source": [
    "greeting.__annotations__"
   ]
  },
  {
   "cell_type": "markdown",
   "metadata": {},
   "source": [
    "Docstring and Annotations are not used by Python at all. They are used mostly by external 3rd party tool like [`Sphinx`](https://github.com/sphinx-doc/sphinx) to generate documentation or [`Pydantic`](https://github.com/pydantic/pydantic) to do data validation."
   ]
  },
  {
   "cell_type": "markdown",
   "metadata": {},
   "source": [
    "## Function introspection"
   ]
  },
  {
   "cell_type": "markdown",
   "metadata": {},
   "source": [
    "1. `__name__`: Returns the name of the function as a string."
   ]
  },
  {
   "cell_type": "code",
   "execution_count": 34,
   "metadata": {},
   "outputs": [
    {
     "name": "stdout",
     "output_type": "stream",
     "text": [
      "add\n"
     ]
    }
   ],
   "source": [
    "def add(a, b):\n",
    "    return a + b\n",
    "\n",
    "\n",
    "print(add.__name__)"
   ]
  },
  {
   "cell_type": "markdown",
   "metadata": {},
   "source": [
    "2. `__defaults__`: Returns a tuple containing the default values of the function arguments."
   ]
  },
  {
   "cell_type": "code",
   "execution_count": 35,
   "metadata": {},
   "outputs": [
    {
     "name": "stdout",
     "output_type": "stream",
     "text": [
      "('Hello',)\n"
     ]
    }
   ],
   "source": [
    "def greet(name, greeting=\"Hello\"):\n",
    "    return f\"{greeting}, {name}\"\n",
    "\n",
    "\n",
    "print(greet.__defaults__)"
   ]
  },
  {
   "cell_type": "markdown",
   "metadata": {},
   "source": [
    "3. `__kwdefaults__`: Returns a dictionary containing the default values of keyword arguments."
   ]
  },
  {
   "cell_type": "code",
   "execution_count": 36,
   "metadata": {},
   "outputs": [
    {
     "name": "stdout",
     "output_type": "stream",
     "text": [
      "None\n"
     ]
    }
   ],
   "source": [
    "def greet(name, greeting=\"Hello\"):\n",
    "    return f\"{greeting}, {name}\"\n",
    "\n",
    "\n",
    "print(greet.__kwdefaults__)"
   ]
  },
  {
   "cell_type": "markdown",
   "metadata": {},
   "source": [
    "4. `__code__.co_argcount`: Returns the number of arguments (excluding *args and **kwargs) that the function can accept."
   ]
  },
  {
   "cell_type": "code",
   "execution_count": 37,
   "metadata": {},
   "outputs": [
    {
     "name": "stdout",
     "output_type": "stream",
     "text": [
      "2\n"
     ]
    }
   ],
   "source": [
    "def add(a, b):\n",
    "    return a + b\n",
    "\n",
    "\n",
    "print(add.__code__.co_argcount)"
   ]
  },
  {
   "cell_type": "markdown",
   "metadata": {},
   "source": [
    "5. `__code__.co_varnames`: Returns a tuple containing the names of all the local variables in the function."
   ]
  },
  {
   "cell_type": "code",
   "execution_count": 38,
   "metadata": {},
   "outputs": [
    {
     "name": "stdout",
     "output_type": "stream",
     "text": [
      "('a', 'b', 'result')\n"
     ]
    }
   ],
   "source": [
    "def multiply(a, b):\n",
    "    result = a * b\n",
    "    return result\n",
    "\n",
    "\n",
    "print(multiply.__code__.co_varnames)"
   ]
  },
  {
   "cell_type": "markdown",
   "metadata": {},
   "source": [
    "6. `__code__.co_consts`: Returns a tuple containing constants used in the function."
   ]
  },
  {
   "cell_type": "code",
   "execution_count": 39,
   "metadata": {},
   "outputs": [
    {
     "name": "stdout",
     "output_type": "stream",
     "text": [
      "(None, 3.14)\n"
     ]
    }
   ],
   "source": [
    "def multiply(a, b):\n",
    "    pi = 3.14\n",
    "    result = a * b\n",
    "    return result\n",
    "\n",
    "\n",
    "print(multiply.__code__.co_consts)"
   ]
  },
  {
   "cell_type": "markdown",
   "metadata": {},
   "source": [
    "7. `__code__.co_names`: Returns a tuple containing the names of all global names used in the function."
   ]
  },
  {
   "cell_type": "code",
   "execution_count": 40,
   "metadata": {},
   "outputs": [
    {
     "name": "stdout",
     "output_type": "stream",
     "text": [
      "('global_var',)\n"
     ]
    }
   ],
   "source": [
    "global_var = 42\n",
    "\n",
    "\n",
    "def add(a, b):\n",
    "    return a + global_var\n",
    "\n",
    "\n",
    "print(add.__code__.co_names)"
   ]
  },
  {
   "cell_type": "markdown",
   "metadata": {},
   "source": [
    "8. `__code__.co_nlocals`: Returns the number of local variables used in the function."
   ]
  },
  {
   "cell_type": "code",
   "execution_count": 41,
   "metadata": {},
   "outputs": [
    {
     "name": "stdout",
     "output_type": "stream",
     "text": [
      "3\n"
     ]
    }
   ],
   "source": [
    "def calculate(a, b):\n",
    "    result = a + b\n",
    "    return result\n",
    "\n",
    "\n",
    "print(calculate.__code__.co_nlocals)"
   ]
  },
  {
   "cell_type": "markdown",
   "metadata": {},
   "source": [
    "### Introspection using inspect module"
   ]
  },
  {
   "cell_type": "markdown",
   "metadata": {},
   "source": [
    "1. Using `inspect.signature` to get the function signature:"
   ]
  },
  {
   "cell_type": "code",
   "execution_count": 42,
   "metadata": {},
   "outputs": [
    {
     "name": "stdout",
     "output_type": "stream",
     "text": [
      "(name, greeting='Hello')\n"
     ]
    }
   ],
   "source": [
    "import inspect\n",
    "\n",
    "\n",
    "def greet(name, greeting=\"Hello\"):\n",
    "    return f\"{greeting}, {name}\"\n",
    "\n",
    "\n",
    "signature = inspect.signature(greet)\n",
    "print(signature)"
   ]
  },
  {
   "cell_type": "markdown",
   "metadata": {},
   "source": [
    "2. Using `inspect.getsource` to get the source code of a function:"
   ]
  },
  {
   "cell_type": "code",
   "execution_count": 43,
   "metadata": {},
   "outputs": [
    {
     "name": "stdout",
     "output_type": "stream",
     "text": [
      "def square(x):\n",
      "    return x**2\n",
      "\n"
     ]
    }
   ],
   "source": [
    "import inspect\n",
    "\n",
    "\n",
    "def square(x):\n",
    "    return x**2\n",
    "\n",
    "\n",
    "source_code = inspect.getsource(square)\n",
    "print(source_code)"
   ]
  },
  {
   "cell_type": "markdown",
   "metadata": {},
   "source": [
    "3. Using `inspect.getdoc` to get the docstring of a function:"
   ]
  },
  {
   "cell_type": "code",
   "execution_count": 44,
   "metadata": {},
   "outputs": [
    {
     "name": "stdout",
     "output_type": "stream",
     "text": [
      "Multiply two numbers and return the result.\n"
     ]
    }
   ],
   "source": [
    "import inspect\n",
    "\n",
    "\n",
    "def multiply(a, b):\n",
    "    \"\"\"\n",
    "    Multiply two numbers and return the result.\n",
    "    \"\"\"\n",
    "    return a * b\n",
    "\n",
    "\n",
    "docstring = inspect.getdoc(multiply)\n",
    "print(docstring)"
   ]
  },
  {
   "cell_type": "markdown",
   "metadata": {},
   "source": [
    "4. Using `inspect.getmembers` to get all members of a module:"
   ]
  },
  {
   "cell_type": "code",
   "execution_count": 46,
   "metadata": {},
   "outputs": [
    {
     "name": "stdout",
     "output_type": "stream",
     "text": [
      "[('__doc__', 'This module provides access to the mathematical functions\\ndefined by the C standard.'), ('__loader__', <class '_frozen_importlib.BuiltinImporter'>), ('__name__', 'math'), ('__package__', ''), ('__spec__', ModuleSpec(name='math', loader=<class '_frozen_importlib.BuiltinImporter'>, origin='built-in')), ('acos', <built-in function acos>), ('acosh', <built-in function acosh>), ('asin', <built-in function asin>), ('asinh', <built-in function asinh>), ('atan', <built-in function atan>), ('atan2', <built-in function atan2>), ('atanh', <built-in function atanh>), ('cbrt', <built-in function cbrt>), ('ceil', <built-in function ceil>), ('comb', <built-in function comb>), ('copysign', <built-in function copysign>), ('cos', <built-in function cos>), ('cosh', <built-in function cosh>), ('degrees', <built-in function degrees>), ('dist', <built-in function dist>), ('e', 2.718281828459045), ('erf', <built-in function erf>), ('erfc', <built-in function erfc>), ('exp', <built-in function exp>), ('exp2', <built-in function exp2>), ('expm1', <built-in function expm1>), ('fabs', <built-in function fabs>), ('factorial', <built-in function factorial>), ('floor', <built-in function floor>), ('fmod', <built-in function fmod>), ('frexp', <built-in function frexp>), ('fsum', <built-in function fsum>), ('gamma', <built-in function gamma>), ('gcd', <built-in function gcd>), ('hypot', <built-in function hypot>), ('inf', inf), ('isclose', <built-in function isclose>), ('isfinite', <built-in function isfinite>), ('isinf', <built-in function isinf>), ('isnan', <built-in function isnan>), ('isqrt', <built-in function isqrt>), ('lcm', <built-in function lcm>), ('ldexp', <built-in function ldexp>), ('lgamma', <built-in function lgamma>), ('log', <built-in function log>), ('log10', <built-in function log10>), ('log1p', <built-in function log1p>), ('log2', <built-in function log2>), ('modf', <built-in function modf>), ('nan', nan), ('nextafter', <built-in function nextafter>), ('perm', <built-in function perm>), ('pi', 3.141592653589793), ('pow', <built-in function pow>), ('prod', <built-in function prod>), ('radians', <built-in function radians>), ('remainder', <built-in function remainder>), ('sin', <built-in function sin>), ('sinh', <built-in function sinh>), ('sqrt', <built-in function sqrt>), ('tan', <built-in function tan>), ('tanh', <built-in function tanh>), ('tau', 6.283185307179586), ('trunc', <built-in function trunc>), ('ulp', <built-in function ulp>)]\n"
     ]
    }
   ],
   "source": [
    "import math\n",
    "import inspect\n",
    "\n",
    "members = inspect.getmembers(math)\n",
    "print(members)"
   ]
  },
  {
   "cell_type": "markdown",
   "metadata": {},
   "source": [
    "5. Using `inspect.getfile` and `inspect.getsource` to get the source file and code of a module (Will not work for module which are created dynamically on runtime):"
   ]
  },
  {
   "cell_type": "code",
   "execution_count": 48,
   "metadata": {},
   "outputs": [
    {
     "name": "stdout",
     "output_type": "stream",
     "text": [
      "C:\\Users\\bhmiller\\AppData\\Local\\Packages\\PythonSoftwareFoundation.Python.3.11_qbz5n2kfra8p0\\LocalCache\\local-packages\\Python311\\site-packages\\numpy\\__init__.py\n",
      "\"\"\"\n",
      "NumPy\n",
      "=====\n",
      "\n",
      "Provides\n",
      "  1. An array object of arbitrary homogeneous items\n",
      "  2. Fast mathematical operations over arrays\n",
      "  3. Linear Algebra, Fourier Transforms, Random Number Generation\n",
      "\n",
      "How to use the documentation\n",
      "----------------------------\n",
      "Documentation is available in two forms: docstrings provided\n",
      "with the code, and a loose standing reference guide, available from\n",
      "`the NumPy homepage <https://numpy.org>`_.\n",
      "\n",
      "We recommend exploring the docstrings using\n",
      "`IPython <https://ipython.org>`_, an advanced Python shell with\n",
      "TAB-completion and introspection capabilities.  See below for further\n",
      "instructions.\n",
      "\n",
      "The docstring examples assume that `numpy` has been imported as ``np``::\n",
      "\n",
      "  >>> import numpy as np\n",
      "\n",
      "Code snippets are indicated by three greater-than signs::\n",
      "\n",
      "  >>> x = 42\n",
      "  >>> x = x + 1\n",
      "\n",
      "Use the built-in ``help`` function to view a function's docstring::\n",
      "\n",
      "  >>> help(np.sort)\n",
      "  ... # doctest: +SKIP\n",
      "\n",
      "For some objects, ``np.info(obj)`` may provide additional help.  This is\n",
      "particularly true if you see the line \"Help on ufunc object:\" at the top\n",
      "of the help() page.  Ufuncs are implemented in C, not Python, for speed.\n",
      "The native Python help() does not know how to view their help, but our\n",
      "np.info() function does.\n",
      "\n",
      "To search for documents containing a keyword, do::\n",
      "\n",
      "  >>> np.lookfor('keyword')\n",
      "  ... # doctest: +SKIP\n",
      "\n",
      "General-purpose documents like a glossary and help on the basic concepts\n",
      "of numpy are available under the ``doc`` sub-module::\n",
      "\n",
      "  >>> from numpy import doc\n",
      "  >>> help(doc)\n",
      "  ... # doctest: +SKIP\n",
      "\n",
      "Available subpackages\n",
      "---------------------\n",
      "lib\n",
      "    Basic functions used by several sub-packages.\n",
      "random\n",
      "    Core Random Tools\n",
      "linalg\n",
      "    Core Linear Algebra Tools\n",
      "fft\n",
      "    Core FFT routines\n",
      "polynomial\n",
      "    Polynomial tools\n",
      "testing\n",
      "    NumPy testing tools\n",
      "distutils\n",
      "    Enhancements to distutils with support for\n",
      "    Fortran compilers support and more  (for Python <= 3.11).\n",
      "\n",
      "Utilities\n",
      "---------\n",
      "test\n",
      "    Run numpy unittests\n",
      "show_config\n",
      "    Show numpy build configuration\n",
      "matlib\n",
      "    Make everything matrices.\n",
      "__version__\n",
      "    NumPy version string\n",
      "\n",
      "Viewing documentation using IPython\n",
      "-----------------------------------\n",
      "\n",
      "Start IPython and import `numpy` usually under the alias ``np``: `import\n",
      "numpy as np`.  Then, directly past or use the ``%cpaste`` magic to paste\n",
      "examples into the shell.  To see which functions are available in `numpy`,\n",
      "type ``np.<TAB>`` (where ``<TAB>`` refers to the TAB key), or use\n",
      "``np.*cos*?<ENTER>`` (where ``<ENTER>`` refers to the ENTER key) to narrow\n",
      "down the list.  To view the docstring for a function, use\n",
      "``np.cos?<ENTER>`` (to view the docstring) and ``np.cos??<ENTER>`` (to view\n",
      "the source code).\n",
      "\n",
      "Copies vs. in-place operation\n",
      "-----------------------------\n",
      "Most of the functions in `numpy` return a copy of the array argument\n",
      "(e.g., `np.sort`).  In-place versions of these functions are often\n",
      "available as array methods, i.e. ``x = np.array([1,2,3]); x.sort()``.\n",
      "Exceptions to this rule are documented.\n",
      "\n",
      "\"\"\"\n",
      "\n",
      "\n",
      "# start delvewheel patch\n",
      "def _delvewheel_patch_1_5_1():\n",
      "    import os\n",
      "    libs_dir = os.path.abspath(os.path.join(os.path.dirname(__file__), os.pardir, 'numpy.libs'))\n",
      "    if os.path.isdir(libs_dir):\n",
      "        os.add_dll_directory(libs_dir)\n",
      "\n",
      "\n",
      "_delvewheel_patch_1_5_1()\n",
      "del _delvewheel_patch_1_5_1\n",
      "# end delvewheel patch\n",
      "\n",
      "import sys\n",
      "import warnings\n",
      "\n",
      "from ._globals import _NoValue, _CopyMode\n",
      "# These exceptions were moved in 1.25 and are hidden from __dir__()\n",
      "from .exceptions import (\n",
      "    ComplexWarning, ModuleDeprecationWarning, VisibleDeprecationWarning,\n",
      "    TooHardError, AxisError)\n",
      "\n",
      "\n",
      "# If a version with git hash was stored, use that instead\n",
      "from . import version\n",
      "from .version import __version__\n",
      "\n",
      "# We first need to detect if we're being called as part of the numpy setup\n",
      "# procedure itself in a reliable manner.\n",
      "try:\n",
      "    __NUMPY_SETUP__\n",
      "except NameError:\n",
      "    __NUMPY_SETUP__ = False\n",
      "\n",
      "if __NUMPY_SETUP__:\n",
      "    sys.stderr.write('Running from numpy source directory.\\n')\n",
      "else:\n",
      "    # Allow distributors to run custom init code before importing numpy.core\n",
      "    from . import _distributor_init\n",
      "\n",
      "    try:\n",
      "        from numpy.__config__ import show as show_config\n",
      "    except ImportError as e:\n",
      "        msg = \"\"\"Error importing numpy: you should not try to import numpy from\n",
      "        its source directory; please exit the numpy source tree, and relaunch\n",
      "        your python interpreter from there.\"\"\"\n",
      "        raise ImportError(msg) from e\n",
      "\n",
      "    __all__ = [\n",
      "        'exceptions', 'ModuleDeprecationWarning', 'VisibleDeprecationWarning',\n",
      "        'ComplexWarning', 'TooHardError', 'AxisError']\n",
      "\n",
      "    # mapping of {name: (value, deprecation_msg)}\n",
      "    __deprecated_attrs__ = {}\n",
      "\n",
      "    from . import core\n",
      "    from .core import *\n",
      "    from . import compat\n",
      "    from . import exceptions\n",
      "    from . import dtypes\n",
      "    from . import lib\n",
      "    # NOTE: to be revisited following future namespace cleanup.\n",
      "    # See gh-14454 and gh-15672 for discussion.\n",
      "    from .lib import *\n",
      "\n",
      "    from . import linalg\n",
      "    from . import fft\n",
      "    from . import polynomial\n",
      "    from . import random\n",
      "    from . import ctypeslib\n",
      "    from . import ma\n",
      "    from . import matrixlib as _mat\n",
      "    from .matrixlib import *\n",
      "\n",
      "    # Deprecations introduced in NumPy 1.20.0, 2020-06-06\n",
      "    import builtins as _builtins\n",
      "\n",
      "    _msg = (\n",
      "        \"module 'numpy' has no attribute '{n}'.\\n\"\n",
      "        \"`np.{n}` was a deprecated alias for the builtin `{n}`. \"\n",
      "        \"To avoid this error in existing code, use `{n}` by itself. \"\n",
      "        \"Doing this will not modify any behavior and is safe. {extended_msg}\\n\"\n",
      "        \"The aliases was originally deprecated in NumPy 1.20; for more \"\n",
      "        \"details and guidance see the original release note at:\\n\"\n",
      "        \"    https://numpy.org/devdocs/release/1.20.0-notes.html#deprecations\")\n",
      "\n",
      "    _specific_msg = (\n",
      "        \"If you specifically wanted the numpy scalar type, use `np.{}` here.\")\n",
      "\n",
      "    _int_extended_msg = (\n",
      "        \"When replacing `np.{}`, you may wish to use e.g. `np.int64` \"\n",
      "        \"or `np.int32` to specify the precision. If you wish to review \"\n",
      "        \"your current use, check the release note link for \"\n",
      "        \"additional information.\")\n",
      "\n",
      "    _type_info = [\n",
      "        (\"object\", \"\"),  # The NumPy scalar only exists by name.\n",
      "        (\"bool\", _specific_msg.format(\"bool_\")),\n",
      "        (\"float\", _specific_msg.format(\"float64\")),\n",
      "        (\"complex\", _specific_msg.format(\"complex128\")),\n",
      "        (\"str\", _specific_msg.format(\"str_\")),\n",
      "        (\"int\", _int_extended_msg.format(\"int\"))]\n",
      "\n",
      "    __former_attrs__ = {\n",
      "         n: _msg.format(n=n, extended_msg=extended_msg)\n",
      "         for n, extended_msg in _type_info\n",
      "     }\n",
      "\n",
      "    # Future warning introduced in NumPy 1.24.0, 2022-11-17\n",
      "    _msg = (\n",
      "        \"`np.{n}` is a deprecated alias for `{an}`.  (Deprecated NumPy 1.24)\")\n",
      "\n",
      "    # Some of these are awkward (since `np.str` may be preferable in the long\n",
      "    # term), but overall the names ending in 0 seem undesirable\n",
      "    _type_info = [\n",
      "        (\"bool8\", bool_, \"np.bool_\"),\n",
      "        (\"int0\", intp, \"np.intp\"),\n",
      "        (\"uint0\", uintp, \"np.uintp\"),\n",
      "        (\"str0\", str_, \"np.str_\"),\n",
      "        (\"bytes0\", bytes_, \"np.bytes_\"),\n",
      "        (\"void0\", void, \"np.void\"),\n",
      "        (\"object0\", object_,\n",
      "            \"`np.object0` is a deprecated alias for `np.object_`. \"\n",
      "            \"`object` can be used instead.  (Deprecated NumPy 1.24)\")]\n",
      "\n",
      "    # Some of these could be defined right away, but most were aliases to\n",
      "    # the Python objects and only removed in NumPy 1.24.  Defining them should\n",
      "    # probably wait for NumPy 1.26 or 2.0.\n",
      "    # When defined, these should possibly not be added to `__all__` to avoid\n",
      "    # import with `from numpy import *`.\n",
      "    __future_scalars__ = {\"bool\", \"long\", \"ulong\", \"str\", \"bytes\", \"object\"}\n",
      "\n",
      "    __deprecated_attrs__.update({\n",
      "        n: (alias, _msg.format(n=n, an=an)) for n, alias, an in _type_info})\n",
      "\n",
      "    import math\n",
      "\n",
      "    __deprecated_attrs__['math'] = (math,\n",
      "        \"`np.math` is a deprecated alias for the standard library `math` \"\n",
      "        \"module (Deprecated Numpy 1.25). Replace usages of `np.math` with \"\n",
      "        \"`math`\")\n",
      "\n",
      "    del math, _msg, _type_info\n",
      "\n",
      "    from .core import abs\n",
      "    # now that numpy modules are imported, can initialize limits\n",
      "    core.getlimits._register_known_types()\n",
      "\n",
      "    __all__.extend(['__version__', 'show_config'])\n",
      "    __all__.extend(core.__all__)\n",
      "    __all__.extend(_mat.__all__)\n",
      "    __all__.extend(lib.__all__)\n",
      "    __all__.extend(['linalg', 'fft', 'random', 'ctypeslib', 'ma'])\n",
      "\n",
      "    # Remove min and max from __all__ to avoid `from numpy import *` override\n",
      "    # the builtins min/max. Temporary fix for 1.25.x/1.26.x, see gh-24229.\n",
      "    __all__.remove('min')\n",
      "    __all__.remove('max')\n",
      "    __all__.remove('round')\n",
      "\n",
      "    # Remove one of the two occurrences of `issubdtype`, which is exposed as\n",
      "    # both `numpy.core.issubdtype` and `numpy.lib.issubdtype`.\n",
      "    __all__.remove('issubdtype')\n",
      "\n",
      "    # These are exported by np.core, but are replaced by the builtins below\n",
      "    # remove them to ensure that we don't end up with `np.long == np.int_`,\n",
      "    # which would be a breaking change.\n",
      "    del long, unicode\n",
      "    __all__.remove('long')\n",
      "    __all__.remove('unicode')\n",
      "\n",
      "    # Remove things that are in the numpy.lib but not in the numpy namespace\n",
      "    # Note that there is a test (numpy/tests/test_public_api.py:test_numpy_namespace)\n",
      "    # that prevents adding more things to the main namespace by accident.\n",
      "    # The list below will grow until the `from .lib import *` fixme above is\n",
      "    # taken care of\n",
      "    __all__.remove('Arrayterator')\n",
      "    del Arrayterator\n",
      "\n",
      "    # These names were removed in NumPy 1.20.  For at least one release,\n",
      "    # attempts to access these names in the numpy namespace will trigger\n",
      "    # a warning, and calling the function will raise an exception.\n",
      "    _financial_names = ['fv', 'ipmt', 'irr', 'mirr', 'nper', 'npv', 'pmt',\n",
      "                        'ppmt', 'pv', 'rate']\n",
      "    __expired_functions__ = {\n",
      "        name: (f'In accordance with NEP 32, the function {name} was removed '\n",
      "               'from NumPy version 1.20.  A replacement for this function '\n",
      "               'is available in the numpy_financial library: '\n",
      "               'https://pypi.org/project/numpy-financial')\n",
      "        for name in _financial_names}\n",
      "\n",
      "    # Filter out Cython harmless warnings\n",
      "    warnings.filterwarnings(\"ignore\", message=\"numpy.dtype size changed\")\n",
      "    warnings.filterwarnings(\"ignore\", message=\"numpy.ufunc size changed\")\n",
      "    warnings.filterwarnings(\"ignore\", message=\"numpy.ndarray size changed\")\n",
      "\n",
      "    # oldnumeric and numarray were removed in 1.9. In case some packages import\n",
      "    # but do not use them, we define them here for backward compatibility.\n",
      "    oldnumeric = 'removed'\n",
      "    numarray = 'removed'\n",
      "\n",
      "    def __getattr__(attr):\n",
      "        # Warn for expired attributes, and return a dummy function\n",
      "        # that always raises an exception.\n",
      "        import warnings\n",
      "        import math\n",
      "        try:\n",
      "            msg = __expired_functions__[attr]\n",
      "        except KeyError:\n",
      "            pass\n",
      "        else:\n",
      "            warnings.warn(msg, DeprecationWarning, stacklevel=2)\n",
      "\n",
      "            def _expired(*args, **kwds):\n",
      "                raise RuntimeError(msg)\n",
      "\n",
      "            return _expired\n",
      "\n",
      "        # Emit warnings for deprecated attributes\n",
      "        try:\n",
      "            val, msg = __deprecated_attrs__[attr]\n",
      "        except KeyError:\n",
      "            pass\n",
      "        else:\n",
      "            warnings.warn(msg, DeprecationWarning, stacklevel=2)\n",
      "            return val\n",
      "\n",
      "        if attr in __future_scalars__:\n",
      "            # And future warnings for those that will change, but also give\n",
      "            # the AttributeError\n",
      "            warnings.warn(\n",
      "                f\"In the future `np.{attr}` will be defined as the \"\n",
      "                \"corresponding NumPy scalar.\", FutureWarning, stacklevel=2)\n",
      "\n",
      "        if attr in __former_attrs__:\n",
      "            raise AttributeError(__former_attrs__[attr])\n",
      "\n",
      "        if attr == 'testing':\n",
      "            import numpy.testing as testing\n",
      "            return testing\n",
      "        elif attr == 'Tester':\n",
      "            \"Removed in NumPy 1.25.0\"\n",
      "            raise RuntimeError(\"Tester was removed in NumPy 1.25.\")\n",
      "\n",
      "        raise AttributeError(\"module {!r} has no attribute \"\n",
      "                             \"{!r}\".format(__name__, attr))\n",
      "\n",
      "    def __dir__():\n",
      "        public_symbols = globals().keys() | {'testing'}\n",
      "        public_symbols -= {\n",
      "            \"core\", \"matrixlib\",\n",
      "            # These were moved in 1.25 and may be deprecated eventually:\n",
      "            \"ModuleDeprecationWarning\", \"VisibleDeprecationWarning\",\n",
      "            \"ComplexWarning\", \"TooHardError\", \"AxisError\"\n",
      "        }\n",
      "        return list(public_symbols)\n",
      "\n",
      "    # Pytest testing\n",
      "    from numpy._pytesttester import PytestTester\n",
      "    test = PytestTester(__name__)\n",
      "    del PytestTester\n",
      "\n",
      "    def _sanity_check():\n",
      "        \"\"\"\n",
      "        Quick sanity checks for common bugs caused by environment.\n",
      "        There are some cases e.g. with wrong BLAS ABI that cause wrong\n",
      "        results under specific runtime conditions that are not necessarily\n",
      "        achieved during test suite runs, and it is useful to catch those early.\n",
      "\n",
      "        See https://github.com/numpy/numpy/issues/8577 and other\n",
      "        similar bug reports.\n",
      "\n",
      "        \"\"\"\n",
      "        try:\n",
      "            x = ones(2, dtype=float32)\n",
      "            if not abs(x.dot(x) - float32(2.0)) < 1e-5:\n",
      "                raise AssertionError()\n",
      "        except AssertionError:\n",
      "            msg = (\"The current Numpy installation ({!r}) fails to \"\n",
      "                   \"pass simple sanity checks. This can be caused for example \"\n",
      "                   \"by incorrect BLAS library being linked in, or by mixing \"\n",
      "                   \"package managers (pip, conda, apt, ...). Search closed \"\n",
      "                   \"numpy issues for similar problems.\")\n",
      "            raise RuntimeError(msg.format(__file__)) from None\n",
      "\n",
      "    _sanity_check()\n",
      "    del _sanity_check\n",
      "\n",
      "    def _mac_os_check():\n",
      "        \"\"\"\n",
      "        Quick Sanity check for Mac OS look for accelerate build bugs.\n",
      "        Testing numpy polyfit calls init_dgelsd(LAPACK)\n",
      "        \"\"\"\n",
      "        try:\n",
      "            c = array([3., 2., 1.])\n",
      "            x = linspace(0, 2, 5)\n",
      "            y = polyval(c, x)\n",
      "            _ = polyfit(x, y, 2, cov=True)\n",
      "        except ValueError:\n",
      "            pass\n",
      "\n",
      "    if sys.platform == \"darwin\":\n",
      "        with warnings.catch_warnings(record=True) as w:\n",
      "            _mac_os_check()\n",
      "            # Throw runtime error, if the test failed Check for warning and error_message\n",
      "            error_message = \"\"\n",
      "            if len(w) > 0:\n",
      "                error_message = \"{}: {}\".format(w[-1].category.__name__, str(w[-1].message))\n",
      "                msg = (\n",
      "                    \"Polyfit sanity test emitted a warning, most likely due \"\n",
      "                    \"to using a buggy Accelerate backend.\"\n",
      "                    \"\\nIf you compiled yourself, more information is available at:\"\n",
      "                    \"\\nhttps://numpy.org/doc/stable/user/building.html#accelerated-blas-lapack-libraries\"\n",
      "                    \"\\nOtherwise report this to the vendor \"\n",
      "                    \"that provided NumPy.\\n{}\\n\".format(error_message))\n",
      "                raise RuntimeError(msg)\n",
      "    del _mac_os_check\n",
      "\n",
      "    # We usually use madvise hugepages support, but on some old kernels it\n",
      "    # is slow and thus better avoided.\n",
      "    # Specifically kernel version 4.6 had a bug fix which probably fixed this:\n",
      "    # https://github.com/torvalds/linux/commit/7cf91a98e607c2f935dbcc177d70011e95b8faff\n",
      "    import os\n",
      "    use_hugepage = os.environ.get(\"NUMPY_MADVISE_HUGEPAGE\", None)\n",
      "    if sys.platform == \"linux\" and use_hugepage is None:\n",
      "        # If there is an issue with parsing the kernel version,\n",
      "        # set use_hugepages to 0. Usage of LooseVersion will handle\n",
      "        # the kernel version parsing better, but avoided since it\n",
      "        # will increase the import time. See: #16679 for related discussion.\n",
      "        try:\n",
      "            use_hugepage = 1\n",
      "            kernel_version = os.uname().release.split(\".\")[:2]\n",
      "            kernel_version = tuple(int(v) for v in kernel_version)\n",
      "            if kernel_version < (4, 6):\n",
      "                use_hugepage = 0\n",
      "        except ValueError:\n",
      "            use_hugepages = 0\n",
      "    elif use_hugepage is None:\n",
      "        # This is not Linux, so it should not matter, just enable anyway\n",
      "        use_hugepage = 1\n",
      "    else:\n",
      "        use_hugepage = int(use_hugepage)\n",
      "\n",
      "    # Note that this will currently only make a difference on Linux\n",
      "    core.multiarray._set_madvise_hugepage(use_hugepage)\n",
      "    del use_hugepage\n",
      "\n",
      "    # Give a warning if NumPy is reloaded or imported on a sub-interpreter\n",
      "    # We do this from python, since the C-module may not be reloaded and\n",
      "    # it is tidier organized.\n",
      "    core.multiarray._multiarray_umath._reload_guard()\n",
      "\n",
      "    # default to \"weak\" promotion for \"NumPy 2\".\n",
      "    core._set_promotion_state(\n",
      "        os.environ.get(\"NPY_PROMOTION_STATE\",\n",
      "                       \"weak\" if _using_numpy2_behavior() else \"legacy\"))\n",
      "\n",
      "    # Tell PyInstaller where to find hook-numpy.py\n",
      "    def _pyinstaller_hooks_dir():\n",
      "        from pathlib import Path\n",
      "        return [str(Path(__file__).with_name(\"_pyinstaller\").resolve())]\n",
      "\n",
      "    # Remove symbols imported for internal use\n",
      "    del os\n",
      "\n",
      "\n",
      "# Remove symbols imported for internal use\n",
      "del sys, warnings\n",
      "\n"
     ]
    }
   ],
   "source": [
    "import numpy as np\n",
    "import inspect\n",
    "\n",
    "file = inspect.getfile(np)\n",
    "print(file)\n",
    "print(inspect.getsource(np))"
   ]
  },
  {
   "cell_type": "markdown",
   "metadata": {},
   "source": [
    "6. Using `inspect.getmodule` to get the module object from a function or class:"
   ]
  },
  {
   "cell_type": "code",
   "execution_count": 49,
   "metadata": {},
   "outputs": [
    {
     "name": "stdout",
     "output_type": "stream",
     "text": [
      "<module '__main__'>\n"
     ]
    }
   ],
   "source": [
    "import math\n",
    "import inspect\n",
    "\n",
    "\n",
    "def square(x):\n",
    "    return x**2\n",
    "\n",
    "\n",
    "module = inspect.getmodule(square)\n",
    "print(module)"
   ]
  },
  {
   "cell_type": "markdown",
   "metadata": {},
   "source": [
    "## Callable\n",
    "\n",
    "Any `object` that can be called using `()` is called **`callable`**. A `callable` always returns a value.\n",
    "\n",
    "`functions`, `methods`, `classes` are some of the `callable` in python. But it goes beyond that."
   ]
  },
  {
   "cell_type": "markdown",
   "metadata": {},
   "source": [
    "### built-in functions are callable"
   ]
  },
  {
   "cell_type": "code",
   "execution_count": 50,
   "metadata": {},
   "outputs": [
    {
     "name": "stdout",
     "output_type": "stream",
     "text": [
      "callable(print) = True\n",
      "callable(len) = True\n",
      "callable(any) = True\n"
     ]
    }
   ],
   "source": [
    "print(f\"{callable(print) = }\")\n",
    "print(f\"{callable(len) = }\")\n",
    "print(f\"{callable(any) = }\")"
   ]
  },
  {
   "cell_type": "markdown",
   "metadata": {},
   "source": [
    "### built-in methods are callable"
   ]
  },
  {
   "cell_type": "code",
   "execution_count": 51,
   "metadata": {},
   "outputs": [
    {
     "name": "stdout",
     "output_type": "stream",
     "text": [
      "callable(str.upper) = True\n",
      "callable(list.append) = True\n"
     ]
    }
   ],
   "source": [
    "print(f\"{callable(str.upper) = }\")\n",
    "print(f\"{callable(list.append) = }\")"
   ]
  },
  {
   "cell_type": "markdown",
   "metadata": {},
   "source": [
    "### user define function or methods are callable"
   ]
  },
  {
   "cell_type": "code",
   "execution_count": 52,
   "metadata": {},
   "outputs": [
    {
     "name": "stdout",
     "output_type": "stream",
     "text": [
      "callable(add) = True\n",
      "callable(mul) = True\n"
     ]
    }
   ],
   "source": [
    "def add(num1, num2):\n",
    "    return num1 + num2\n",
    "\n",
    "\n",
    "mul = lambda num1, num2: num1 * num2\n",
    "\n",
    "print(f\"{callable(add) = }\")\n",
    "print(f\"{callable(mul) = }\")"
   ]
  },
  {
   "cell_type": "markdown",
   "metadata": {},
   "source": [
    "### classes and methods (function bound to an object) are callable\n",
    "\n",
    "Objects can also be callable if the class implements __call__ method."
   ]
  },
  {
   "cell_type": "code",
   "execution_count": 53,
   "metadata": {},
   "outputs": [
    {
     "name": "stdout",
     "output_type": "stream",
     "text": [
      "callable(Counter) = True\n",
      "callable(Counter.current) = True\n",
      "callable(counter.current) = True\n",
      "callable(counter) = True\n"
     ]
    }
   ],
   "source": [
    "class Counter:\n",
    "    def __init__(self):\n",
    "        self._count = 0\n",
    "\n",
    "    def __call__(self):\n",
    "        self._count += 1\n",
    "        return self._count\n",
    "\n",
    "    def current(self):\n",
    "        return self._count\n",
    "\n",
    "\n",
    "counter = Counter()\n",
    "\n",
    "print(f\"{callable(Counter) = }\")\n",
    "print(f\"{callable(Counter.current) = }\")\n",
    "print(f\"{callable(counter.current) = }\")\n",
    "print(f\"{callable(counter) = }\")"
   ]
  },
  {
   "cell_type": "markdown",
   "metadata": {},
   "source": [
    "### Generators are callable (discussed in details later section)"
   ]
  },
  {
   "cell_type": "code",
   "execution_count": 54,
   "metadata": {},
   "outputs": [
    {
     "data": {
      "text/plain": [
       "True"
      ]
     },
     "execution_count": 54,
     "metadata": {},
     "output_type": "execute_result"
    }
   ],
   "source": [
    "def square():\n",
    "    for i in range(10):\n",
    "        yield i**2\n",
    "\n",
    "\n",
    "callable(square)"
   ]
  },
  {
   "cell_type": "markdown",
   "metadata": {},
   "source": [
    "## Decorator\n",
    "\n",
    "Most of the decorator from standard library are mentioned here: [wiki.python.org - Decorators](https://wiki.python.org/moin/Decorators)\n",
    "\n",
    "In simple term decorator `accepts` a `callable` and `returns` a `callable`."
   ]
  },
  {
   "cell_type": "code",
   "execution_count": 55,
   "metadata": {},
   "outputs": [],
   "source": [
    "# Closure\n",
    "\n",
    "\n",
    "def outer_func():\n",
    "    # outer_func body before inner_func\n",
    "    def inner_func():\n",
    "        \"inner_func body\"\n",
    "\n",
    "    # outer_func body after inner_func\n",
    "    return inner_func"
   ]
  },
  {
   "cell_type": "code",
   "execution_count": 56,
   "metadata": {},
   "outputs": [],
   "source": [
    "def trace(func):\n",
    "    def call(*args, **kwargs):\n",
    "        # print(\"Calling {} with args={} and kwargs={}\".format(func.__name__, args, kwargs))\n",
    "        print(f\"Caling {func.__name__} with {args = } and {kwargs = }\")\n",
    "        return func(*args, **kwargs)\n",
    "\n",
    "    return call"
   ]
  },
  {
   "cell_type": "code",
   "execution_count": 57,
   "metadata": {},
   "outputs": [],
   "source": [
    "def add(num1, num2):\n",
    "    return num1 + num2"
   ]
  },
  {
   "cell_type": "markdown",
   "metadata": {},
   "source": [
    "`add` func is an object which is store in memory in some location."
   ]
  },
  {
   "cell_type": "code",
   "execution_count": 58,
   "metadata": {},
   "outputs": [
    {
     "name": "stdout",
     "output_type": "stream",
     "text": [
      "hex(id(add)) = '0x19624a1ea20'\n"
     ]
    }
   ],
   "source": [
    "print(f\"{hex(id(add)) = }\")"
   ]
  },
  {
   "cell_type": "code",
   "execution_count": 59,
   "metadata": {},
   "outputs": [
    {
     "data": {
      "text/plain": [
       "5"
      ]
     },
     "execution_count": 59,
     "metadata": {},
     "output_type": "execute_result"
    }
   ],
   "source": [
    "add(2, 3)"
   ]
  },
  {
   "cell_type": "markdown",
   "metadata": {},
   "source": [
    "You can actually pass `add` to `trace` function as in python we support `high order function`. This will return a new function (note the address is different)"
   ]
  },
  {
   "cell_type": "code",
   "execution_count": 60,
   "metadata": {},
   "outputs": [],
   "source": [
    "add = trace(add)"
   ]
  },
  {
   "cell_type": "code",
   "execution_count": 61,
   "metadata": {},
   "outputs": [
    {
     "name": "stdout",
     "output_type": "stream",
     "text": [
      "hex(id(add)) = '0x1962477fc40'\n"
     ]
    }
   ],
   "source": [
    "print(f\"{hex(id(add)) = }\")"
   ]
  },
  {
   "cell_type": "code",
   "execution_count": 62,
   "metadata": {},
   "outputs": [
    {
     "name": "stdout",
     "output_type": "stream",
     "text": [
      "add.__code__.co_freevars = ('func',)\n",
      "add.__closure__ = (<cell at 0x0000019624B85E10: function object at 0x0000019624A1EA20>,)\n"
     ]
    }
   ],
   "source": [
    "print(f\"{add.__code__.co_freevars = }\")\n",
    "print(f\"{add.__closure__ = }\")"
   ]
  },
  {
   "cell_type": "markdown",
   "metadata": {},
   "source": [
    "The part in trace will be part of the new add function"
   ]
  },
  {
   "cell_type": "code",
   "execution_count": 63,
   "metadata": {},
   "outputs": [
    {
     "name": "stdout",
     "output_type": "stream",
     "text": [
      "Caling add with args = (2, 3) and kwargs = {}\n"
     ]
    },
    {
     "data": {
      "text/plain": [
       "5"
      ]
     },
     "execution_count": 63,
     "metadata": {},
     "output_type": "execute_result"
    }
   ],
   "source": [
    "add(2, 3)"
   ]
  },
  {
   "cell_type": "code",
   "execution_count": 64,
   "metadata": {},
   "outputs": [],
   "source": [
    "def gravitational_force(mass1, mass2, distance, gravitational_constant=6.67430e-11):\n",
    "    force = gravitational_constant * (mass1 * mass2) / (distance**2)\n",
    "    return force"
   ]
  },
  {
   "cell_type": "code",
   "execution_count": 65,
   "metadata": {},
   "outputs": [],
   "source": [
    "gravitational_force = trace(gravitational_force)"
   ]
  },
  {
   "cell_type": "code",
   "execution_count": 66,
   "metadata": {},
   "outputs": [
    {
     "name": "stdout",
     "output_type": "stream",
     "text": [
      "Caling gravitational_force with args = (5.972e+24, 7.3477e+22) and kwargs = {'distance': 384400000.0}\n",
      "The gravitational force between the Earth and the Moon is 1.98e+20 Newtons.\n"
     ]
    }
   ],
   "source": [
    "mass1 = 5.972e24  # Mass of the Earth in kilograms\n",
    "mass2 = 7.3477e22  # Mass of the Moon in kilograms\n",
    "distance = 384400e3  # Distance between the Earth and the Moon in meters\n",
    "\n",
    "force = gravitational_force(mass1, mass2, distance=distance)\n",
    "print(f\"The gravitational force between the Earth and the Moon is {force:.2e} Newtons.\")"
   ]
  },
  {
   "cell_type": "code",
   "execution_count": 67,
   "metadata": {},
   "outputs": [],
   "source": [
    "@trace\n",
    "def add(num1, num2):\n",
    "    return num1 + num2\n",
    "\n",
    "\n",
    "@trace\n",
    "def gravitational_force(mass1, mass2, distance, gravitational_constant=6.67430e-11):\n",
    "    force = gravitational_constant * (mass1 * mass2) / (distance**2)\n",
    "    return force"
   ]
  },
  {
   "cell_type": "code",
   "execution_count": 68,
   "metadata": {},
   "outputs": [
    {
     "name": "stdout",
     "output_type": "stream",
     "text": [
      "Caling add with args = (2, 3) and kwargs = {}\n"
     ]
    },
    {
     "data": {
      "text/plain": [
       "5"
      ]
     },
     "execution_count": 68,
     "metadata": {},
     "output_type": "execute_result"
    }
   ],
   "source": [
    "add(2, 3)"
   ]
  },
  {
   "cell_type": "code",
   "execution_count": null,
   "metadata": {},
   "outputs": [],
   "source": [
    "mass1 = 5.972e24  # Mass of the Earth in kilograms\n",
    "mass2 = 7.3477e22  # Mass of the Moon in kilograms\n",
    "distance = 384400e3  # Distance between the Earth and the Moon in meters\n",
    "\n",
    "force = gravitational_force(mass1, mass2, distance=distance)\n",
    "print(f\"The gravitational force between the Earth and the Moon is {force:.2e} Newtons.\")"
   ]
  },
  {
   "cell_type": "markdown",
   "metadata": {},
   "source": [
    "### Introspecting a decorator"
   ]
  },
  {
   "cell_type": "code",
   "execution_count": 69,
   "metadata": {},
   "outputs": [
    {
     "data": {
      "text/plain": [
       "'call'"
      ]
     },
     "execution_count": 69,
     "metadata": {},
     "output_type": "execute_result"
    }
   ],
   "source": [
    "add.__name__  # name should have been 'add'"
   ]
  },
  {
   "cell_type": "code",
   "execution_count": 70,
   "metadata": {},
   "outputs": [
    {
     "name": "stdout",
     "output_type": "stream",
     "text": [
      "Help on function call in module __main__:\n",
      "\n",
      "call(*args, **kwargs)\n",
      "\n"
     ]
    }
   ],
   "source": [
    "help(add)  # docstring as well as original function signature is also lost"
   ]
  },
  {
   "cell_type": "code",
   "execution_count": 71,
   "metadata": {},
   "outputs": [],
   "source": [
    "def trace(func):\n",
    "    def call(*args, **kwargs):\n",
    "        # print(\"Calling {} with args={} and kwargs={}\".format(func.__name__, args, kwargs))\n",
    "        print(f\"Caling {func.__name__} with {args = } and {kwargs = }\")\n",
    "        return func(*args, **kwargs)\n",
    "\n",
    "    call.__name__ = func.__name__\n",
    "    call.__doc__ = func.__doc__\n",
    "    return call"
   ]
  },
  {
   "cell_type": "markdown",
   "metadata": {},
   "source": [
    "### functools.wraps"
   ]
  },
  {
   "cell_type": "code",
   "execution_count": 72,
   "metadata": {},
   "outputs": [],
   "source": [
    "import functools\n",
    "\n",
    "\n",
    "def trace(func):\n",
    "    @functools.wraps(func)\n",
    "    def call(*args, **kwargs):\n",
    "        # print(\"Calling {} with args={} and kwargs={}\".format(func.__name__, args, kwargs))\n",
    "        print(f\"Caling {func.__name__} with {args = } and {kwargs = }\")\n",
    "        return func(*args, **kwargs)\n",
    "\n",
    "    return call"
   ]
  },
  {
   "cell_type": "code",
   "execution_count": 73,
   "metadata": {},
   "outputs": [],
   "source": [
    "@trace\n",
    "def add(num1, num2):\n",
    "    return num1 + num2"
   ]
  },
  {
   "cell_type": "code",
   "execution_count": 74,
   "metadata": {},
   "outputs": [
    {
     "data": {
      "text/plain": [
       "'add'"
      ]
     },
     "execution_count": 74,
     "metadata": {},
     "output_type": "execute_result"
    }
   ],
   "source": [
    "add.__name__"
   ]
  },
  {
   "cell_type": "code",
   "execution_count": 75,
   "metadata": {},
   "outputs": [
    {
     "name": "stdout",
     "output_type": "stream",
     "text": [
      "Help on function add in module __main__:\n",
      "\n",
      "add(num1, num2)\n",
      "\n"
     ]
    }
   ],
   "source": [
    "help(add)"
   ]
  },
  {
   "cell_type": "markdown",
   "metadata": {},
   "source": [
    "### Decorators with parameters\n",
    "\n",
    "You will see lot of built-in decorator which also allows you to pass parametes (`@lru_cache(maxsize=256)`)"
   ]
  },
  {
   "cell_type": "code",
   "execution_count": 76,
   "metadata": {},
   "outputs": [
    {
     "name": "stdout",
     "output_type": "stream",
     "text": [
      "Running S3 cycle\n",
      "Running S3 cycle\n",
      "Running S3 cycle\n",
      "Running S3 cycle\n",
      "Running S3 cycle\n"
     ]
    }
   ],
   "source": [
    "def run_multiple_times(func, num_times):\n",
    "    def wrapper(*args, **kwargs):\n",
    "        for _ in range(num_times):\n",
    "            func(*args, **kwargs)\n",
    "\n",
    "    return wrapper\n",
    "\n",
    "\n",
    "def run_s3_cycle():\n",
    "    print(\"Running S3 cycle\")\n",
    "\n",
    "\n",
    "run_s3_cycle_5_times = run_multiple_times(run_s3_cycle, 5)\n",
    "\n",
    "run_s3_cycle_5_times()"
   ]
  },
  {
   "cell_type": "markdown",
   "metadata": {},
   "source": [
    "Will this work?"
   ]
  },
  {
   "cell_type": "code",
   "execution_count": 77,
   "metadata": {
    "tags": [
     "raises-exception"
    ]
   },
   "outputs": [
    {
     "ename": "TypeError",
     "evalue": "run_multiple_times() missing 1 required positional argument: 'num_times'",
     "output_type": "error",
     "traceback": [
      "\u001b[1;31m---------------------------------------------------------------------------\u001b[0m",
      "\u001b[1;31mTypeError\u001b[0m                                 Traceback (most recent call last)",
      "\u001b[1;32mc:\\Users\\bhmiller\\OneDrive - Intel Corporation\\Documents\\GitHub\\intermediate-python\\content\\05_other_functions_concepts.ipynb Cell 116\u001b[0m line \u001b[0;36m1\n\u001b[1;32m----> <a href='vscode-notebook-cell:/c%3A/Users/bhmiller/OneDrive%20-%20Intel%20Corporation/Documents/GitHub/intermediate-python/content/05_other_functions_concepts.ipynb#Y221sZmlsZQ%3D%3D?line=0'>1</a>\u001b[0m \u001b[39m@run_multiple_times\u001b[39m(\u001b[39m5\u001b[39;49m)\n\u001b[0;32m      <a href='vscode-notebook-cell:/c%3A/Users/bhmiller/OneDrive%20-%20Intel%20Corporation/Documents/GitHub/intermediate-python/content/05_other_functions_concepts.ipynb#Y221sZmlsZQ%3D%3D?line=1'>2</a>\u001b[0m \u001b[39mdef\u001b[39;00m \u001b[39mrun_s3_cycle\u001b[39m():\n\u001b[0;32m      <a href='vscode-notebook-cell:/c%3A/Users/bhmiller/OneDrive%20-%20Intel%20Corporation/Documents/GitHub/intermediate-python/content/05_other_functions_concepts.ipynb#Y221sZmlsZQ%3D%3D?line=2'>3</a>\u001b[0m     \u001b[39mprint\u001b[39m(\u001b[39m\"\u001b[39m\u001b[39mRunning S3 cycle\u001b[39m\u001b[39m\"\u001b[39m)\n\u001b[0;32m      <a href='vscode-notebook-cell:/c%3A/Users/bhmiller/OneDrive%20-%20Intel%20Corporation/Documents/GitHub/intermediate-python/content/05_other_functions_concepts.ipynb#Y221sZmlsZQ%3D%3D?line=5'>6</a>\u001b[0m run_s3_cycle()\n",
      "\u001b[1;31mTypeError\u001b[0m: run_multiple_times() missing 1 required positional argument: 'num_times'"
     ]
    }
   ],
   "source": [
    "@run_multiple_times(5)\n",
    "def run_s3_cycle():\n",
    "    print(\"Running S3 cycle\")\n",
    "\n",
    "\n",
    "run_s3_cycle()"
   ]
  },
  {
   "cell_type": "code",
   "execution_count": 78,
   "metadata": {},
   "outputs": [
    {
     "ename": "TypeError",
     "evalue": "run_multiple_times() missing 1 required positional argument: 'num_times'",
     "output_type": "error",
     "traceback": [
      "\u001b[1;31m---------------------------------------------------------------------------\u001b[0m",
      "\u001b[1;31mTypeError\u001b[0m                                 Traceback (most recent call last)",
      "\u001b[1;32mc:\\Users\\bhmiller\\OneDrive - Intel Corporation\\Documents\\GitHub\\intermediate-python\\content\\05_other_functions_concepts.ipynb Cell 117\u001b[0m line \u001b[0;36m1\n\u001b[1;32m----> <a href='vscode-notebook-cell:/c%3A/Users/bhmiller/OneDrive%20-%20Intel%20Corporation/Documents/GitHub/intermediate-python/content/05_other_functions_concepts.ipynb#Y222sZmlsZQ%3D%3D?line=0'>1</a>\u001b[0m decorator \u001b[39m=\u001b[39m run_multiple_times(\u001b[39m5\u001b[39;49m)  \u001b[39m# This should return the run_multiple_times with parameter num_times parameter set to 5\u001b[39;00m\n\u001b[0;32m      <a href='vscode-notebook-cell:/c%3A/Users/bhmiller/OneDrive%20-%20Intel%20Corporation/Documents/GitHub/intermediate-python/content/05_other_functions_concepts.ipynb#Y222sZmlsZQ%3D%3D?line=2'>3</a>\u001b[0m \u001b[39m@decorator\u001b[39m\n\u001b[0;32m      <a href='vscode-notebook-cell:/c%3A/Users/bhmiller/OneDrive%20-%20Intel%20Corporation/Documents/GitHub/intermediate-python/content/05_other_functions_concepts.ipynb#Y222sZmlsZQ%3D%3D?line=3'>4</a>\u001b[0m \u001b[39mdef\u001b[39;00m \u001b[39mrun_s3_cycle\u001b[39m():\n\u001b[0;32m      <a href='vscode-notebook-cell:/c%3A/Users/bhmiller/OneDrive%20-%20Intel%20Corporation/Documents/GitHub/intermediate-python/content/05_other_functions_concepts.ipynb#Y222sZmlsZQ%3D%3D?line=4'>5</a>\u001b[0m     \u001b[39mprint\u001b[39m(\u001b[39m\"\u001b[39m\u001b[39mRunning S3 cycle\u001b[39m\u001b[39m\"\u001b[39m)\n",
      "\u001b[1;31mTypeError\u001b[0m: run_multiple_times() missing 1 required positional argument: 'num_times'"
     ]
    }
   ],
   "source": [
    "decorator = run_multiple_times(5)  # This should return the run_multiple_times with parameter num_times parameter set to 5\n",
    "\n",
    "@decorator\n",
    "def run_s3_cycle():\n",
    "    print(\"Running S3 cycle\")"
   ]
  },
  {
   "cell_type": "code",
   "execution_count": 79,
   "metadata": {},
   "outputs": [],
   "source": [
    "# Use nested closures\n",
    "\n",
    "import time\n",
    "\n",
    "\n",
    "def run_multiple_times(num_times):\n",
    "    def inner_decorator(func):\n",
    "        def wrapper(*args, **kwargs):\n",
    "            for _ in range(num_times):\n",
    "                func(*args, **kwargs)\n",
    "\n",
    "        return wrapper\n",
    "\n",
    "    return inner_decorator"
   ]
  },
  {
   "cell_type": "code",
   "execution_count": 80,
   "metadata": {},
   "outputs": [
    {
     "name": "stdout",
     "output_type": "stream",
     "text": [
      "Running S3 cycle\n",
      "Running S3 cycle\n",
      "Running S3 cycle\n",
      "Running S3 cycle\n",
      "Running S3 cycle\n"
     ]
    }
   ],
   "source": [
    "def run_s3_cycle():\n",
    "    print(\"Running S3 cycle\")\n",
    "\n",
    "\n",
    "run_s3_cycle_5_times = run_multiple_times(5)(run_s3_cycle)\n",
    "run_s3_cycle_5_times()"
   ]
  },
  {
   "cell_type": "markdown",
   "metadata": {},
   "source": [
    "This is an instance of [**Currying**](https://en.wikipedia.org/wiki/Currying)"
   ]
  },
  {
   "cell_type": "code",
   "execution_count": 83,
   "metadata": {},
   "outputs": [
    {
     "name": "stdout",
     "output_type": "stream",
     "text": [
      "Running S3 cycle\n",
      "Running S3 cycle\n",
      "Running S3 cycle\n",
      "Running S3 cycle\n",
      "Running S3 cycle\n"
     ]
    }
   ],
   "source": [
    "@run_multiple_times(5)\n",
    "def run_s3_cycle():\n",
    "    print(\"Running S3 cycle\")\n",
    "\n",
    "\n",
    "run_s3_cycle()"
   ]
  },
  {
   "cell_type": "markdown",
   "metadata": {},
   "source": [
    "`run_multiple_times` is generally refered to as a `decorator factory` since it generates a decorator."
   ]
  },
  {
   "cell_type": "markdown",
   "metadata": {},
   "source": [
    "### Decorator for caching"
   ]
  },
  {
   "cell_type": "code",
   "execution_count": 84,
   "metadata": {},
   "outputs": [],
   "source": [
    "import time\n",
    "\n",
    "\n",
    "def some_computational_task(num1, num2):\n",
    "    print(f\"Doing some computation for {num1 = } and {num2 =}\")\n",
    "    time.sleep(2)\n",
    "    return num1 + num2"
   ]
  },
  {
   "cell_type": "code",
   "execution_count": 85,
   "metadata": {},
   "outputs": [
    {
     "name": "stdout",
     "output_type": "stream",
     "text": [
      "Doing some computation for num1 = 3 and num2 =5\n",
      "some_computational_task(3, 5) = 8\n",
      "Doing some computation for num1 = 3 and num2 =5\n",
      "some_computational_task(3, 5) = 8\n",
      "Doing some computation for num1 = 3 and num2 =5\n",
      "some_computational_task(3, 5) = 8\n"
     ]
    }
   ],
   "source": [
    "print(f\"{some_computational_task(3, 5) = }\")\n",
    "print(f\"{some_computational_task(3, 5) = }\")\n",
    "print(f\"{some_computational_task(3, 5) = }\")"
   ]
  },
  {
   "cell_type": "code",
   "execution_count": 86,
   "metadata": {},
   "outputs": [],
   "source": [
    "import pickle\n",
    "\n",
    "\n",
    "def cache(func):\n",
    "    seen = {}\n",
    "\n",
    "    def wrapper(*args, **kwargs):\n",
    "        key = (pickle.dumps(args), pickle.dumps(kwargs))\n",
    "\n",
    "        if key not in seen:\n",
    "            result = func(*args, **kwargs)\n",
    "            seen[key] = result\n",
    "\n",
    "        return seen[key]\n",
    "\n",
    "    return wrapper"
   ]
  },
  {
   "cell_type": "code",
   "execution_count": 87,
   "metadata": {},
   "outputs": [],
   "source": [
    "@cache\n",
    "def some_computational_task(num1, num2):\n",
    "    print(f\"Doing some computation for {num1 = } and {num2 =}\")\n",
    "    time.sleep(2)\n",
    "    return num1 + num2"
   ]
  },
  {
   "cell_type": "code",
   "execution_count": 88,
   "metadata": {},
   "outputs": [
    {
     "name": "stdout",
     "output_type": "stream",
     "text": [
      "Doing some computation for num1 = 3 and num2 =5\n",
      "some_computational_task(3, 5) = 8\n",
      "some_computational_task(3, 5) = 8\n",
      "some_computational_task(3, 5) = 8\n"
     ]
    }
   ],
   "source": [
    "print(f\"{some_computational_task(3, 5) = }\")\n",
    "print(f\"{some_computational_task(3, 5) = }\")\n",
    "print(f\"{some_computational_task(3, 5) = }\")"
   ]
  },
  {
   "cell_type": "markdown",
   "metadata": {},
   "source": [
    "**Best PyCon talk on decorator**\n",
    "\n",
    "[![](https://img.youtube.com/vi/MjHpMCIvwsY/0.jpg)](https://youtu.be/MjHpMCIvwsY)"
   ]
  },
  {
   "cell_type": "markdown",
   "metadata": {},
   "source": [
    "\\[<< [Namespace, Scope and Closure](./04_namespaces_scopes_and_closures.ipynb) | [Index](./00_index.ipynb) | [Sequence, Iterator and Generator](./06_sequence_iterators_and_generators.ipynb) >>\\]"
   ]
  }
 ],
 "metadata": {
  "kernelspec": {
   "display_name": "Python 3 (ipykernel)",
   "language": "python",
   "name": "python3"
  },
  "language_info": {
   "codemirror_mode": {
    "name": "ipython",
    "version": 3
   },
   "file_extension": ".py",
   "mimetype": "text/x-python",
   "name": "python",
   "nbconvert_exporter": "python",
   "pygments_lexer": "ipython3",
   "version": "3.11.6"
  }
 },
 "nbformat": 4,
 "nbformat_minor": 4
}
